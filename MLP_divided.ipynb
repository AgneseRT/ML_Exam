{
  "cells": [
    {
      "cell_type": "markdown",
      "metadata": {
        "id": "view-in-github",
        "colab_type": "text"
      },
      "source": [
        "<a href=\"https://colab.research.google.com/github/AgneseRT/ML_Exam/blob/main/MLP_divided.ipynb\" target=\"_parent\"><img src=\"https://colab.research.google.com/assets/colab-badge.svg\" alt=\"Open In Colab\"/></a>"
      ]
    },
    {
      "cell_type": "markdown",
      "metadata": {
        "id": "UntmD72m36Ab"
      },
      "source": [
        "# Tumoral Histology Lung Cancer Identification\n",
        "  \n",
        "<b> Lung cancer is nowadays the major tumour-related mortality cause, with non-small cell lung cancer (NSCLC) corresponding to 85% of the incidences. Adenocarcinoma (Adk) and Squamous cell carcinoma (Scc) are two of the most common types of NSCLC, manage to distinguish between those is crucial to determine appropriate treatment decisions. The tumour presence is primarily diagnosed through imaging, then the information on the histological subtype is obtained through biopsy. Recently, Radiomics has allowed to extract quantitative information, labelled as Radiomics features, from medical images.  The idea behind is that histological and pathological information are hidden inside the images'pixel distribution so, in principle, is possible to correlate those features to tissue properties. Building a radiomics classifier that distinguishes between Adk and Scc could improve both patient life quality and clinical outcome. </b>\n",
        "\n",
        "## Introduction\n",
        "\n",
        "In this work, 3 different Dataset are considered, all provided by the I.R.C.C.S. San Matteo of Pavia. The imaging technique considered is the Computed Tomography (CT), which produces detailed cross-sectional body images through X-Rays. For each image considered, the Region of interest (ROI), corresponding to the tumoral lesion, has been segmented by clinicians. The ROI corresponds to the image part through which radiomics features are extracted.\n",
        "For each dataset, just patients with complete information are considered (CT acquisition, ROI, and target).\n",
        "The first dataset contains 135 patients, the second one 56, and the third one 30. The datasets are private, as an example an image is shown.\n",
        "\n",
        "![picture](https://drive.google.com/uc?export=view&id=1rOZGJmM5bG0mgGf9POB9e8CfXEpdcACT)   \n",
        "\n",
        "Pyradiomics has been used for features extraction (https://pyradiomics.readthedocs.io/en/latest/). All radiomics features are sensitive to images parameters, in particular to grayscale and to the voxel dimension. For this reason, is important to normalize images before extracting features. CT images grayscale spans from black to white and is defined by the Hounsfield Unit (HU), which range is [-1000, +3000]. This range is the same for each CT image, so it is not necessary to normalize the gray levels between the images. The scenario changes concerning voxel sizes, which fluctuates between images. For this reason, every image has been resampled to an isotropic voxel with a linear dimension of 0.8 mm.\n",
        "\n",
        "Considering that the whole dataset was composed by 221 patients, I applied a well-known data augmentation method, rotating the images of the three dataset.\n",
        "To do so is necessary to:\n",
        "- import nibabel as nib (Python package dedicated to nifti images)\n",
        "- read images: image = nib.read(path to the image)\n",
        "- extract data from images to obtain image as a np array: image_data = image.get_fdata()\n",
        "- define the rotation matrix (in this case I have used (1, 0, 2))\n",
        "- transpose the image_data: reoriented_data = np.transpose(image_data, (1, 0, 2))\n",
        "- define the new image considering the transposed data and the affine matrix of the original data: reoriented_img = nib.Nifti1Image(reoriented_data, image.affine)\n",
        "\n",
        "It is required to apply the aforementioned process both to images and ROIs, and randomly check that the transposed image is actually mirroring the original one.\n",
        "Once the transposed datasets are available, the features can be extracted from these to enlarge the dataset.\n"
      ]
    },
    {
      "cell_type": "code",
      "execution_count": null,
      "metadata": {
        "colab": {
          "base_uri": "https://localhost:8080/"
        },
        "id": "5-z50xzUgEGG",
        "outputId": "f15950cd-31c9-49e9-83ca-bdb153d9ec56"
      },
      "outputs": [
        {
          "output_type": "stream",
          "name": "stdout",
          "text": [
            "Mounted at /content/drive\n"
          ]
        }
      ],
      "source": [
        "from google.colab import drive\n",
        "drive.mount('/content/drive', force_remount=True)"
      ]
    },
    {
      "cell_type": "code",
      "execution_count": 1,
      "metadata": {
        "id": "4OMAZgtyXIwY"
      },
      "outputs": [],
      "source": [
        "import os\n",
        "import glob\n",
        "import numpy as np\n",
        "import matplotlib.pyplot as plt\n",
        "import pandas as pd\n",
        "import seaborn as sns\n",
        "from sklearn.feature_selection import RFE\n",
        "from sklearn.ensemble import RandomForestClassifier\n",
        "from sklearn.model_selection import KFold\n",
        "from sklearn.metrics import balanced_accuracy_score, classification_report, confusion_matrix, roc_curve, roc_auc_score\n",
        "import warnings\n",
        "import xgboost as xgb\n",
        "\n",
        "%matplotlib inline\n",
        "import tensorflow as tf\n",
        "from tensorflow import keras\n",
        "from tensorflow.keras.models import Model\n",
        "from tensorflow.keras.layers import Dense, Input, Dropout, Flatten, Activation\n",
        "from tensorflow.keras.utils import plot_model\n",
        "from tensorflow.keras import backend as K\n",
        "from tensorflow.keras import metrics, optimizers\n",
        "from tensorflow.keras.callbacks import EarlyStopping, ReduceLROnPlateau, TerminateOnNaN, ModelCheckpoint\n",
        "from sklearn.model_selection import StratifiedKFold"
      ]
    },
    {
      "cell_type": "code",
      "source": [
        "!git clone https://github.com/AgneseRT/ML_Exam.git"
      ],
      "metadata": {
        "colab": {
          "base_uri": "https://localhost:8080/"
        },
        "id": "Q8wVoYKtmgKg",
        "outputId": "8799b5e5-98ac-4be5-b431-bc2a2b1c7bfc"
      },
      "execution_count": 2,
      "outputs": [
        {
          "output_type": "stream",
          "name": "stdout",
          "text": [
            "Cloning into 'ML_Exam'...\n",
            "remote: Enumerating objects: 56, done.\u001b[K\n",
            "remote: Counting objects: 100% (56/56), done.\u001b[K\n",
            "remote: Compressing objects: 100% (53/53), done.\u001b[K\n",
            "remote: Total 56 (delta 13), reused 0 (delta 0), pack-reused 0\u001b[K\n",
            "Receiving objects: 100% (56/56), 1.86 MiB | 11.27 MiB/s, done.\n",
            "Resolving deltas: 100% (13/13), done.\n"
          ]
        }
      ]
    },
    {
      "cell_type": "markdown",
      "metadata": {
        "id": "leLRQOB0eZvm"
      },
      "source": [
        "# Exploratory data analysis: Features reduction and selection\n",
        "\n",
        "The dataset consists of 104 features and 439 observations. The target is located in the last column, which values, 0 and 1, corresponds to Adk and Scc, respectively.\n",
        "\n",
        "As first step the dataset is explored to comprehend features distributions, assess the presence of missing values (NaN), identify uncorrelated features, and select the relevant features through which build the model.\n",
        "Features selection is performed using Recursive Feature Elimination (RFE)\n",
        "(https://scikit-learn.org/stable/modules/generated/sklearn.feature_selection.RFE.html).\n"
      ]
    },
    {
      "cell_type": "code",
      "execution_count": 3,
      "metadata": {
        "colab": {
          "base_uri": "https://localhost:8080/",
          "height": 256
        },
        "id": "3NQgj9mZtrmw",
        "outputId": "59ca6736-3b9e-4927-939e-71f17339ddb7"
      },
      "outputs": [
        {
          "output_type": "execute_result",
          "data": {
            "text/plain": [
              "   shape_Elongation  shape_Flatness  shape_LeastAxisLength  \\\n",
              "0          0.775516        0.648131              22.096672   \n",
              "1          0.809533        0.765422              24.219931   \n",
              "2          0.743940        0.493498              33.598544   \n",
              "3          0.917050        0.567193              26.230489   \n",
              "4          0.860687        0.529989              18.126888   \n",
              "\n",
              "   shape_MajorAxisLength  shape_Maximum2DDiameterColumn  \\\n",
              "0              34.092885                      39.719013   \n",
              "1              31.642568                      36.274509   \n",
              "2              68.082406                      62.235681   \n",
              "3              46.246160                      49.035497   \n",
              "4              34.202387                      39.208162   \n",
              "\n",
              "   shape_Maximum2DDiameterRow  shape_Maximum2DDiameterSlice  \\\n",
              "0                   37.318092                     37.608510   \n",
              "1                   35.063371                     32.199379   \n",
              "2                   86.225750                     82.597821   \n",
              "3                   61.760829                     50.113471   \n",
              "4                   39.815575                     42.730785   \n",
              "\n",
              "   shape_Maximum3DDiameter  shape_MeshVolume  shape_MinorAxisLength  ...  \\\n",
              "0                41.399517      12018.261333              26.439578  ...   \n",
              "1                37.685010      13515.818667              25.615692  ...   \n",
              "2                89.292329      70464.298667              50.649257  ...   \n",
              "3                62.014192      32187.925333              42.410026  ...   \n",
              "4                42.730785      11218.538667              29.437539  ...   \n",
              "\n",
              "   gldm_LowGrayLevelEmphasis  gldm_SmallDependenceEmphasis  \\\n",
              "0                   0.000744                      0.155970   \n",
              "1                   0.001030                      0.211045   \n",
              "2                   0.000849                      0.086867   \n",
              "3                   0.000512                      0.087455   \n",
              "4                   0.001466                      0.249846   \n",
              "\n",
              "   gldm_SmallDependenceHighGrayLevelEmphasis  \\\n",
              "0                                 317.376371   \n",
              "1                                 336.303101   \n",
              "2                                 139.695147   \n",
              "3                                 208.610847   \n",
              "4                                 442.442175   \n",
              "\n",
              "   gldm_SmallDependenceLowGrayLevelEmphasis  ngtdm_Busyness  ngtdm_Coarseness  \\\n",
              "0                                  0.000270        0.332659          0.000497   \n",
              "1                                  0.000475        0.829178          0.000250   \n",
              "2                                  0.000133        2.040805          0.000090   \n",
              "3                                  0.000102        0.916898          0.000169   \n",
              "4                                  0.000477        0.335418          0.000610   \n",
              "\n",
              "   ngtdm_Complexity  ngtdm_Contrast  ngtdm_Strength  Scc  \n",
              "0       2868.503786        0.067667        3.930392    1  \n",
              "1       4944.409492        0.114374        1.060515    0  \n",
              "2       1878.884885        0.026780        0.681086    0  \n",
              "3       2684.504989        0.022726        1.945244    1  \n",
              "4       3978.607487        0.208461        2.365940    0  \n",
              "\n",
              "[5 rows x 106 columns]"
            ],
            "text/html": [
              "\n",
              "  <div id=\"df-d66411ab-d4a4-47e6-9416-8e1254bbddee\" class=\"colab-df-container\">\n",
              "    <div>\n",
              "<style scoped>\n",
              "    .dataframe tbody tr th:only-of-type {\n",
              "        vertical-align: middle;\n",
              "    }\n",
              "\n",
              "    .dataframe tbody tr th {\n",
              "        vertical-align: top;\n",
              "    }\n",
              "\n",
              "    .dataframe thead th {\n",
              "        text-align: right;\n",
              "    }\n",
              "</style>\n",
              "<table border=\"1\" class=\"dataframe\">\n",
              "  <thead>\n",
              "    <tr style=\"text-align: right;\">\n",
              "      <th></th>\n",
              "      <th>shape_Elongation</th>\n",
              "      <th>shape_Flatness</th>\n",
              "      <th>shape_LeastAxisLength</th>\n",
              "      <th>shape_MajorAxisLength</th>\n",
              "      <th>shape_Maximum2DDiameterColumn</th>\n",
              "      <th>shape_Maximum2DDiameterRow</th>\n",
              "      <th>shape_Maximum2DDiameterSlice</th>\n",
              "      <th>shape_Maximum3DDiameter</th>\n",
              "      <th>shape_MeshVolume</th>\n",
              "      <th>shape_MinorAxisLength</th>\n",
              "      <th>...</th>\n",
              "      <th>gldm_LowGrayLevelEmphasis</th>\n",
              "      <th>gldm_SmallDependenceEmphasis</th>\n",
              "      <th>gldm_SmallDependenceHighGrayLevelEmphasis</th>\n",
              "      <th>gldm_SmallDependenceLowGrayLevelEmphasis</th>\n",
              "      <th>ngtdm_Busyness</th>\n",
              "      <th>ngtdm_Coarseness</th>\n",
              "      <th>ngtdm_Complexity</th>\n",
              "      <th>ngtdm_Contrast</th>\n",
              "      <th>ngtdm_Strength</th>\n",
              "      <th>Scc</th>\n",
              "    </tr>\n",
              "  </thead>\n",
              "  <tbody>\n",
              "    <tr>\n",
              "      <th>0</th>\n",
              "      <td>0.775516</td>\n",
              "      <td>0.648131</td>\n",
              "      <td>22.096672</td>\n",
              "      <td>34.092885</td>\n",
              "      <td>39.719013</td>\n",
              "      <td>37.318092</td>\n",
              "      <td>37.608510</td>\n",
              "      <td>41.399517</td>\n",
              "      <td>12018.261333</td>\n",
              "      <td>26.439578</td>\n",
              "      <td>...</td>\n",
              "      <td>0.000744</td>\n",
              "      <td>0.155970</td>\n",
              "      <td>317.376371</td>\n",
              "      <td>0.000270</td>\n",
              "      <td>0.332659</td>\n",
              "      <td>0.000497</td>\n",
              "      <td>2868.503786</td>\n",
              "      <td>0.067667</td>\n",
              "      <td>3.930392</td>\n",
              "      <td>1</td>\n",
              "    </tr>\n",
              "    <tr>\n",
              "      <th>1</th>\n",
              "      <td>0.809533</td>\n",
              "      <td>0.765422</td>\n",
              "      <td>24.219931</td>\n",
              "      <td>31.642568</td>\n",
              "      <td>36.274509</td>\n",
              "      <td>35.063371</td>\n",
              "      <td>32.199379</td>\n",
              "      <td>37.685010</td>\n",
              "      <td>13515.818667</td>\n",
              "      <td>25.615692</td>\n",
              "      <td>...</td>\n",
              "      <td>0.001030</td>\n",
              "      <td>0.211045</td>\n",
              "      <td>336.303101</td>\n",
              "      <td>0.000475</td>\n",
              "      <td>0.829178</td>\n",
              "      <td>0.000250</td>\n",
              "      <td>4944.409492</td>\n",
              "      <td>0.114374</td>\n",
              "      <td>1.060515</td>\n",
              "      <td>0</td>\n",
              "    </tr>\n",
              "    <tr>\n",
              "      <th>2</th>\n",
              "      <td>0.743940</td>\n",
              "      <td>0.493498</td>\n",
              "      <td>33.598544</td>\n",
              "      <td>68.082406</td>\n",
              "      <td>62.235681</td>\n",
              "      <td>86.225750</td>\n",
              "      <td>82.597821</td>\n",
              "      <td>89.292329</td>\n",
              "      <td>70464.298667</td>\n",
              "      <td>50.649257</td>\n",
              "      <td>...</td>\n",
              "      <td>0.000849</td>\n",
              "      <td>0.086867</td>\n",
              "      <td>139.695147</td>\n",
              "      <td>0.000133</td>\n",
              "      <td>2.040805</td>\n",
              "      <td>0.000090</td>\n",
              "      <td>1878.884885</td>\n",
              "      <td>0.026780</td>\n",
              "      <td>0.681086</td>\n",
              "      <td>0</td>\n",
              "    </tr>\n",
              "    <tr>\n",
              "      <th>3</th>\n",
              "      <td>0.917050</td>\n",
              "      <td>0.567193</td>\n",
              "      <td>26.230489</td>\n",
              "      <td>46.246160</td>\n",
              "      <td>49.035497</td>\n",
              "      <td>61.760829</td>\n",
              "      <td>50.113471</td>\n",
              "      <td>62.014192</td>\n",
              "      <td>32187.925333</td>\n",
              "      <td>42.410026</td>\n",
              "      <td>...</td>\n",
              "      <td>0.000512</td>\n",
              "      <td>0.087455</td>\n",
              "      <td>208.610847</td>\n",
              "      <td>0.000102</td>\n",
              "      <td>0.916898</td>\n",
              "      <td>0.000169</td>\n",
              "      <td>2684.504989</td>\n",
              "      <td>0.022726</td>\n",
              "      <td>1.945244</td>\n",
              "      <td>1</td>\n",
              "    </tr>\n",
              "    <tr>\n",
              "      <th>4</th>\n",
              "      <td>0.860687</td>\n",
              "      <td>0.529989</td>\n",
              "      <td>18.126888</td>\n",
              "      <td>34.202387</td>\n",
              "      <td>39.208162</td>\n",
              "      <td>39.815575</td>\n",
              "      <td>42.730785</td>\n",
              "      <td>42.730785</td>\n",
              "      <td>11218.538667</td>\n",
              "      <td>29.437539</td>\n",
              "      <td>...</td>\n",
              "      <td>0.001466</td>\n",
              "      <td>0.249846</td>\n",
              "      <td>442.442175</td>\n",
              "      <td>0.000477</td>\n",
              "      <td>0.335418</td>\n",
              "      <td>0.000610</td>\n",
              "      <td>3978.607487</td>\n",
              "      <td>0.208461</td>\n",
              "      <td>2.365940</td>\n",
              "      <td>0</td>\n",
              "    </tr>\n",
              "  </tbody>\n",
              "</table>\n",
              "<p>5 rows × 106 columns</p>\n",
              "</div>\n",
              "    <div class=\"colab-df-buttons\">\n",
              "\n",
              "  <div class=\"colab-df-container\">\n",
              "    <button class=\"colab-df-convert\" onclick=\"convertToInteractive('df-d66411ab-d4a4-47e6-9416-8e1254bbddee')\"\n",
              "            title=\"Convert this dataframe to an interactive table.\"\n",
              "            style=\"display:none;\">\n",
              "\n",
              "  <svg xmlns=\"http://www.w3.org/2000/svg\" height=\"24px\" viewBox=\"0 -960 960 960\">\n",
              "    <path d=\"M120-120v-720h720v720H120Zm60-500h600v-160H180v160Zm220 220h160v-160H400v160Zm0 220h160v-160H400v160ZM180-400h160v-160H180v160Zm440 0h160v-160H620v160ZM180-180h160v-160H180v160Zm440 0h160v-160H620v160Z\"/>\n",
              "  </svg>\n",
              "    </button>\n",
              "\n",
              "  <style>\n",
              "    .colab-df-container {\n",
              "      display:flex;\n",
              "      gap: 12px;\n",
              "    }\n",
              "\n",
              "    .colab-df-convert {\n",
              "      background-color: #E8F0FE;\n",
              "      border: none;\n",
              "      border-radius: 50%;\n",
              "      cursor: pointer;\n",
              "      display: none;\n",
              "      fill: #1967D2;\n",
              "      height: 32px;\n",
              "      padding: 0 0 0 0;\n",
              "      width: 32px;\n",
              "    }\n",
              "\n",
              "    .colab-df-convert:hover {\n",
              "      background-color: #E2EBFA;\n",
              "      box-shadow: 0px 1px 2px rgba(60, 64, 67, 0.3), 0px 1px 3px 1px rgba(60, 64, 67, 0.15);\n",
              "      fill: #174EA6;\n",
              "    }\n",
              "\n",
              "    .colab-df-buttons div {\n",
              "      margin-bottom: 4px;\n",
              "    }\n",
              "\n",
              "    [theme=dark] .colab-df-convert {\n",
              "      background-color: #3B4455;\n",
              "      fill: #D2E3FC;\n",
              "    }\n",
              "\n",
              "    [theme=dark] .colab-df-convert:hover {\n",
              "      background-color: #434B5C;\n",
              "      box-shadow: 0px 1px 3px 1px rgba(0, 0, 0, 0.15);\n",
              "      filter: drop-shadow(0px 1px 2px rgba(0, 0, 0, 0.3));\n",
              "      fill: #FFFFFF;\n",
              "    }\n",
              "  </style>\n",
              "\n",
              "    <script>\n",
              "      const buttonEl =\n",
              "        document.querySelector('#df-d66411ab-d4a4-47e6-9416-8e1254bbddee button.colab-df-convert');\n",
              "      buttonEl.style.display =\n",
              "        google.colab.kernel.accessAllowed ? 'block' : 'none';\n",
              "\n",
              "      async function convertToInteractive(key) {\n",
              "        const element = document.querySelector('#df-d66411ab-d4a4-47e6-9416-8e1254bbddee');\n",
              "        const dataTable =\n",
              "          await google.colab.kernel.invokeFunction('convertToInteractive',\n",
              "                                                    [key], {});\n",
              "        if (!dataTable) return;\n",
              "\n",
              "        const docLinkHtml = 'Like what you see? Visit the ' +\n",
              "          '<a target=\"_blank\" href=https://colab.research.google.com/notebooks/data_table.ipynb>data table notebook</a>'\n",
              "          + ' to learn more about interactive tables.';\n",
              "        element.innerHTML = '';\n",
              "        dataTable['output_type'] = 'display_data';\n",
              "        await google.colab.output.renderOutput(dataTable, element);\n",
              "        const docLink = document.createElement('div');\n",
              "        docLink.innerHTML = docLinkHtml;\n",
              "        element.appendChild(docLink);\n",
              "      }\n",
              "    </script>\n",
              "  </div>\n",
              "\n",
              "\n",
              "<div id=\"df-f509b2b2-8285-4a0b-b84a-fb10473a78ac\">\n",
              "  <button class=\"colab-df-quickchart\" onclick=\"quickchart('df-f509b2b2-8285-4a0b-b84a-fb10473a78ac')\"\n",
              "            title=\"Suggest charts.\"\n",
              "            style=\"display:none;\">\n",
              "\n",
              "<svg xmlns=\"http://www.w3.org/2000/svg\" height=\"24px\"viewBox=\"0 0 24 24\"\n",
              "     width=\"24px\">\n",
              "    <g>\n",
              "        <path d=\"M19 3H5c-1.1 0-2 .9-2 2v14c0 1.1.9 2 2 2h14c1.1 0 2-.9 2-2V5c0-1.1-.9-2-2-2zM9 17H7v-7h2v7zm4 0h-2V7h2v10zm4 0h-2v-4h2v4z\"/>\n",
              "    </g>\n",
              "</svg>\n",
              "  </button>\n",
              "\n",
              "<style>\n",
              "  .colab-df-quickchart {\n",
              "      --bg-color: #E8F0FE;\n",
              "      --fill-color: #1967D2;\n",
              "      --hover-bg-color: #E2EBFA;\n",
              "      --hover-fill-color: #174EA6;\n",
              "      --disabled-fill-color: #AAA;\n",
              "      --disabled-bg-color: #DDD;\n",
              "  }\n",
              "\n",
              "  [theme=dark] .colab-df-quickchart {\n",
              "      --bg-color: #3B4455;\n",
              "      --fill-color: #D2E3FC;\n",
              "      --hover-bg-color: #434B5C;\n",
              "      --hover-fill-color: #FFFFFF;\n",
              "      --disabled-bg-color: #3B4455;\n",
              "      --disabled-fill-color: #666;\n",
              "  }\n",
              "\n",
              "  .colab-df-quickchart {\n",
              "    background-color: var(--bg-color);\n",
              "    border: none;\n",
              "    border-radius: 50%;\n",
              "    cursor: pointer;\n",
              "    display: none;\n",
              "    fill: var(--fill-color);\n",
              "    height: 32px;\n",
              "    padding: 0;\n",
              "    width: 32px;\n",
              "  }\n",
              "\n",
              "  .colab-df-quickchart:hover {\n",
              "    background-color: var(--hover-bg-color);\n",
              "    box-shadow: 0 1px 2px rgba(60, 64, 67, 0.3), 0 1px 3px 1px rgba(60, 64, 67, 0.15);\n",
              "    fill: var(--button-hover-fill-color);\n",
              "  }\n",
              "\n",
              "  .colab-df-quickchart-complete:disabled,\n",
              "  .colab-df-quickchart-complete:disabled:hover {\n",
              "    background-color: var(--disabled-bg-color);\n",
              "    fill: var(--disabled-fill-color);\n",
              "    box-shadow: none;\n",
              "  }\n",
              "\n",
              "  .colab-df-spinner {\n",
              "    border: 2px solid var(--fill-color);\n",
              "    border-color: transparent;\n",
              "    border-bottom-color: var(--fill-color);\n",
              "    animation:\n",
              "      spin 1s steps(1) infinite;\n",
              "  }\n",
              "\n",
              "  @keyframes spin {\n",
              "    0% {\n",
              "      border-color: transparent;\n",
              "      border-bottom-color: var(--fill-color);\n",
              "      border-left-color: var(--fill-color);\n",
              "    }\n",
              "    20% {\n",
              "      border-color: transparent;\n",
              "      border-left-color: var(--fill-color);\n",
              "      border-top-color: var(--fill-color);\n",
              "    }\n",
              "    30% {\n",
              "      border-color: transparent;\n",
              "      border-left-color: var(--fill-color);\n",
              "      border-top-color: var(--fill-color);\n",
              "      border-right-color: var(--fill-color);\n",
              "    }\n",
              "    40% {\n",
              "      border-color: transparent;\n",
              "      border-right-color: var(--fill-color);\n",
              "      border-top-color: var(--fill-color);\n",
              "    }\n",
              "    60% {\n",
              "      border-color: transparent;\n",
              "      border-right-color: var(--fill-color);\n",
              "    }\n",
              "    80% {\n",
              "      border-color: transparent;\n",
              "      border-right-color: var(--fill-color);\n",
              "      border-bottom-color: var(--fill-color);\n",
              "    }\n",
              "    90% {\n",
              "      border-color: transparent;\n",
              "      border-bottom-color: var(--fill-color);\n",
              "    }\n",
              "  }\n",
              "</style>\n",
              "\n",
              "  <script>\n",
              "    async function quickchart(key) {\n",
              "      const quickchartButtonEl =\n",
              "        document.querySelector('#' + key + ' button');\n",
              "      quickchartButtonEl.disabled = true;  // To prevent multiple clicks.\n",
              "      quickchartButtonEl.classList.add('colab-df-spinner');\n",
              "      try {\n",
              "        const charts = await google.colab.kernel.invokeFunction(\n",
              "            'suggestCharts', [key], {});\n",
              "      } catch (error) {\n",
              "        console.error('Error during call to suggestCharts:', error);\n",
              "      }\n",
              "      quickchartButtonEl.classList.remove('colab-df-spinner');\n",
              "      quickchartButtonEl.classList.add('colab-df-quickchart-complete');\n",
              "    }\n",
              "    (() => {\n",
              "      let quickchartButtonEl =\n",
              "        document.querySelector('#df-f509b2b2-8285-4a0b-b84a-fb10473a78ac button');\n",
              "      quickchartButtonEl.style.display =\n",
              "        google.colab.kernel.accessAllowed ? 'block' : 'none';\n",
              "    })();\n",
              "  </script>\n",
              "</div>\n",
              "    </div>\n",
              "  </div>\n"
            ]
          },
          "metadata": {},
          "execution_count": 3
        }
      ],
      "source": [
        "training = pd.read_excel('ML_Exam/training.xlsx')._get_numeric_data()\n",
        "test = pd.read_excel('ML_Exam/test.xlsx')._get_numeric_data()\n",
        "training.columns = training.columns.str.replace(\"original_\", \"\")\n",
        "test.columns = test.columns.str.replace(\"original_\", \"\")\n",
        "test.head()"
      ]
    },
    {
      "cell_type": "code",
      "execution_count": 4,
      "metadata": {
        "colab": {
          "base_uri": "https://localhost:8080/",
          "height": 256
        },
        "id": "lMsX49W9iqgP",
        "outputId": "40d9e957-d02a-4842-ca73-218cc0a2634a"
      },
      "outputs": [
        {
          "output_type": "execute_result",
          "data": {
            "text/plain": [
              "   shape_Elongation  shape_Flatness  shape_LeastAxisLength  \\\n",
              "0          0.765666        0.695288              16.726311   \n",
              "1          0.861196        0.708494              26.884681   \n",
              "2          0.773333        0.527620              48.602105   \n",
              "3          0.737020        0.666740               8.450445   \n",
              "4          0.896001        0.588791              32.640751   \n",
              "\n",
              "   shape_MajorAxisLength  shape_Maximum2DDiameterColumn  \\\n",
              "0              24.056665                      28.284271   \n",
              "1              37.946219                      42.730785   \n",
              "2              92.115793                      87.474796   \n",
              "3              12.674272                      14.751271   \n",
              "4              55.436923                      65.590243   \n",
              "\n",
              "   shape_Maximum2DDiameterRow  shape_Maximum2DDiameterSlice  \\\n",
              "0                   26.820887                     28.352072   \n",
              "1                   42.400000                     42.588261   \n",
              "2                   92.530644                     94.768771   \n",
              "3                   13.120976                     12.185237   \n",
              "4                   60.488677                     61.740100   \n",
              "\n",
              "   shape_Maximum3DDiameter  shape_MeshVolume  shape_MinorAxisLength  ...  \\\n",
              "0                30.942527       3833.514667              18.419373  ...   \n",
              "1                46.523972      22250.282667              32.679131  ...   \n",
              "2               109.486072     216968.896000              71.236209  ...   \n",
              "3                15.512576        623.146667               9.341194  ...   \n",
              "4                72.870296      62680.128000              49.671526  ...   \n",
              "\n",
              "   gldm_LowGrayLevelEmphasis  gldm_SmallDependenceEmphasis  \\\n",
              "0                   0.002934                      0.302374   \n",
              "1                   0.000583                      0.207488   \n",
              "2                   0.000549                      0.075318   \n",
              "3                   0.018916                      0.485354   \n",
              "4                   0.000584                      0.072432   \n",
              "\n",
              "   gldm_SmallDependenceHighGrayLevelEmphasis  \\\n",
              "0                                 332.178075   \n",
              "1                                 420.208403   \n",
              "2                                 149.683846   \n",
              "3                                 498.472125   \n",
              "4                                 114.057179   \n",
              "\n",
              "   gldm_SmallDependenceLowGrayLevelEmphasis  ngtdm_Busyness  ngtdm_Coarseness  \\\n",
              "0                                  0.000813        0.156136          0.002193   \n",
              "1                                  0.000185        1.224765          0.000165   \n",
              "2                                  0.000075       10.766565          0.000017   \n",
              "3                                  0.004666        0.097376          0.011446   \n",
              "4                                  0.000088        1.673788          0.000110   \n",
              "\n",
              "   ngtdm_Complexity  ngtdm_Contrast  ngtdm_Strength  Scc  \n",
              "0       3323.761860        0.215898        3.436190    1  \n",
              "1       4856.585824        0.036964        0.733857    1  \n",
              "2       2408.720009        0.007294        0.159098    1  \n",
              "3       5732.765294        0.556037       18.966283    0  \n",
              "4       1367.427921        0.016340        1.022933    0  \n",
              "\n",
              "[5 rows x 106 columns]"
            ],
            "text/html": [
              "\n",
              "  <div id=\"df-c79f75c8-e0f1-4eef-9fd5-643693863ed5\" class=\"colab-df-container\">\n",
              "    <div>\n",
              "<style scoped>\n",
              "    .dataframe tbody tr th:only-of-type {\n",
              "        vertical-align: middle;\n",
              "    }\n",
              "\n",
              "    .dataframe tbody tr th {\n",
              "        vertical-align: top;\n",
              "    }\n",
              "\n",
              "    .dataframe thead th {\n",
              "        text-align: right;\n",
              "    }\n",
              "</style>\n",
              "<table border=\"1\" class=\"dataframe\">\n",
              "  <thead>\n",
              "    <tr style=\"text-align: right;\">\n",
              "      <th></th>\n",
              "      <th>shape_Elongation</th>\n",
              "      <th>shape_Flatness</th>\n",
              "      <th>shape_LeastAxisLength</th>\n",
              "      <th>shape_MajorAxisLength</th>\n",
              "      <th>shape_Maximum2DDiameterColumn</th>\n",
              "      <th>shape_Maximum2DDiameterRow</th>\n",
              "      <th>shape_Maximum2DDiameterSlice</th>\n",
              "      <th>shape_Maximum3DDiameter</th>\n",
              "      <th>shape_MeshVolume</th>\n",
              "      <th>shape_MinorAxisLength</th>\n",
              "      <th>...</th>\n",
              "      <th>gldm_LowGrayLevelEmphasis</th>\n",
              "      <th>gldm_SmallDependenceEmphasis</th>\n",
              "      <th>gldm_SmallDependenceHighGrayLevelEmphasis</th>\n",
              "      <th>gldm_SmallDependenceLowGrayLevelEmphasis</th>\n",
              "      <th>ngtdm_Busyness</th>\n",
              "      <th>ngtdm_Coarseness</th>\n",
              "      <th>ngtdm_Complexity</th>\n",
              "      <th>ngtdm_Contrast</th>\n",
              "      <th>ngtdm_Strength</th>\n",
              "      <th>Scc</th>\n",
              "    </tr>\n",
              "  </thead>\n",
              "  <tbody>\n",
              "    <tr>\n",
              "      <th>0</th>\n",
              "      <td>0.765666</td>\n",
              "      <td>0.695288</td>\n",
              "      <td>16.726311</td>\n",
              "      <td>24.056665</td>\n",
              "      <td>28.284271</td>\n",
              "      <td>26.820887</td>\n",
              "      <td>28.352072</td>\n",
              "      <td>30.942527</td>\n",
              "      <td>3833.514667</td>\n",
              "      <td>18.419373</td>\n",
              "      <td>...</td>\n",
              "      <td>0.002934</td>\n",
              "      <td>0.302374</td>\n",
              "      <td>332.178075</td>\n",
              "      <td>0.000813</td>\n",
              "      <td>0.156136</td>\n",
              "      <td>0.002193</td>\n",
              "      <td>3323.761860</td>\n",
              "      <td>0.215898</td>\n",
              "      <td>3.436190</td>\n",
              "      <td>1</td>\n",
              "    </tr>\n",
              "    <tr>\n",
              "      <th>1</th>\n",
              "      <td>0.861196</td>\n",
              "      <td>0.708494</td>\n",
              "      <td>26.884681</td>\n",
              "      <td>37.946219</td>\n",
              "      <td>42.730785</td>\n",
              "      <td>42.400000</td>\n",
              "      <td>42.588261</td>\n",
              "      <td>46.523972</td>\n",
              "      <td>22250.282667</td>\n",
              "      <td>32.679131</td>\n",
              "      <td>...</td>\n",
              "      <td>0.000583</td>\n",
              "      <td>0.207488</td>\n",
              "      <td>420.208403</td>\n",
              "      <td>0.000185</td>\n",
              "      <td>1.224765</td>\n",
              "      <td>0.000165</td>\n",
              "      <td>4856.585824</td>\n",
              "      <td>0.036964</td>\n",
              "      <td>0.733857</td>\n",
              "      <td>1</td>\n",
              "    </tr>\n",
              "    <tr>\n",
              "      <th>2</th>\n",
              "      <td>0.773333</td>\n",
              "      <td>0.527620</td>\n",
              "      <td>48.602105</td>\n",
              "      <td>92.115793</td>\n",
              "      <td>87.474796</td>\n",
              "      <td>92.530644</td>\n",
              "      <td>94.768771</td>\n",
              "      <td>109.486072</td>\n",
              "      <td>216968.896000</td>\n",
              "      <td>71.236209</td>\n",
              "      <td>...</td>\n",
              "      <td>0.000549</td>\n",
              "      <td>0.075318</td>\n",
              "      <td>149.683846</td>\n",
              "      <td>0.000075</td>\n",
              "      <td>10.766565</td>\n",
              "      <td>0.000017</td>\n",
              "      <td>2408.720009</td>\n",
              "      <td>0.007294</td>\n",
              "      <td>0.159098</td>\n",
              "      <td>1</td>\n",
              "    </tr>\n",
              "    <tr>\n",
              "      <th>3</th>\n",
              "      <td>0.737020</td>\n",
              "      <td>0.666740</td>\n",
              "      <td>8.450445</td>\n",
              "      <td>12.674272</td>\n",
              "      <td>14.751271</td>\n",
              "      <td>13.120976</td>\n",
              "      <td>12.185237</td>\n",
              "      <td>15.512576</td>\n",
              "      <td>623.146667</td>\n",
              "      <td>9.341194</td>\n",
              "      <td>...</td>\n",
              "      <td>0.018916</td>\n",
              "      <td>0.485354</td>\n",
              "      <td>498.472125</td>\n",
              "      <td>0.004666</td>\n",
              "      <td>0.097376</td>\n",
              "      <td>0.011446</td>\n",
              "      <td>5732.765294</td>\n",
              "      <td>0.556037</td>\n",
              "      <td>18.966283</td>\n",
              "      <td>0</td>\n",
              "    </tr>\n",
              "    <tr>\n",
              "      <th>4</th>\n",
              "      <td>0.896001</td>\n",
              "      <td>0.588791</td>\n",
              "      <td>32.640751</td>\n",
              "      <td>55.436923</td>\n",
              "      <td>65.590243</td>\n",
              "      <td>60.488677</td>\n",
              "      <td>61.740100</td>\n",
              "      <td>72.870296</td>\n",
              "      <td>62680.128000</td>\n",
              "      <td>49.671526</td>\n",
              "      <td>...</td>\n",
              "      <td>0.000584</td>\n",
              "      <td>0.072432</td>\n",
              "      <td>114.057179</td>\n",
              "      <td>0.000088</td>\n",
              "      <td>1.673788</td>\n",
              "      <td>0.000110</td>\n",
              "      <td>1367.427921</td>\n",
              "      <td>0.016340</td>\n",
              "      <td>1.022933</td>\n",
              "      <td>0</td>\n",
              "    </tr>\n",
              "  </tbody>\n",
              "</table>\n",
              "<p>5 rows × 106 columns</p>\n",
              "</div>\n",
              "    <div class=\"colab-df-buttons\">\n",
              "\n",
              "  <div class=\"colab-df-container\">\n",
              "    <button class=\"colab-df-convert\" onclick=\"convertToInteractive('df-c79f75c8-e0f1-4eef-9fd5-643693863ed5')\"\n",
              "            title=\"Convert this dataframe to an interactive table.\"\n",
              "            style=\"display:none;\">\n",
              "\n",
              "  <svg xmlns=\"http://www.w3.org/2000/svg\" height=\"24px\" viewBox=\"0 -960 960 960\">\n",
              "    <path d=\"M120-120v-720h720v720H120Zm60-500h600v-160H180v160Zm220 220h160v-160H400v160Zm0 220h160v-160H400v160ZM180-400h160v-160H180v160Zm440 0h160v-160H620v160ZM180-180h160v-160H180v160Zm440 0h160v-160H620v160Z\"/>\n",
              "  </svg>\n",
              "    </button>\n",
              "\n",
              "  <style>\n",
              "    .colab-df-container {\n",
              "      display:flex;\n",
              "      gap: 12px;\n",
              "    }\n",
              "\n",
              "    .colab-df-convert {\n",
              "      background-color: #E8F0FE;\n",
              "      border: none;\n",
              "      border-radius: 50%;\n",
              "      cursor: pointer;\n",
              "      display: none;\n",
              "      fill: #1967D2;\n",
              "      height: 32px;\n",
              "      padding: 0 0 0 0;\n",
              "      width: 32px;\n",
              "    }\n",
              "\n",
              "    .colab-df-convert:hover {\n",
              "      background-color: #E2EBFA;\n",
              "      box-shadow: 0px 1px 2px rgba(60, 64, 67, 0.3), 0px 1px 3px 1px rgba(60, 64, 67, 0.15);\n",
              "      fill: #174EA6;\n",
              "    }\n",
              "\n",
              "    .colab-df-buttons div {\n",
              "      margin-bottom: 4px;\n",
              "    }\n",
              "\n",
              "    [theme=dark] .colab-df-convert {\n",
              "      background-color: #3B4455;\n",
              "      fill: #D2E3FC;\n",
              "    }\n",
              "\n",
              "    [theme=dark] .colab-df-convert:hover {\n",
              "      background-color: #434B5C;\n",
              "      box-shadow: 0px 1px 3px 1px rgba(0, 0, 0, 0.15);\n",
              "      filter: drop-shadow(0px 1px 2px rgba(0, 0, 0, 0.3));\n",
              "      fill: #FFFFFF;\n",
              "    }\n",
              "  </style>\n",
              "\n",
              "    <script>\n",
              "      const buttonEl =\n",
              "        document.querySelector('#df-c79f75c8-e0f1-4eef-9fd5-643693863ed5 button.colab-df-convert');\n",
              "      buttonEl.style.display =\n",
              "        google.colab.kernel.accessAllowed ? 'block' : 'none';\n",
              "\n",
              "      async function convertToInteractive(key) {\n",
              "        const element = document.querySelector('#df-c79f75c8-e0f1-4eef-9fd5-643693863ed5');\n",
              "        const dataTable =\n",
              "          await google.colab.kernel.invokeFunction('convertToInteractive',\n",
              "                                                    [key], {});\n",
              "        if (!dataTable) return;\n",
              "\n",
              "        const docLinkHtml = 'Like what you see? Visit the ' +\n",
              "          '<a target=\"_blank\" href=https://colab.research.google.com/notebooks/data_table.ipynb>data table notebook</a>'\n",
              "          + ' to learn more about interactive tables.';\n",
              "        element.innerHTML = '';\n",
              "        dataTable['output_type'] = 'display_data';\n",
              "        await google.colab.output.renderOutput(dataTable, element);\n",
              "        const docLink = document.createElement('div');\n",
              "        docLink.innerHTML = docLinkHtml;\n",
              "        element.appendChild(docLink);\n",
              "      }\n",
              "    </script>\n",
              "  </div>\n",
              "\n",
              "\n",
              "<div id=\"df-5c8dd2a1-3a18-4261-9884-b8e7478b89bc\">\n",
              "  <button class=\"colab-df-quickchart\" onclick=\"quickchart('df-5c8dd2a1-3a18-4261-9884-b8e7478b89bc')\"\n",
              "            title=\"Suggest charts.\"\n",
              "            style=\"display:none;\">\n",
              "\n",
              "<svg xmlns=\"http://www.w3.org/2000/svg\" height=\"24px\"viewBox=\"0 0 24 24\"\n",
              "     width=\"24px\">\n",
              "    <g>\n",
              "        <path d=\"M19 3H5c-1.1 0-2 .9-2 2v14c0 1.1.9 2 2 2h14c1.1 0 2-.9 2-2V5c0-1.1-.9-2-2-2zM9 17H7v-7h2v7zm4 0h-2V7h2v10zm4 0h-2v-4h2v4z\"/>\n",
              "    </g>\n",
              "</svg>\n",
              "  </button>\n",
              "\n",
              "<style>\n",
              "  .colab-df-quickchart {\n",
              "      --bg-color: #E8F0FE;\n",
              "      --fill-color: #1967D2;\n",
              "      --hover-bg-color: #E2EBFA;\n",
              "      --hover-fill-color: #174EA6;\n",
              "      --disabled-fill-color: #AAA;\n",
              "      --disabled-bg-color: #DDD;\n",
              "  }\n",
              "\n",
              "  [theme=dark] .colab-df-quickchart {\n",
              "      --bg-color: #3B4455;\n",
              "      --fill-color: #D2E3FC;\n",
              "      --hover-bg-color: #434B5C;\n",
              "      --hover-fill-color: #FFFFFF;\n",
              "      --disabled-bg-color: #3B4455;\n",
              "      --disabled-fill-color: #666;\n",
              "  }\n",
              "\n",
              "  .colab-df-quickchart {\n",
              "    background-color: var(--bg-color);\n",
              "    border: none;\n",
              "    border-radius: 50%;\n",
              "    cursor: pointer;\n",
              "    display: none;\n",
              "    fill: var(--fill-color);\n",
              "    height: 32px;\n",
              "    padding: 0;\n",
              "    width: 32px;\n",
              "  }\n",
              "\n",
              "  .colab-df-quickchart:hover {\n",
              "    background-color: var(--hover-bg-color);\n",
              "    box-shadow: 0 1px 2px rgba(60, 64, 67, 0.3), 0 1px 3px 1px rgba(60, 64, 67, 0.15);\n",
              "    fill: var(--button-hover-fill-color);\n",
              "  }\n",
              "\n",
              "  .colab-df-quickchart-complete:disabled,\n",
              "  .colab-df-quickchart-complete:disabled:hover {\n",
              "    background-color: var(--disabled-bg-color);\n",
              "    fill: var(--disabled-fill-color);\n",
              "    box-shadow: none;\n",
              "  }\n",
              "\n",
              "  .colab-df-spinner {\n",
              "    border: 2px solid var(--fill-color);\n",
              "    border-color: transparent;\n",
              "    border-bottom-color: var(--fill-color);\n",
              "    animation:\n",
              "      spin 1s steps(1) infinite;\n",
              "  }\n",
              "\n",
              "  @keyframes spin {\n",
              "    0% {\n",
              "      border-color: transparent;\n",
              "      border-bottom-color: var(--fill-color);\n",
              "      border-left-color: var(--fill-color);\n",
              "    }\n",
              "    20% {\n",
              "      border-color: transparent;\n",
              "      border-left-color: var(--fill-color);\n",
              "      border-top-color: var(--fill-color);\n",
              "    }\n",
              "    30% {\n",
              "      border-color: transparent;\n",
              "      border-left-color: var(--fill-color);\n",
              "      border-top-color: var(--fill-color);\n",
              "      border-right-color: var(--fill-color);\n",
              "    }\n",
              "    40% {\n",
              "      border-color: transparent;\n",
              "      border-right-color: var(--fill-color);\n",
              "      border-top-color: var(--fill-color);\n",
              "    }\n",
              "    60% {\n",
              "      border-color: transparent;\n",
              "      border-right-color: var(--fill-color);\n",
              "    }\n",
              "    80% {\n",
              "      border-color: transparent;\n",
              "      border-right-color: var(--fill-color);\n",
              "      border-bottom-color: var(--fill-color);\n",
              "    }\n",
              "    90% {\n",
              "      border-color: transparent;\n",
              "      border-bottom-color: var(--fill-color);\n",
              "    }\n",
              "  }\n",
              "</style>\n",
              "\n",
              "  <script>\n",
              "    async function quickchart(key) {\n",
              "      const quickchartButtonEl =\n",
              "        document.querySelector('#' + key + ' button');\n",
              "      quickchartButtonEl.disabled = true;  // To prevent multiple clicks.\n",
              "      quickchartButtonEl.classList.add('colab-df-spinner');\n",
              "      try {\n",
              "        const charts = await google.colab.kernel.invokeFunction(\n",
              "            'suggestCharts', [key], {});\n",
              "      } catch (error) {\n",
              "        console.error('Error during call to suggestCharts:', error);\n",
              "      }\n",
              "      quickchartButtonEl.classList.remove('colab-df-spinner');\n",
              "      quickchartButtonEl.classList.add('colab-df-quickchart-complete');\n",
              "    }\n",
              "    (() => {\n",
              "      let quickchartButtonEl =\n",
              "        document.querySelector('#df-5c8dd2a1-3a18-4261-9884-b8e7478b89bc button');\n",
              "      quickchartButtonEl.style.display =\n",
              "        google.colab.kernel.accessAllowed ? 'block' : 'none';\n",
              "    })();\n",
              "  </script>\n",
              "</div>\n",
              "    </div>\n",
              "  </div>\n"
            ]
          },
          "metadata": {},
          "execution_count": 4
        }
      ],
      "source": [
        "training.head()"
      ]
    },
    {
      "cell_type": "markdown",
      "metadata": {
        "id": "tigK6Xv2fwuQ"
      },
      "source": []
    },
    {
      "cell_type": "code",
      "execution_count": 5,
      "metadata": {
        "colab": {
          "base_uri": "https://localhost:8080/"
        },
        "id": "YimSv7C0jVPd",
        "outputId": "06d03dc3-7f32-4123-ccc1-f05055a2fc83"
      },
      "outputs": [
        {
          "output_type": "stream",
          "name": "stdout",
          "text": [
            "Initial amount of training features: 106, and test features: 106\n",
            "Amount of features after exclusion of NaN values in training dataset: 106, and in test dataset: 106.\n"
          ]
        }
      ],
      "source": [
        "#Drop Nan\n",
        "print(f'Initial amount of training features: {len(training.columns)}, and test features: {len(test.columns)}')\n",
        "training.dropna(axis=1)\n",
        "test.dropna(axis=1)\n",
        "print(f'Amount of features after exclusion of NaN values in training dataset: {len(training.columns)}, and in test dataset: {len(test.columns)}.')"
      ]
    },
    {
      "cell_type": "code",
      "execution_count": 6,
      "metadata": {
        "colab": {
          "base_uri": "https://localhost:8080/"
        },
        "id": "v11IL9tEpBf2",
        "outputId": "dca5ec37-903e-4812-e531-a07b6283ba44"
      },
      "outputs": [
        {
          "output_type": "stream",
          "name": "stdout",
          "text": [
            "(256, 105) (103, 105) (256,) (103,)\n"
          ]
        }
      ],
      "source": [
        "# Defining features and target\n",
        "X_train = training.iloc[:,:-1]\n",
        "y_train = training.iloc[:,-1]\n",
        "X_val = test.iloc[:,:-1]\n",
        "y_val = test.iloc[:,-1]\n",
        "print(X_train.shape, X_val.shape, y_train.shape, y_val.shape)"
      ]
    },
    {
      "cell_type": "code",
      "source": [
        "list_1 = list(X_train.columns)\n",
        "list_2 = list(X_val.columns)"
      ],
      "metadata": {
        "id": "gInbTfe-nm5g"
      },
      "execution_count": 7,
      "outputs": []
    },
    {
      "cell_type": "code",
      "source": [
        "for i in list_2:\n",
        "  if i not in list_1:\n",
        "    print(i)"
      ],
      "metadata": {
        "id": "80dluiLNoJWs"
      },
      "execution_count": 8,
      "outputs": []
    },
    {
      "cell_type": "code",
      "execution_count": 9,
      "metadata": {
        "colab": {
          "base_uri": "https://localhost:8080/"
        },
        "id": "HdBnic6Bw7Qw",
        "outputId": "ca173ecd-67c0-49ab-c507-dfc1d3101869"
      },
      "outputs": [
        {
          "output_type": "stream",
          "name": "stdout",
          "text": [
            "['shape_Elongation', 'shape_Flatness', 'shape_LeastAxisLength', 'shape_MajorAxisLength', 'shape_Maximum2DDiameterColumn', 'shape_Maximum2DDiameterRow', 'shape_Maximum2DDiameterSlice', 'shape_Maximum3DDiameter', 'shape_MeshVolume', 'shape_MinorAxisLength', 'shape_Sphericity', 'shape_SurfaceArea', 'shape_SurfaceVolumeRatio', 'shape_VoxelVolume', 'firstorder_10Percentile', 'firstorder_90Percentile', 'firstorder_Energy', 'firstorder_Entropy', 'firstorder_InterquartileRange', 'firstorder_Kurtosis', 'firstorder_Maximum', 'firstorder_MeanAbsoluteDeviation', 'firstorder_Mean', 'firstorder_Median', 'firstorder_Minimum', 'firstorder_Range', 'firstorder_RobustMeanAbsoluteDeviation', 'firstorder_RootMeanSquared', 'firstorder_Skewness', 'firstorder_TotalEnergy', 'firstorder_Uniformity', 'firstorder_Variance', 'glcm_Autocorrelation', 'glcm_JointAverage', 'glcm_ClusterProminence', 'glcm_ClusterShade', 'glcm_ClusterTendency', 'glcm_Contrast', 'glcm_Correlation', 'glcm_DifferenceAverage', 'glcm_DifferenceEntropy', 'glcm_DifferenceVariance', 'glcm_JointEnergy', 'glcm_JointEntropy', 'glcm_Imc1', 'glcm_Imc2', 'glcm_Idm', 'glcm_Idmn', 'glcm_Id', 'glcm_Idn', 'glcm_InverseVariance', 'glcm_MaximumProbability', 'glcm_SumEntropy', 'glcm_SumSquares', 'glrlm_GrayLevelNonUniformity', 'glrlm_GrayLevelNonUniformityNormalized', 'glrlm_GrayLevelVariance', 'glrlm_HighGrayLevelRunEmphasis', 'glrlm_LongRunEmphasis', 'glrlm_LongRunHighGrayLevelEmphasis', 'glrlm_LongRunLowGrayLevelEmphasis', 'glrlm_LowGrayLevelRunEmphasis', 'glrlm_RunEntropy', 'glrlm_RunLengthNonUniformity', 'glrlm_RunLengthNonUniformityNormalized', 'glrlm_RunPercentage', 'glrlm_RunVariance', 'glrlm_ShortRunEmphasis', 'glrlm_ShortRunHighGrayLevelEmphasis', 'glrlm_ShortRunLowGrayLevelEmphasis', 'glszm_GrayLevelNonUniformity', 'glszm_GrayLevelNonUniformityNormalized', 'glszm_GrayLevelVariance', 'glszm_HighGrayLevelZoneEmphasis', 'glszm_LargeAreaEmphasis', 'glszm_LargeAreaHighGrayLevelEmphasis', 'glszm_LargeAreaLowGrayLevelEmphasis', 'glszm_LowGrayLevelZoneEmphasis', 'glszm_SizeZoneNonUniformity', 'glszm_SizeZoneNonUniformityNormalized', 'glszm_SmallAreaEmphasis', 'glszm_SmallAreaHighGrayLevelEmphasis', 'glszm_SmallAreaLowGrayLevelEmphasis', 'glszm_ZoneEntropy', 'glszm_ZonePercentage', 'glszm_ZoneVariance', 'gldm_DependenceEntropy', 'gldm_DependenceNonUniformity', 'gldm_DependenceNonUniformityNormalized', 'gldm_DependenceVariance', 'gldm_GrayLevelNonUniformity', 'gldm_GrayLevelVariance', 'gldm_HighGrayLevelEmphasis', 'gldm_LargeDependenceEmphasis', 'gldm_LargeDependenceHighGrayLevelEmphasis', 'gldm_LargeDependenceLowGrayLevelEmphasis', 'gldm_LowGrayLevelEmphasis', 'gldm_SmallDependenceEmphasis', 'gldm_SmallDependenceHighGrayLevelEmphasis', 'gldm_SmallDependenceLowGrayLevelEmphasis', 'ngtdm_Busyness', 'ngtdm_Coarseness', 'ngtdm_Complexity', 'ngtdm_Contrast', 'ngtdm_Strength']\n"
          ]
        }
      ],
      "source": [
        "# Print features list\n",
        "features_list = list(X_train.columns)\n",
        "print(features_list)"
      ]
    },
    {
      "cell_type": "code",
      "execution_count": 10,
      "metadata": {
        "colab": {
          "base_uri": "https://localhost:8080/"
        },
        "id": "qNzkA0AKd7ZO",
        "outputId": "590ebbe6-24e4-4cc9-ab31-1d73c933111d"
      },
      "outputs": [
        {
          "output_type": "stream",
          "name": "stdout",
          "text": [
            "[130 126]\n",
            "Number of positive samples in training data: 126 (49.22% of total)\n",
            "0.007692307692307693 0.007936507936507936\n"
          ]
        }
      ],
      "source": [
        "# Check class balance\n",
        "counts = np.bincount(y_train)\n",
        "print(counts)\n",
        "print(\n",
        "    \"Number of positive samples in training data: {} ({:.2f}% of total)\".format(\n",
        "        counts[1], 100 * float(counts[1]) / len(y_train)\n",
        "    )\n",
        ")\n",
        "\n",
        "weight_for_0 = 1.0 / counts[0]\n",
        "weight_for_1 = 1.0 / counts[1]\n",
        "print(weight_for_0, weight_for_1)"
      ]
    },
    {
      "cell_type": "code",
      "execution_count": 11,
      "metadata": {
        "colab": {
          "base_uri": "https://localhost:8080/"
        },
        "id": "BmiZSHJCjz-O",
        "outputId": "8a722beb-3100-4c23-eab6-66745a154ad9"
      },
      "outputs": [
        {
          "output_type": "stream",
          "name": "stdout",
          "text": [
            "[51 52]\n",
            "Number of positive samples in test data: 52 (50.49% of total)\n",
            "0.0196078431372549 0.019230769230769232\n"
          ]
        }
      ],
      "source": [
        "# Check class balance for the test set\n",
        "counts = np.bincount(y_val)\n",
        "print(counts)\n",
        "print(\n",
        "    \"Number of positive samples in test data: {} ({:.2f}% of total)\".format(\n",
        "        counts[1], 100 * float(counts[1]) / len(y_val)\n",
        "    )\n",
        ")\n",
        "\n",
        "weight_for_0 = 1.0 / counts[0]\n",
        "weight_for_1 = 1.0 / counts[1]\n",
        "print(weight_for_0, weight_for_1)"
      ]
    },
    {
      "cell_type": "code",
      "execution_count": 12,
      "metadata": {
        "colab": {
          "base_uri": "https://localhost:8080/"
        },
        "id": "_lxKwK9WNUeN",
        "outputId": "6ae9836d-166c-439a-d17b-f897774f1491"
      },
      "outputs": [
        {
          "output_type": "stream",
          "name": "stdout",
          "text": [
            "Non intercorrelated features:  ['shape_Elongation', 'shape_Flatness', 'shape_MajorAxisLength', 'shape_Sphericity', 'shape_SurfaceVolumeRatio', 'firstorder_90Percentile', 'firstorder_InterquartileRange', 'firstorder_Kurtosis', 'firstorder_Maximum', 'firstorder_Mean', 'firstorder_Median', 'firstorder_Minimum', 'firstorder_Range', 'firstorder_Skewness', 'firstorder_TotalEnergy', 'firstorder_Variance', 'glcm_ClusterShade', 'glcm_Correlation', 'glcm_Imc1', 'glcm_Imc2', 'glcm_InverseVariance', 'glrlm_LongRunLowGrayLevelEmphasis', 'glrlm_RunEntropy', 'glszm_GrayLevelNonUniformity', 'glszm_GrayLevelVariance', 'glszm_HighGrayLevelZoneEmphasis', 'glszm_LowGrayLevelZoneEmphasis', 'glszm_SizeZoneNonUniformity', 'glszm_SizeZoneNonUniformityNormalized', 'glszm_ZoneEntropy', 'gldm_DependenceEntropy', 'gldm_DependenceVariance', 'gldm_HighGrayLevelEmphasis', 'gldm_LargeDependenceLowGrayLevelEmphasis', 'ngtdm_Complexity']\n",
            "Number of non-intercorrelated features:  35\n"
          ]
        }
      ],
      "source": [
        "#Selection of the features, which are not 'highly intercorrelated' (correlation is defined by Spearman coefficient);\n",
        "warnings.filterwarnings(\"ignore\", category=DeprecationWarning)\n",
        "def selectNonIntercorrelated(df_in, ftrs, corr_th):\n",
        "    corr_matrix = df_in.corr(method='spearman').abs()\n",
        "    mean_absolute_corr = corr_matrix.mean()\n",
        "    intercorrelated_features_set = []\n",
        "    upper = corr_matrix.where(np.triu(np.ones(corr_matrix.shape), k=1).astype(np.bool))\n",
        "    high_corrs = upper.where(upper > corr_th).dropna(how='all', axis=1).dropna(how='all', axis=0)\n",
        "\n",
        "    for feature in high_corrs.columns:\n",
        "        mean_absolute_main = mean_absolute_corr[feature]\n",
        "        correlated_with_feature = high_corrs[feature].index[pd.notnull(high_corrs[feature])]\n",
        "        for each_correlated_feature in correlated_with_feature:\n",
        "            mean_absolute = mean_absolute_corr[each_correlated_feature]\n",
        "            if mean_absolute_main > mean_absolute:\n",
        "                if feature not in intercorrelated_features_set:\n",
        "                    intercorrelated_features_set.append(feature)\n",
        "            else:\n",
        "                if each_correlated_feature not in intercorrelated_features_set:\n",
        "                    intercorrelated_features_set.append(each_correlated_feature)\n",
        "\n",
        "    non_intercorrelated_features_set = [e for e in ftrs if e not in intercorrelated_features_set]\n",
        "\n",
        "    print ('Non intercorrelated features: ', non_intercorrelated_features_set)\n",
        "\n",
        "    return non_intercorrelated_features_set\n",
        "features_non_intercorrelated = selectNonIntercorrelated(X_train, features_list,  0.9)\n",
        "print ('Number of non-intercorrelated features: ', len(features_non_intercorrelated))"
      ]
    },
    {
      "cell_type": "markdown",
      "metadata": {
        "id": "BGuDKRUIQQxg"
      },
      "source": [
        "---\n",
        "<b>Which is the optimal number of features to selected through RFE? <b>\n",
        "\n",
        "There are some rules of thumb on how many features are need:  \n",
        "* $int(\\frac{N_{samples}}{10})$ (Abu-Mostafa, Y. S., Magdon-Ismail, M., & Lin, H. T. (2012). Learning from data. New York: AMLBook.)  \n",
        "* $\\sqrt{N_{samples}}$ (Hua, J., Xiong, Z., Lowey, J., Suh, E., & Dougherty, E. R. (2005). Optimal number of features as a function of sample size for various classification rules. Bioinformatics, 21(8), 1509-1515.)\n",
        "----"
      ]
    },
    {
      "cell_type": "code",
      "execution_count": 13,
      "metadata": {
        "colab": {
          "base_uri": "https://localhost:8080/"
        },
        "id": "QMREP6I3OIrm",
        "outputId": "c98000b4-c3ae-4d87-9d8c-fe6235628283"
      },
      "outputs": [
        {
          "output_type": "stream",
          "name": "stdout",
          "text": [
            "Number of samples in training dataset: 256\n",
            "Number of features to select according to Abu-Mostafa: 25\n",
            "Number of features to select according to Hua: 16\n"
          ]
        }
      ],
      "source": [
        "print ('Number of samples in training dataset:', X_train.shape[0])\n",
        "print ('Number of features to select according to Abu-Mostafa:', int(X_train.shape[0]/10) )\n",
        "print ('Number of features to select according to Hua:', int(np.sqrt(X_train.shape[0])))"
      ]
    },
    {
      "cell_type": "code",
      "execution_count": 52,
      "metadata": {
        "colab": {
          "base_uri": "https://localhost:8080/"
        },
        "id": "wOFJaBzNTUK9",
        "outputId": "2576f3c7-a9ce-48d1-f4e5-cbebb7aa001a"
      },
      "outputs": [
        {
          "output_type": "stream",
          "name": "stdout",
          "text": [
            "['shape_Elongation', 'shape_Flatness', 'shape_MajorAxisLength', 'shape_Sphericity', 'firstorder_InterquartileRange', 'firstorder_Kurtosis', 'firstorder_Median', 'firstorder_Minimum', 'firstorder_Range', 'firstorder_Skewness', 'firstorder_TotalEnergy', 'firstorder_Variance', 'glcm_ClusterShade', 'glcm_InverseVariance', 'glrlm_LongRunLowGrayLevelEmphasis', 'glszm_GrayLevelNonUniformity', 'glszm_GrayLevelVariance', 'glszm_LowGrayLevelZoneEmphasis', 'glszm_SizeZoneNonUniformity', 'glszm_SizeZoneNonUniformityNormalized', 'gldm_DependenceEntropy', 'gldm_DependenceVariance', 'gldm_LargeDependenceLowGrayLevelEmphasis']\n"
          ]
        }
      ],
      "source": [
        "# RFE based on Random Forest Classifier, RFC (https://scikit-learn.org/stable/modules/generated/sklearn.ensemble.RandomForestClassifier.html).\n",
        "\n",
        "estimator = RandomForestClassifier(n_estimators=100, random_state=np.random.seed(42))\n",
        "selector = RFE(estimator, n_features_to_select=23, step=1)\n",
        "selector = selector.fit(X_train[features_non_intercorrelated], y_train)\n",
        "support = selector.get_support()\n",
        "selected_features_set = X_train[features_non_intercorrelated].loc[:, support].columns.tolist()\n",
        "\n",
        "print (selected_features_set)"
      ]
    },
    {
      "cell_type": "markdown",
      "metadata": {
        "id": "gDu2v-RyVC89"
      },
      "source": [
        "Let's check if the number of selected features is actually the optimal one for this dataset through a datadriven method."
      ]
    },
    {
      "cell_type": "code",
      "execution_count": 15,
      "metadata": {
        "colab": {
          "base_uri": "https://localhost:8080/",
          "height": 410
        },
        "id": "X1XtXSYuyXgq",
        "outputId": "3a597d2b-a525-41c3-b171-36341453af6a"
      },
      "outputs": [
        {
          "output_type": "display_data",
          "data": {
            "text/plain": [
              "<Figure size 600x400 with 1 Axes>"
            ],
            "image/png": "[encoded data removed]"
          },
          "metadata": {}
        }
      ],
      "source": [
        "# ranking the features based on RFE results\n",
        "\n",
        "features_ranks = pd.DataFrame({'Features': features_non_intercorrelated, 'Ranks': selector.ranking_})\n",
        "features_ranks.sort_values(by='Ranks', inplace = True)\n",
        "\n",
        "# taking one best feature first, building the RFC, estimating the performance;\n",
        "# adding +1 next feature, repeating the steps to estimate the performance\n",
        "\n",
        "ftrs_number_tuning = []\n",
        "acc_tuning = []\n",
        "\n",
        "for i in range (1, len(features_ranks)):\n",
        "\n",
        "    ftrs_number_tuning.append(i)\n",
        "    estimator_tuning = RandomForestClassifier(n_estimators=100, random_state=np.random.seed(42))\n",
        "    estimator_tuning.fit(X_train[features_ranks['Features'][:i]], y_train)\n",
        "    outcome_pred_tuning = estimator_tuning.predict(X_val[features_ranks['Features'][:i]])\n",
        "    acc_tuning.append(balanced_accuracy_score(y_val, outcome_pred_tuning))\n",
        "\n",
        "# plotting the results\n",
        "plt.figure(figsize=(6, 4))\n",
        "plt.plot(ftrs_number_tuning, acc_tuning)\n",
        "plt.xlim(0, 38)\n",
        "plt.xlabel('Number of features')\n",
        "plt.ylabel('RFC performance')\n",
        "plt.title('RFC performance depending on number of selected features')\n",
        "plt.grid(True)\n",
        "plt.show()\n"
      ]
    },
    {
      "cell_type": "code",
      "execution_count": 53,
      "metadata": {
        "id": "A2fW6wp00KYU"
      },
      "outputs": [],
      "source": [
        "# Pick the selected features from the dataset\n",
        "X_train_sel = X_train[selected_features_set]\n",
        "X_val_sel = X_val[selected_features_set]"
      ]
    },
    {
      "cell_type": "code",
      "source": [
        "# Normalize the dataset\n",
        "mean = np.mean(X_train_sel, axis=0)\n",
        "X_train_sel -= mean\n",
        "X_val_sel -= mean\n",
        "std = np.std(X_train_sel, axis=0)\n",
        "X_train_sel /= std\n",
        "X_val_sel /= std"
      ],
      "metadata": {
        "id": "Hku1HS8u1BK9"
      },
      "execution_count": 54,
      "outputs": []
    },
    {
      "cell_type": "markdown",
      "metadata": {
        "id": "3ssl7ZNDWjMN"
      },
      "source": [
        "# MODEL 1: RFC"
      ]
    },
    {
      "cell_type": "code",
      "execution_count": 55,
      "metadata": {
        "id": "nLo1RwNoWiRt",
        "colab": {
          "base_uri": "https://localhost:8080/",
          "height": 75
        },
        "outputId": "f44db9ce-4aba-4f86-e9a8-a990409326e8"
      },
      "outputs": [
        {
          "output_type": "execute_result",
          "data": {
            "text/plain": [
              "RandomForestClassifier()"
            ],
            "text/html": [
              "<style>#sk-container-id-3 {color: black;background-color: white;}#sk-container-id-3 pre{padding: 0;}#sk-container-id-3 div.sk-toggleable {background-color: white;}#sk-container-id-3 label.sk-toggleable__label {cursor: pointer;display: block;width: 100%;margin-bottom: 0;padding: 0.3em;box-sizing: border-box;text-align: center;}#sk-container-id-3 label.sk-toggleable__label-arrow:before {content: \"▸\";float: left;margin-right: 0.25em;color: #696969;}#sk-container-id-3 label.sk-toggleable__label-arrow:hover:before {color: black;}#sk-container-id-3 div.sk-estimator:hover label.sk-toggleable__label-arrow:before {color: black;}#sk-container-id-3 div.sk-toggleable__content {max-height: 0;max-width: 0;overflow: hidden;text-align: left;background-color: #f0f8ff;}#sk-container-id-3 div.sk-toggleable__content pre {margin: 0.2em;color: black;border-radius: 0.25em;background-color: #f0f8ff;}#sk-container-id-3 input.sk-toggleable__control:checked~div.sk-toggleable__content {max-height: 200px;max-width: 100%;overflow: auto;}#sk-container-id-3 input.sk-toggleable__control:checked~label.sk-toggleable__label-arrow:before {content: \"▾\";}#sk-container-id-3 div.sk-estimator input.sk-toggleable__control:checked~label.sk-toggleable__label {background-color: #d4ebff;}#sk-container-id-3 div.sk-label input.sk-toggleable__control:checked~label.sk-toggleable__label {background-color: #d4ebff;}#sk-container-id-3 input.sk-hidden--visually {border: 0;clip: rect(1px 1px 1px 1px);clip: rect(1px, 1px, 1px, 1px);height: 1px;margin: -1px;overflow: hidden;padding: 0;position: absolute;width: 1px;}#sk-container-id-3 div.sk-estimator {font-family: monospace;background-color: #f0f8ff;border: 1px dotted black;border-radius: 0.25em;box-sizing: border-box;margin-bottom: 0.5em;}#sk-container-id-3 div.sk-estimator:hover {background-color: #d4ebff;}#sk-container-id-3 div.sk-parallel-item::after {content: \"\";width: 100%;border-bottom: 1px solid gray;flex-grow: 1;}#sk-container-id-3 div.sk-label:hover label.sk-toggleable__label {background-color: #d4ebff;}#sk-container-id-3 div.sk-serial::before {content: \"\";position: absolute;border-left: 1px solid gray;box-sizing: border-box;top: 0;bottom: 0;left: 50%;z-index: 0;}#sk-container-id-3 div.sk-serial {display: flex;flex-direction: column;align-items: center;background-color: white;padding-right: 0.2em;padding-left: 0.2em;position: relative;}#sk-container-id-3 div.sk-item {position: relative;z-index: 1;}#sk-container-id-3 div.sk-parallel {display: flex;align-items: stretch;justify-content: center;background-color: white;position: relative;}#sk-container-id-3 div.sk-item::before, #sk-container-id-3 div.sk-parallel-item::before {content: \"\";position: absolute;border-left: 1px solid gray;box-sizing: border-box;top: 0;bottom: 0;left: 50%;z-index: -1;}#sk-container-id-3 div.sk-parallel-item {display: flex;flex-direction: column;z-index: 1;position: relative;background-color: white;}#sk-container-id-3 div.sk-parallel-item:first-child::after {align-self: flex-end;width: 50%;}#sk-container-id-3 div.sk-parallel-item:last-child::after {align-self: flex-start;width: 50%;}#sk-container-id-3 div.sk-parallel-item:only-child::after {width: 0;}#sk-container-id-3 div.sk-dashed-wrapped {border: 1px dashed gray;margin: 0 0.4em 0.5em 0.4em;box-sizing: border-box;padding-bottom: 0.4em;background-color: white;}#sk-container-id-3 div.sk-label label {font-family: monospace;font-weight: bold;display: inline-block;line-height: 1.2em;}#sk-container-id-3 div.sk-label-container {text-align: center;}#sk-container-id-3 div.sk-container {/* jupyter's `normalize.less` sets `[hidden] { display: none; }` but bootstrap.min.css set `[hidden] { display: none !important; }` so we also need the `!important` here to be able to override the default hidden behavior on the sphinx rendered scikit-learn.org. See: https://github.com/scikit-learn/scikit-learn/issues/21755 */display: inline-block !important;position: relative;}#sk-container-id-3 div.sk-text-repr-fallback {display: none;}</style><div id=\"sk-container-id-3\" class=\"sk-top-container\"><div class=\"sk-text-repr-fallback\"><pre>RandomForestClassifier()</pre><b>In a Jupyter environment, please rerun this cell to show the HTML representation or trust the notebook. <br />On GitHub, the HTML representation is unable to render, please try loading this page with nbviewer.org.</b></div><div class=\"sk-container\" hidden><div class=\"sk-item\"><div class=\"sk-estimator sk-toggleable\"><input class=\"sk-toggleable__control sk-hidden--visually\" id=\"sk-estimator-id-3\" type=\"checkbox\" checked><label for=\"sk-estimator-id-3\" class=\"sk-toggleable__label sk-toggleable__label-arrow\">RandomForestClassifier</label><div class=\"sk-toggleable__content\"><pre>RandomForestClassifier()</pre></div></div></div></div></div>"
            ]
          },
          "metadata": {},
          "execution_count": 55
        }
      ],
      "source": [
        "rfc = RandomForestClassifier(n_estimators=100, random_state=np.random.seed(42))\n",
        "rfc.fit(X_train_sel, y_train)"
      ]
    },
    {
      "cell_type": "code",
      "execution_count": 56,
      "metadata": {
        "colab": {
          "base_uri": "https://localhost:8080/",
          "height": 563
        },
        "id": "MLveX-njWyjG",
        "outputId": "bbcdbfc5-e8f8-44b7-fef9-750abc1ddb0d"
      },
      "outputs": [
        {
          "output_type": "stream",
          "name": "stdout",
          "text": [
            "              precision    recall  f1-score   support\n",
            "\n",
            "           0       0.35      0.60      0.44        30\n",
            "           1       0.77      0.55      0.64        73\n",
            "\n",
            "    accuracy                           0.56       103\n",
            "   macro avg       0.56      0.57      0.54       103\n",
            "weighted avg       0.65      0.56      0.58       103\n",
            "\n"
          ]
        },
        {
          "output_type": "display_data",
          "data": {
            "text/plain": [
              "<Figure size 800x400 with 3 Axes>"
            ],
            "image/png": "[encoded data removed]"
          },
          "metadata": {}
        }
      ],
      "source": [
        "# Defining prediction for the testing set\n",
        "outcome_pred_rfc = rfc.predict(X_val_sel)\n",
        "\n",
        "#Evaluate performance through different metrics\n",
        "print(classification_report(outcome_pred_rfc, y_val))\n",
        "\n",
        "fpr, tpr, _ = roc_curve(y_val, rfc.predict_proba(X_val_sel)[:, 1])\n",
        "roc_auc = roc_auc_score(outcome_pred_rfc, y_val)\n",
        "\n",
        "cm = confusion_matrix(outcome_pred_rfc, y_val)\n",
        "\n",
        "fig, axes = plt.subplots(1, 2, figsize=(8, 4))\n",
        "axes[0].plot(fpr, tpr)\n",
        "axes[0].set_title('RFC ROC curve (AUC = {})'.format(roc_auc))\n",
        "axes[0].set_xlabel('FPR')\n",
        "axes[0].set_ylabel('TPR')\n",
        "\n",
        "f = sns.heatmap(cm, annot=True)\n",
        "axes[1].set_title('Confusion matrix for RFC')\n",
        "\n",
        "plt.tight_layout()\n",
        "plt.show()"
      ]
    },
    {
      "cell_type": "markdown",
      "metadata": {
        "id": "Bi0iHmGFaG6Z"
      },
      "source": [
        "#MODEL 2: XGBoost"
      ]
    },
    {
      "cell_type": "code",
      "execution_count": 57,
      "metadata": {
        "id": "2lfH1m5oXWEO"
      },
      "outputs": [],
      "source": [
        "#Model definition\n",
        "dtrain = xgb.DMatrix(X_train_sel, label=y_train)\n",
        "dtest = xgb.DMatrix(X_val_sel, label=y_val)\n",
        "param = {'objective': 'binary:logistic', 'eval_metric': 'aucpr'}\n",
        "evallist = [(dtest, 'eval'), (dtrain, 'train')]"
      ]
    },
    {
      "cell_type": "code",
      "execution_count": 58,
      "metadata": {
        "colab": {
          "base_uri": "https://localhost:8080/"
        },
        "id": "1wXpsuBiaiP0",
        "outputId": "f37954d9-9743-4644-8ebf-fce64220d93e"
      },
      "outputs": [
        {
          "output_type": "stream",
          "name": "stdout",
          "text": [
            "[0]\teval-aucpr:0.57702\ttrain-aucpr:0.98154\n",
            "[1]\teval-aucpr:0.57791\ttrain-aucpr:0.99028\n",
            "[2]\teval-aucpr:0.58390\ttrain-aucpr:0.99861\n",
            "[3]\teval-aucpr:0.57783\ttrain-aucpr:0.99956\n",
            "[4]\teval-aucpr:0.60099\ttrain-aucpr:1.00000\n",
            "[5]\teval-aucpr:0.55319\ttrain-aucpr:1.00000\n",
            "[6]\teval-aucpr:0.56496\ttrain-aucpr:1.00000\n",
            "[7]\teval-aucpr:0.58818\ttrain-aucpr:1.00000\n",
            "[8]\teval-aucpr:0.60844\ttrain-aucpr:1.00000\n",
            "[9]\teval-aucpr:0.59267\ttrain-aucpr:1.00000\n"
          ]
        },
        {
          "output_type": "stream",
          "name": "stderr",
          "text": [
            "/usr/local/lib/python3.10/dist-packages/xgboost/core.py:726: FutureWarning: Pass `evals` as keyword args.\n",
            "  warnings.warn(msg, FutureWarning)\n"
          ]
        }
      ],
      "source": [
        "#Training\n",
        "num_round = 10\n",
        "bst = xgb.train(param, dtrain, num_round, evallist)\n",
        "\n",
        "outcome_pred_xgb = bst.predict(dtest)"
      ]
    },
    {
      "cell_type": "code",
      "execution_count": 59,
      "metadata": {
        "colab": {
          "base_uri": "https://localhost:8080/",
          "height": 563
        },
        "id": "rLuy1Mfba9Y3",
        "outputId": "3a52e5a3-02f8-4fe5-8696-a0774ade6979"
      },
      "outputs": [
        {
          "output_type": "stream",
          "name": "stdout",
          "text": [
            "              precision    recall  f1-score   support\n",
            "\n",
            "           0       0.65      0.43      0.52        51\n",
            "           1       0.58      0.77      0.66        52\n",
            "\n",
            "    accuracy                           0.60       103\n",
            "   macro avg       0.61      0.60      0.59       103\n",
            "weighted avg       0.61      0.60      0.59       103\n",
            "\n"
          ]
        },
        {
          "output_type": "display_data",
          "data": {
            "text/plain": [
              "<Figure size 900x400 with 3 Axes>"
            ],
            "image/png": "[encoded data removed]"
          },
          "metadata": {}
        }
      ],
      "source": [
        "print (classification_report(y_val, outcome_pred_xgb>0.5))\n",
        "\n",
        "fpr, tpr, _ = roc_curve(y_val, outcome_pred_xgb>0.5)\n",
        "roc_auc = roc_auc_score(y_val, outcome_pred_xgb>0.5)\n",
        "\n",
        "cm = confusion_matrix(y_val, outcome_pred_xgb>0.5)\n",
        "\n",
        "fig, axes = plt.subplots(1, 2, figsize=(9, 4))\n",
        "axes[0].plot(fpr, tpr)\n",
        "axes[0].set_title('XGBoost ROC curve (AUC = {})'.format(roc_auc))\n",
        "axes[0].set_xlabel('FPR')\n",
        "axes[0].set_ylabel('TPR')\n",
        "\n",
        "f = sns.heatmap(cm, annot=True)\n",
        "axes[1].set_title('Confusion matrix for XGBoost')\n",
        "\n",
        "plt.tight_layout()\n",
        "plt.show()"
      ]
    },
    {
      "cell_type": "markdown",
      "metadata": {
        "id": "GkNz5UAhXIwg"
      },
      "source": [
        "# Multilayer Perceptron (MLP)"
      ]
    },
    {
      "cell_type": "code",
      "execution_count": 116,
      "metadata": {
        "id": "_1TGa8ayoaFB"
      },
      "outputs": [],
      "source": [
        "# Set random seed for reproducibility\n",
        "seed_value = 42\n",
        "np.random.seed(seed_value)\n",
        "tf.random.set_seed(seed_value)"
      ]
    },
    {
      "cell_type": "code",
      "execution_count": 136,
      "metadata": {
        "id": "ofqUk0Uq3SEO"
      },
      "outputs": [],
      "source": [
        "# Model architecture\n",
        "input_shape = X_train_sel.shape[1]\n",
        "dropoutRate = 0.3\n",
        "#\n",
        "inputArray = Input(shape=(input_shape,))\n",
        "#\n",
        "x = Dense(30, activation='relu')(inputArray)\n",
        "x = Dropout(dropoutRate)(x)\n",
        "#\n",
        "x = Dense(10)(x)\n",
        "x = Activation('relu')(x)\n",
        "x = Dropout(dropoutRate)(x)\n",
        "#\n",
        "x = Dense(5, activation='sigmoid')(x)\n",
        "#\n",
        "output = Dense(1, activation='sigmoid')(x)\n",
        "####\n",
        "model = Model(inputs=inputArray, outputs=output)"
      ]
    },
    {
      "cell_type": "code",
      "execution_count": 137,
      "metadata": {
        "colab": {
          "base_uri": "https://localhost:8080/"
        },
        "id": "4lfqUXgX3R-P",
        "outputId": "62b39e10-814d-4f91-a3ae-cc418d5943c0"
      },
      "outputs": [
        {
          "output_type": "stream",
          "name": "stdout",
          "text": [
            "Model: \"model_21\"\n",
            "_________________________________________________________________\n",
            " Layer (type)                Output Shape              Param #   \n",
            "=================================================================\n",
            " input_22 (InputLayer)       [(None, 23)]              0         \n",
            "                                                                 \n",
            " dense_84 (Dense)            (None, 30)                720       \n",
            "                                                                 \n",
            " dropout_41 (Dropout)        (None, 30)                0         \n",
            "                                                                 \n",
            " dense_85 (Dense)            (None, 10)                310       \n",
            "                                                                 \n",
            " activation_21 (Activation)  (None, 10)                0         \n",
            "                                                                 \n",
            " dropout_42 (Dropout)        (None, 10)                0         \n",
            "                                                                 \n",
            " dense_86 (Dense)            (None, 5)                 55        \n",
            "                                                                 \n",
            " dense_87 (Dense)            (None, 1)                 6         \n",
            "                                                                 \n",
            "=================================================================\n",
            "Total params: 1091 (4.26 KB)\n",
            "Trainable params: 1091 (4.26 KB)\n",
            "Non-trainable params: 0 (0.00 Byte)\n",
            "_________________________________________________________________\n"
          ]
        }
      ],
      "source": [
        "#Compile the model\n",
        "model.compile(loss='binary_crossentropy', optimizer=keras.optimizers.Adam(0.0005), metrics=['accuracy'])\n",
        "model.summary()"
      ]
    },
    {
      "cell_type": "code",
      "execution_count": 138,
      "metadata": {
        "colab": {
          "base_uri": "https://localhost:8080/"
        },
        "id": "5LOLf4l33R7N",
        "outputId": "35ecac7d-aa0f-436c-cc92-20517741e00a"
      },
      "outputs": [
        {
          "output_type": "stream",
          "name": "stdout",
          "text": [
            "Epoch 1/70\n",
            "8/8 - 2s - loss: 0.7392 - accuracy: 0.5078 - val_loss: 0.7403 - val_accuracy: 0.4951 - lr: 5.0000e-04 - 2s/epoch - 207ms/step\n",
            "Epoch 2/70\n",
            "8/8 - 0s - loss: 0.7385 - accuracy: 0.5039 - val_loss: 0.7357 - val_accuracy: 0.4951 - lr: 5.0000e-04 - 64ms/epoch - 8ms/step\n",
            "Epoch 3/70\n",
            "8/8 - 0s - loss: 0.7312 - accuracy: 0.5039 - val_loss: 0.7314 - val_accuracy: 0.4951 - lr: 5.0000e-04 - 68ms/epoch - 9ms/step\n",
            "Epoch 4/70\n",
            "8/8 - 0s - loss: 0.7286 - accuracy: 0.5078 - val_loss: 0.7275 - val_accuracy: 0.4951 - lr: 5.0000e-04 - 85ms/epoch - 11ms/step\n",
            "Epoch 5/70\n",
            "8/8 - 0s - loss: 0.7250 - accuracy: 0.5078 - val_loss: 0.7241 - val_accuracy: 0.4951 - lr: 5.0000e-04 - 133ms/epoch - 17ms/step\n",
            "Epoch 6/70\n",
            "8/8 - 0s - loss: 0.7186 - accuracy: 0.5078 - val_loss: 0.7208 - val_accuracy: 0.4951 - lr: 5.0000e-04 - 92ms/epoch - 11ms/step\n",
            "Epoch 7/70\n",
            "8/8 - 1s - loss: 0.7206 - accuracy: 0.5078 - val_loss: 0.7182 - val_accuracy: 0.4951 - lr: 5.0000e-04 - 692ms/epoch - 86ms/step\n",
            "Epoch 8/70\n",
            "8/8 - 0s - loss: 0.7126 - accuracy: 0.5078 - val_loss: 0.7156 - val_accuracy: 0.4951 - lr: 5.0000e-04 - 97ms/epoch - 12ms/step\n",
            "Epoch 9/70\n",
            "8/8 - 0s - loss: 0.7064 - accuracy: 0.5156 - val_loss: 0.7133 - val_accuracy: 0.4854 - lr: 5.0000e-04 - 93ms/epoch - 12ms/step\n",
            "Epoch 10/70\n",
            "8/8 - 0s - loss: 0.6998 - accuracy: 0.5078 - val_loss: 0.7110 - val_accuracy: 0.4757 - lr: 5.0000e-04 - 95ms/epoch - 12ms/step\n",
            "Epoch 11/70\n",
            "8/8 - 0s - loss: 0.6977 - accuracy: 0.5117 - val_loss: 0.7088 - val_accuracy: 0.4757 - lr: 5.0000e-04 - 82ms/epoch - 10ms/step\n",
            "Epoch 12/70\n",
            "8/8 - 0s - loss: 0.7012 - accuracy: 0.5156 - val_loss: 0.7065 - val_accuracy: 0.4757 - lr: 5.0000e-04 - 85ms/epoch - 11ms/step\n",
            "Epoch 13/70\n",
            "8/8 - 0s - loss: 0.6917 - accuracy: 0.5117 - val_loss: 0.7046 - val_accuracy: 0.4757 - lr: 5.0000e-04 - 109ms/epoch - 14ms/step\n",
            "Epoch 14/70\n",
            "8/8 - 0s - loss: 0.6915 - accuracy: 0.5156 - val_loss: 0.7025 - val_accuracy: 0.4951 - lr: 5.0000e-04 - 101ms/epoch - 13ms/step\n",
            "Epoch 15/70\n",
            "8/8 - 0s - loss: 0.6899 - accuracy: 0.5273 - val_loss: 0.7005 - val_accuracy: 0.5146 - lr: 5.0000e-04 - 108ms/epoch - 14ms/step\n",
            "Epoch 16/70\n",
            "8/8 - 0s - loss: 0.6880 - accuracy: 0.5430 - val_loss: 0.6988 - val_accuracy: 0.5146 - lr: 5.0000e-04 - 90ms/epoch - 11ms/step\n",
            "Epoch 17/70\n",
            "8/8 - 0s - loss: 0.6830 - accuracy: 0.5352 - val_loss: 0.6975 - val_accuracy: 0.5146 - lr: 5.0000e-04 - 94ms/epoch - 12ms/step\n",
            "Epoch 18/70\n",
            "8/8 - 0s - loss: 0.6820 - accuracy: 0.5156 - val_loss: 0.6961 - val_accuracy: 0.5146 - lr: 5.0000e-04 - 94ms/epoch - 12ms/step\n",
            "Epoch 19/70\n",
            "8/8 - 0s - loss: 0.6816 - accuracy: 0.5469 - val_loss: 0.6946 - val_accuracy: 0.5340 - lr: 5.0000e-04 - 99ms/epoch - 12ms/step\n",
            "Epoch 20/70\n",
            "8/8 - 0s - loss: 0.6817 - accuracy: 0.5352 - val_loss: 0.6934 - val_accuracy: 0.5340 - lr: 5.0000e-04 - 72ms/epoch - 9ms/step\n",
            "Epoch 21/70\n",
            "8/8 - 0s - loss: 0.6702 - accuracy: 0.5664 - val_loss: 0.6925 - val_accuracy: 0.5340 - lr: 5.0000e-04 - 79ms/epoch - 10ms/step\n",
            "Epoch 22/70\n",
            "8/8 - 0s - loss: 0.6813 - accuracy: 0.5742 - val_loss: 0.6918 - val_accuracy: 0.5340 - lr: 5.0000e-04 - 78ms/epoch - 10ms/step\n",
            "Epoch 23/70\n",
            "8/8 - 0s - loss: 0.6712 - accuracy: 0.5312 - val_loss: 0.6907 - val_accuracy: 0.5534 - lr: 5.0000e-04 - 78ms/epoch - 10ms/step\n",
            "Epoch 24/70\n",
            "8/8 - 0s - loss: 0.6772 - accuracy: 0.5547 - val_loss: 0.6899 - val_accuracy: 0.5728 - lr: 5.0000e-04 - 94ms/epoch - 12ms/step\n",
            "Epoch 25/70\n",
            "8/8 - 0s - loss: 0.6824 - accuracy: 0.5547 - val_loss: 0.6890 - val_accuracy: 0.6117 - lr: 5.0000e-04 - 76ms/epoch - 9ms/step\n",
            "Epoch 26/70\n",
            "8/8 - 0s - loss: 0.6650 - accuracy: 0.6250 - val_loss: 0.6881 - val_accuracy: 0.6117 - lr: 5.0000e-04 - 75ms/epoch - 9ms/step\n",
            "Epoch 27/70\n",
            "8/8 - 0s - loss: 0.6687 - accuracy: 0.6133 - val_loss: 0.6874 - val_accuracy: 0.5922 - lr: 5.0000e-04 - 67ms/epoch - 8ms/step\n",
            "Epoch 28/70\n",
            "8/8 - 0s - loss: 0.6701 - accuracy: 0.5977 - val_loss: 0.6867 - val_accuracy: 0.5922 - lr: 5.0000e-04 - 60ms/epoch - 8ms/step\n",
            "Epoch 29/70\n",
            "8/8 - 0s - loss: 0.6638 - accuracy: 0.5977 - val_loss: 0.6862 - val_accuracy: 0.5922 - lr: 5.0000e-04 - 61ms/epoch - 8ms/step\n",
            "Epoch 30/70\n",
            "8/8 - 0s - loss: 0.6639 - accuracy: 0.5898 - val_loss: 0.6855 - val_accuracy: 0.5922 - lr: 5.0000e-04 - 72ms/epoch - 9ms/step\n",
            "Epoch 31/70\n",
            "8/8 - 0s - loss: 0.6668 - accuracy: 0.5938 - val_loss: 0.6849 - val_accuracy: 0.5534 - lr: 5.0000e-04 - 74ms/epoch - 9ms/step\n",
            "Epoch 32/70\n",
            "8/8 - 0s - loss: 0.6632 - accuracy: 0.6094 - val_loss: 0.6843 - val_accuracy: 0.5534 - lr: 5.0000e-04 - 74ms/epoch - 9ms/step\n",
            "Epoch 33/70\n",
            "8/8 - 0s - loss: 0.6699 - accuracy: 0.6055 - val_loss: 0.6837 - val_accuracy: 0.5340 - lr: 5.0000e-04 - 67ms/epoch - 8ms/step\n",
            "Epoch 34/70\n",
            "8/8 - 0s - loss: 0.6545 - accuracy: 0.6289 - val_loss: 0.6832 - val_accuracy: 0.5340 - lr: 5.0000e-04 - 83ms/epoch - 10ms/step\n",
            "Epoch 35/70\n",
            "8/8 - 0s - loss: 0.6605 - accuracy: 0.6445 - val_loss: 0.6826 - val_accuracy: 0.5922 - lr: 5.0000e-04 - 69ms/epoch - 9ms/step\n",
            "Epoch 36/70\n",
            "8/8 - 0s - loss: 0.6535 - accuracy: 0.6445 - val_loss: 0.6820 - val_accuracy: 0.6117 - lr: 5.0000e-04 - 63ms/epoch - 8ms/step\n",
            "Epoch 37/70\n",
            "8/8 - 0s - loss: 0.6494 - accuracy: 0.6719 - val_loss: 0.6812 - val_accuracy: 0.6117 - lr: 5.0000e-04 - 77ms/epoch - 10ms/step\n",
            "Epoch 38/70\n",
            "8/8 - 0s - loss: 0.6511 - accuracy: 0.6484 - val_loss: 0.6804 - val_accuracy: 0.5922 - lr: 5.0000e-04 - 65ms/epoch - 8ms/step\n",
            "Epoch 39/70\n",
            "8/8 - 0s - loss: 0.6460 - accuracy: 0.6562 - val_loss: 0.6798 - val_accuracy: 0.5825 - lr: 5.0000e-04 - 59ms/epoch - 7ms/step\n",
            "Epoch 40/70\n",
            "8/8 - 0s - loss: 0.6548 - accuracy: 0.6328 - val_loss: 0.6790 - val_accuracy: 0.6019 - lr: 5.0000e-04 - 72ms/epoch - 9ms/step\n",
            "Epoch 41/70\n",
            "8/8 - 0s - loss: 0.6545 - accuracy: 0.6250 - val_loss: 0.6782 - val_accuracy: 0.5825 - lr: 5.0000e-04 - 69ms/epoch - 9ms/step\n",
            "Epoch 42/70\n",
            "8/8 - 0s - loss: 0.6535 - accuracy: 0.6133 - val_loss: 0.6775 - val_accuracy: 0.5825 - lr: 5.0000e-04 - 57ms/epoch - 7ms/step\n",
            "Epoch 43/70\n",
            "8/8 - 0s - loss: 0.6428 - accuracy: 0.6602 - val_loss: 0.6767 - val_accuracy: 0.5631 - lr: 5.0000e-04 - 63ms/epoch - 8ms/step\n",
            "Epoch 44/70\n",
            "8/8 - 0s - loss: 0.6444 - accuracy: 0.6758 - val_loss: 0.6760 - val_accuracy: 0.5437 - lr: 5.0000e-04 - 71ms/epoch - 9ms/step\n",
            "Epoch 45/70\n",
            "8/8 - 0s - loss: 0.6413 - accuracy: 0.6680 - val_loss: 0.6751 - val_accuracy: 0.5437 - lr: 5.0000e-04 - 71ms/epoch - 9ms/step\n",
            "Epoch 46/70\n",
            "8/8 - 0s - loss: 0.6459 - accuracy: 0.6211 - val_loss: 0.6741 - val_accuracy: 0.5437 - lr: 5.0000e-04 - 71ms/epoch - 9ms/step\n",
            "Epoch 47/70\n",
            "8/8 - 0s - loss: 0.6412 - accuracy: 0.6484 - val_loss: 0.6733 - val_accuracy: 0.5437 - lr: 5.0000e-04 - 58ms/epoch - 7ms/step\n",
            "Epoch 48/70\n",
            "8/8 - 0s - loss: 0.6308 - accuracy: 0.6953 - val_loss: 0.6722 - val_accuracy: 0.5437 - lr: 5.0000e-04 - 78ms/epoch - 10ms/step\n",
            "Epoch 49/70\n",
            "8/8 - 0s - loss: 0.6328 - accuracy: 0.6719 - val_loss: 0.6716 - val_accuracy: 0.5243 - lr: 5.0000e-04 - 62ms/epoch - 8ms/step\n",
            "Epoch 50/70\n",
            "8/8 - 0s - loss: 0.6406 - accuracy: 0.6367 - val_loss: 0.6707 - val_accuracy: 0.5243 - lr: 5.0000e-04 - 60ms/epoch - 7ms/step\n",
            "Epoch 51/70\n",
            "8/8 - 0s - loss: 0.6374 - accuracy: 0.6758 - val_loss: 0.6701 - val_accuracy: 0.5243 - lr: 5.0000e-04 - 68ms/epoch - 9ms/step\n",
            "Epoch 52/70\n",
            "8/8 - 0s - loss: 0.6126 - accuracy: 0.7461 - val_loss: 0.6696 - val_accuracy: 0.5243 - lr: 5.0000e-04 - 71ms/epoch - 9ms/step\n",
            "Epoch 53/70\n",
            "8/8 - 0s - loss: 0.6266 - accuracy: 0.6875 - val_loss: 0.6689 - val_accuracy: 0.5437 - lr: 5.0000e-04 - 60ms/epoch - 7ms/step\n",
            "Epoch 54/70\n",
            "8/8 - 0s - loss: 0.6310 - accuracy: 0.6875 - val_loss: 0.6679 - val_accuracy: 0.5437 - lr: 5.0000e-04 - 75ms/epoch - 9ms/step\n",
            "Epoch 55/70\n",
            "8/8 - 0s - loss: 0.6249 - accuracy: 0.6680 - val_loss: 0.6671 - val_accuracy: 0.5437 - lr: 5.0000e-04 - 59ms/epoch - 7ms/step\n",
            "Epoch 56/70\n",
            "8/8 - 0s - loss: 0.6256 - accuracy: 0.6680 - val_loss: 0.6661 - val_accuracy: 0.5631 - lr: 5.0000e-04 - 60ms/epoch - 7ms/step\n",
            "Epoch 57/70\n",
            "8/8 - 0s - loss: 0.6115 - accuracy: 0.7227 - val_loss: 0.6651 - val_accuracy: 0.5631 - lr: 5.0000e-04 - 63ms/epoch - 8ms/step\n",
            "Epoch 58/70\n",
            "8/8 - 0s - loss: 0.6175 - accuracy: 0.7148 - val_loss: 0.6640 - val_accuracy: 0.5631 - lr: 5.0000e-04 - 62ms/epoch - 8ms/step\n",
            "Epoch 59/70\n",
            "8/8 - 0s - loss: 0.6174 - accuracy: 0.6719 - val_loss: 0.6629 - val_accuracy: 0.5825 - lr: 5.0000e-04 - 70ms/epoch - 9ms/step\n",
            "Epoch 60/70\n",
            "8/8 - 0s - loss: 0.6013 - accuracy: 0.7383 - val_loss: 0.6621 - val_accuracy: 0.5825 - lr: 5.0000e-04 - 66ms/epoch - 8ms/step\n",
            "Epoch 61/70\n",
            "8/8 - 0s - loss: 0.6058 - accuracy: 0.7031 - val_loss: 0.6614 - val_accuracy: 0.5825 - lr: 5.0000e-04 - 70ms/epoch - 9ms/step\n",
            "Epoch 62/70\n",
            "8/8 - 0s - loss: 0.6124 - accuracy: 0.7031 - val_loss: 0.6604 - val_accuracy: 0.5825 - lr: 5.0000e-04 - 61ms/epoch - 8ms/step\n",
            "Epoch 63/70\n",
            "8/8 - 0s - loss: 0.6149 - accuracy: 0.6914 - val_loss: 0.6590 - val_accuracy: 0.6019 - lr: 5.0000e-04 - 72ms/epoch - 9ms/step\n",
            "Epoch 64/70\n",
            "8/8 - 0s - loss: 0.6046 - accuracy: 0.7070 - val_loss: 0.6580 - val_accuracy: 0.6019 - lr: 5.0000e-04 - 70ms/epoch - 9ms/step\n",
            "Epoch 65/70\n",
            "8/8 - 0s - loss: 0.6028 - accuracy: 0.6953 - val_loss: 0.6580 - val_accuracy: 0.6019 - lr: 5.0000e-04 - 70ms/epoch - 9ms/step\n",
            "Epoch 66/70\n",
            "8/8 - 0s - loss: 0.6024 - accuracy: 0.7070 - val_loss: 0.6578 - val_accuracy: 0.6019 - lr: 5.0000e-04 - 71ms/epoch - 9ms/step\n",
            "Epoch 67/70\n",
            "8/8 - 0s - loss: 0.6021 - accuracy: 0.6992 - val_loss: 0.6572 - val_accuracy: 0.6019 - lr: 5.0000e-04 - 72ms/epoch - 9ms/step\n",
            "Epoch 68/70\n",
            "8/8 - 0s - loss: 0.5967 - accuracy: 0.7305 - val_loss: 0.6567 - val_accuracy: 0.5825 - lr: 5.0000e-04 - 65ms/epoch - 8ms/step\n",
            "Epoch 69/70\n",
            "8/8 - 0s - loss: 0.5968 - accuracy: 0.6953 - val_loss: 0.6554 - val_accuracy: 0.5825 - lr: 5.0000e-04 - 61ms/epoch - 8ms/step\n",
            "Epoch 70/70\n",
            "8/8 - 0s - loss: 0.5878 - accuracy: 0.7461 - val_loss: 0.6536 - val_accuracy: 0.5825 - lr: 5.0000e-04 - 74ms/epoch - 9ms/step\n"
          ]
        }
      ],
      "source": [
        "# Parameters settings\n",
        "callbacks = [EarlyStopping(monitor='val_loss', patience=10, verbose=1),\n",
        "             #ModelCheckpoint(filepath=os.path.join(dir, 'ckpt', 'check.txt'), save_weights_only=True, monitor='val_accuracy', mode='max', save_best_only=True),\n",
        "             ReduceLROnPlateau(monitor='val_loss', factor=0.1, patience=2, verbose=1),\n",
        "             TerminateOnNaN()]\n",
        "\n",
        "\n",
        "batch_size = 32\n",
        "n_epochs = 70\n",
        "\n",
        "# train\n",
        "history = model.fit(X_train_sel, y_train, epochs=n_epochs, batch_size=batch_size, verbose = 2,\n",
        "                validation_data=(X_val_sel, y_val),\n",
        "                callbacks = callbacks,\n",
        "                )"
      ]
    },
    {
      "cell_type": "code",
      "execution_count": 139,
      "metadata": {
        "colab": {
          "base_uri": "https://localhost:8080/",
          "height": 472
        },
        "id": "csc44yoE3R4C",
        "outputId": "2b548b2b-dbcd-4351-8b59-4c89467939c9"
      },
      "outputs": [
        {
          "output_type": "display_data",
          "data": {
            "text/plain": [
              "<Figure size 640x480 with 1 Axes>"
            ],
            "image/png": "[encoded data removed]"
          },
          "metadata": {}
        }
      ],
      "source": [
        "plt.plot(history.history['loss'])\n",
        "plt.plot(history.history['val_loss'])\n",
        "plt.yscale('log')\n",
        "plt.title('Training History')\n",
        "plt.ylabel('loss')\n",
        "plt.xlabel('epoch')\n",
        "plt.legend(['training', 'validation'], loc='upper right')\n",
        "plt.show()"
      ]
    },
    {
      "cell_type": "code",
      "execution_count": 140,
      "metadata": {
        "colab": {
          "base_uri": "https://localhost:8080/",
          "height": 427
        },
        "id": "3czQMaAs3R0u",
        "outputId": "05b280d8-a09d-4109-e771-5815255a45c8"
      },
      "outputs": [
        {
          "output_type": "stream",
          "name": "stdout",
          "text": [
            "4/4 [==============================] - 0s 3ms/step\n"
          ]
        },
        {
          "output_type": "display_data",
          "data": {
            "text/plain": [
              "<Figure size 500x400 with 1 Axes>"
            ],
            "image/png": "[encoded data removed]"
          },
          "metadata": {}
        }
      ],
      "source": [
        "y_pred = model.predict(X_val_sel)\n",
        "\n",
        "fpr, tpr, thresholds = roc_curve(y_val, y_pred)\n",
        "roc_auc = roc_auc_score(y_val, y_pred)\n",
        "plt.figure(figsize=(5, 4))\n",
        "plt.plot(fpr, tpr, color='darkorange', lw=2, label='ROC curve (area = %0.2f)' % roc_auc)\n",
        "plt.plot([0, 1], [0, 1], color='navy', lw=2, linestyle='--')\n",
        "plt.xlim([0.0, 1.0])\n",
        "plt.ylim([0.0, 1.05])\n",
        "plt.xlabel('FPR')\n",
        "plt.ylabel('TPR')\n",
        "plt.title('Receiver Operating Characteristic (ROC)')\n",
        "plt.legend(loc=\"lower right\")\n",
        "plt.show()"
      ]
    },
    {
      "cell_type": "code",
      "execution_count": 141,
      "metadata": {
        "colab": {
          "base_uri": "https://localhost:8080/",
          "height": 469
        },
        "id": "OTwKqsbKl4Rq",
        "outputId": "ac624ee1-6fc6-40c2-9933-ad8a8032eb29"
      },
      "outputs": [
        {
          "output_type": "stream",
          "name": "stdout",
          "text": [
            "4/4 [==============================] - 0s 2ms/step\n"
          ]
        },
        {
          "output_type": "display_data",
          "data": {
            "text/plain": [
              "<Figure size 640x480 with 2 Axes>"
            ],
            "image/png": "[encoded data removed]"
          },
          "metadata": {}
        }
      ],
      "source": [
        "y_pred = model.predict(X_val_sel)\n",
        "\n",
        "cm = confusion_matrix(y_val, y_pred>0.5)\n",
        "f = sns.heatmap(cm, annot=True)\n",
        "plt.title('Condusion matrix for MLP')\n",
        "plt.plot()\n",
        "plt.show()"
      ]
    },
    {
      "cell_type": "markdown",
      "metadata": {
        "id": "GdPzhu18u4xB"
      },
      "source": [
        "Let's try with the K fold"
      ]
    },
    {
      "cell_type": "code",
      "execution_count": 142,
      "metadata": {
        "id": "Ge5r74SfGLt0"
      },
      "outputs": [],
      "source": [
        "inputs = np.concatenate((X_train_sel, X_val_sel), axis=0)\n",
        "targets= np.concatenate((y_train, y_val), axis=0)"
      ]
    },
    {
      "cell_type": "code",
      "execution_count": 143,
      "metadata": {
        "id": "q76LiZ_lHCUR"
      },
      "outputs": [],
      "source": [
        "acc_per_fold = []\n",
        "loss_per_fold = []"
      ]
    },
    {
      "cell_type": "code",
      "execution_count": 144,
      "metadata": {
        "id": "PwAUMKLkHSOF"
      },
      "outputs": [],
      "source": [
        "n_splits = 3\n",
        "skf = StratifiedKFold(n_splits=n_splits, shuffle=True, random_state=42)"
      ]
    },
    {
      "cell_type": "code",
      "execution_count": 145,
      "metadata": {
        "colab": {
          "base_uri": "https://localhost:8080/"
        },
        "id": "arWf-g0DBx0A",
        "outputId": "da91bbfa-54c9-403b-b578-7390fc0bee2c"
      },
      "outputs": [
        {
          "output_type": "stream",
          "name": "stdout",
          "text": [
            "Model: \"model_22\"\n",
            "_________________________________________________________________\n",
            " Layer (type)                Output Shape              Param #   \n",
            "=================================================================\n",
            " input_23 (InputLayer)       [(None, 23)]              0         \n",
            "                                                                 \n",
            " dense_88 (Dense)            (None, 40)                960       \n",
            "                                                                 \n",
            " dropout_43 (Dropout)        (None, 40)                0         \n",
            "                                                                 \n",
            " dense_89 (Dense)            (None, 20)                820       \n",
            "                                                                 \n",
            " activation_22 (Activation)  (None, 20)                0         \n",
            "                                                                 \n",
            " dropout_44 (Dropout)        (None, 20)                0         \n",
            "                                                                 \n",
            " dense_90 (Dense)            (None, 5)                 105       \n",
            "                                                                 \n",
            " dense_91 (Dense)            (None, 1)                 6         \n",
            "                                                                 \n",
            "=================================================================\n",
            "Total params: 1891 (7.39 KB)\n",
            "Trainable params: 1891 (7.39 KB)\n",
            "Non-trainable params: 0 (0.00 Byte)\n",
            "_________________________________________________________________\n",
            "------------------------------------------------------------------------\n",
            "Training for fold 1 ...\n",
            "Epoch 1/50\n",
            "8/8 [==============================] - 2s 30ms/step - loss: 0.7297 - accuracy: 0.5063 - val_loss: 0.7060 - val_accuracy: 0.5000 - lr: 0.0020\n",
            "Epoch 2/50\n",
            "8/8 [==============================] - 0s 10ms/step - loss: 0.6989 - accuracy: 0.5105 - val_loss: 0.6878 - val_accuracy: 0.5083 - lr: 0.0020\n",
            "Epoch 3/50\n",
            "8/8 [==============================] - 0s 10ms/step - loss: 0.6734 - accuracy: 0.5858 - val_loss: 0.6772 - val_accuracy: 0.5333 - lr: 0.0020\n",
            "Epoch 4/50\n",
            "8/8 [==============================] - 0s 9ms/step - loss: 0.6729 - accuracy: 0.5774 - val_loss: 0.6702 - val_accuracy: 0.6000 - lr: 0.0020\n",
            "Epoch 5/50\n",
            "8/8 [==============================] - 0s 8ms/step - loss: 0.6684 - accuracy: 0.5858 - val_loss: 0.6633 - val_accuracy: 0.6083 - lr: 0.0020\n",
            "Epoch 6/50\n",
            "8/8 [==============================] - 0s 8ms/step - loss: 0.6578 - accuracy: 0.6276 - val_loss: 0.6562 - val_accuracy: 0.6167 - lr: 0.0020\n",
            "Epoch 7/50\n",
            "8/8 [==============================] - 0s 8ms/step - loss: 0.6548 - accuracy: 0.6234 - val_loss: 0.6496 - val_accuracy: 0.6417 - lr: 0.0020\n",
            "Epoch 8/50\n",
            "8/8 [==============================] - 0s 8ms/step - loss: 0.6438 - accuracy: 0.6025 - val_loss: 0.6432 - val_accuracy: 0.6333 - lr: 0.0020\n",
            "Epoch 9/50\n",
            "8/8 [==============================] - 0s 10ms/step - loss: 0.6423 - accuracy: 0.6151 - val_loss: 0.6369 - val_accuracy: 0.6333 - lr: 0.0020\n",
            "Epoch 10/50\n",
            "8/8 [==============================] - 0s 8ms/step - loss: 0.6293 - accuracy: 0.6192 - val_loss: 0.6309 - val_accuracy: 0.6417 - lr: 0.0020\n",
            "Epoch 11/50\n",
            "8/8 [==============================] - 0s 10ms/step - loss: 0.6198 - accuracy: 0.6611 - val_loss: 0.6251 - val_accuracy: 0.6500 - lr: 0.0020\n",
            "Epoch 12/50\n",
            "8/8 [==============================] - 0s 10ms/step - loss: 0.6112 - accuracy: 0.6695 - val_loss: 0.6217 - val_accuracy: 0.6500 - lr: 0.0020\n",
            "Epoch 13/50\n",
            "8/8 [==============================] - 0s 11ms/step - loss: 0.6103 - accuracy: 0.6402 - val_loss: 0.6199 - val_accuracy: 0.6500 - lr: 0.0020\n",
            "Epoch 14/50\n",
            "8/8 [==============================] - 0s 8ms/step - loss: 0.6051 - accuracy: 0.6653 - val_loss: 0.6149 - val_accuracy: 0.6500 - lr: 0.0020\n",
            "Epoch 15/50\n",
            "8/8 [==============================] - 0s 8ms/step - loss: 0.6006 - accuracy: 0.6402 - val_loss: 0.6084 - val_accuracy: 0.6500 - lr: 0.0020\n",
            "Epoch 16/50\n",
            "8/8 [==============================] - 0s 10ms/step - loss: 0.5970 - accuracy: 0.6904 - val_loss: 0.6024 - val_accuracy: 0.6583 - lr: 0.0020\n",
            "Epoch 17/50\n",
            "8/8 [==============================] - 0s 9ms/step - loss: 0.5926 - accuracy: 0.6820 - val_loss: 0.6008 - val_accuracy: 0.6500 - lr: 0.0020\n",
            "Epoch 18/50\n",
            "8/8 [==============================] - 0s 8ms/step - loss: 0.5766 - accuracy: 0.7197 - val_loss: 0.5950 - val_accuracy: 0.6667 - lr: 0.0020\n",
            "Epoch 19/50\n",
            "8/8 [==============================] - 0s 10ms/step - loss: 0.5867 - accuracy: 0.6862 - val_loss: 0.5915 - val_accuracy: 0.6750 - lr: 0.0020\n",
            "Epoch 20/50\n",
            "8/8 [==============================] - 0s 10ms/step - loss: 0.5587 - accuracy: 0.7238 - val_loss: 0.5910 - val_accuracy: 0.6750 - lr: 0.0020\n",
            "Epoch 21/50\n",
            "8/8 [==============================] - 0s 8ms/step - loss: 0.5461 - accuracy: 0.7322 - val_loss: 0.5893 - val_accuracy: 0.6750 - lr: 0.0020\n",
            "Epoch 22/50\n",
            "8/8 [==============================] - 0s 8ms/step - loss: 0.5630 - accuracy: 0.7322 - val_loss: 0.5895 - val_accuracy: 0.6667 - lr: 0.0020\n",
            "Epoch 23/50\n",
            "8/8 [==============================] - 0s 9ms/step - loss: 0.5654 - accuracy: 0.7197 - val_loss: 0.5846 - val_accuracy: 0.6667 - lr: 0.0020\n",
            "Epoch 24/50\n",
            "8/8 [==============================] - 0s 19ms/step - loss: 0.5612 - accuracy: 0.7238 - val_loss: 0.5809 - val_accuracy: 0.7000 - lr: 0.0020\n",
            "Epoch 25/50\n",
            "8/8 [==============================] - 0s 13ms/step - loss: 0.5596 - accuracy: 0.7113 - val_loss: 0.5808 - val_accuracy: 0.7000 - lr: 0.0020\n",
            "Epoch 26/50\n",
            "8/8 [==============================] - 0s 13ms/step - loss: 0.5239 - accuracy: 0.7699 - val_loss: 0.5793 - val_accuracy: 0.6917 - lr: 0.0020\n",
            "Epoch 27/50\n",
            "8/8 [==============================] - 0s 12ms/step - loss: 0.5494 - accuracy: 0.7406 - val_loss: 0.5785 - val_accuracy: 0.6917 - lr: 0.0020\n",
            "Epoch 28/50\n",
            "8/8 [==============================] - 0s 12ms/step - loss: 0.5356 - accuracy: 0.7280 - val_loss: 0.5781 - val_accuracy: 0.6917 - lr: 0.0020\n",
            "Epoch 29/50\n",
            "8/8 [==============================] - 0s 12ms/step - loss: 0.5342 - accuracy: 0.7238 - val_loss: 0.5762 - val_accuracy: 0.6833 - lr: 0.0020\n",
            "Epoch 30/50\n",
            "8/8 [==============================] - 0s 13ms/step - loss: 0.5174 - accuracy: 0.7741 - val_loss: 0.5758 - val_accuracy: 0.6833 - lr: 0.0020\n",
            "Epoch 31/50\n",
            "8/8 [==============================] - 0s 12ms/step - loss: 0.5266 - accuracy: 0.7406 - val_loss: 0.5767 - val_accuracy: 0.6833 - lr: 0.0020\n",
            "Epoch 32/50\n",
            "1/8 [==>...........................] - ETA: 0s - loss: 0.5794 - accuracy: 0.6875\n",
            "Epoch 32: ReduceLROnPlateau reducing learning rate to 0.00020000000949949026.\n",
            "8/8 [==============================] - 0s 15ms/step - loss: 0.5141 - accuracy: 0.7657 - val_loss: 0.5771 - val_accuracy: 0.6917 - lr: 0.0020\n",
            "Epoch 33/50\n",
            "8/8 [==============================] - 0s 11ms/step - loss: 0.5126 - accuracy: 0.7657 - val_loss: 0.5770 - val_accuracy: 0.6917 - lr: 2.0000e-04\n",
            "Epoch 34/50\n",
            "1/8 [==>...........................] - ETA: 0s - loss: 0.5025 - accuracy: 0.7500\n",
            "Epoch 34: ReduceLROnPlateau reducing learning rate to 2.0000000949949027e-05.\n",
            "8/8 [==============================] - 0s 14ms/step - loss: 0.5067 - accuracy: 0.7615 - val_loss: 0.5763 - val_accuracy: 0.6917 - lr: 2.0000e-04\n",
            "Epoch 35/50\n",
            "8/8 [==============================] - 0s 13ms/step - loss: 0.5089 - accuracy: 0.7615 - val_loss: 0.5763 - val_accuracy: 0.6917 - lr: 2.0000e-05\n",
            "Epoch 36/50\n",
            "1/8 [==>...........................] - ETA: 0s - loss: 0.4694 - accuracy: 0.8125\n",
            "Epoch 36: ReduceLROnPlateau reducing learning rate to 2.0000001313746906e-06.\n",
            "8/8 [==============================] - 0s 13ms/step - loss: 0.5075 - accuracy: 0.7824 - val_loss: 0.5763 - val_accuracy: 0.6917 - lr: 2.0000e-05\n",
            "Epoch 37/50\n",
            "8/8 [==============================] - 0s 13ms/step - loss: 0.5100 - accuracy: 0.7657 - val_loss: 0.5763 - val_accuracy: 0.6917 - lr: 2.0000e-06\n",
            "Epoch 38/50\n",
            "1/8 [==>...........................] - ETA: 0s - loss: 0.5197 - accuracy: 0.7500\n",
            "Epoch 38: ReduceLROnPlateau reducing learning rate to 2.000000222324161e-07.\n",
            "8/8 [==============================] - 0s 13ms/step - loss: 0.5247 - accuracy: 0.7615 - val_loss: 0.5763 - val_accuracy: 0.6917 - lr: 2.0000e-06\n",
            "Epoch 39/50\n",
            "8/8 [==============================] - 0s 12ms/step - loss: 0.5215 - accuracy: 0.7573 - val_loss: 0.5763 - val_accuracy: 0.6917 - lr: 2.0000e-07\n",
            "Epoch 40/50\n",
            "1/8 [==>...........................] - ETA: 0s - loss: 0.5999 - accuracy: 0.7188\n",
            "Epoch 40: ReduceLROnPlateau reducing learning rate to 2.000000165480742e-08.\n",
            "8/8 [==============================] - 0s 13ms/step - loss: 0.5332 - accuracy: 0.7782 - val_loss: 0.5763 - val_accuracy: 0.6917 - lr: 2.0000e-07\n",
            "Epoch 40: early stopping\n",
            "Score for fold 1: loss of 0.5762678384780884; accuracy of 69.16666626930237%\n",
            "------------------------------------------------------------------------\n",
            "Training for fold 2 ...\n",
            "Epoch 1/50\n",
            "8/8 [==============================] - 0s 21ms/step - loss: 0.5317 - accuracy: 0.7531 - val_loss: 0.5291 - val_accuracy: 0.7500 - lr: 2.0000e-08\n",
            "Epoch 2/50\n",
            "8/8 [==============================] - 0s 12ms/step - loss: 0.5400 - accuracy: 0.7490 - val_loss: 0.5291 - val_accuracy: 0.7500 - lr: 2.0000e-08\n",
            "Epoch 3/50\n",
            "1/8 [==>...........................] - ETA: 0s - loss: 0.4937 - accuracy: 0.8125\n",
            "Epoch 3: ReduceLROnPlateau reducing learning rate to 2.000000165480742e-09.\n",
            "8/8 [==============================] - 0s 10ms/step - loss: 0.5373 - accuracy: 0.7448 - val_loss: 0.5291 - val_accuracy: 0.7500 - lr: 2.0000e-08\n",
            "Epoch 4/50\n",
            "8/8 [==============================] - 0s 10ms/step - loss: 0.5232 - accuracy: 0.7531 - val_loss: 0.5291 - val_accuracy: 0.7500 - lr: 2.0000e-09\n",
            "Epoch 5/50\n",
            "1/8 [==>...........................] - ETA: 0s - loss: 0.4770 - accuracy: 0.8125\n",
            "Epoch 5: ReduceLROnPlateau reducing learning rate to 2.000000165480742e-10.\n",
            "8/8 [==============================] - 0s 11ms/step - loss: 0.5312 - accuracy: 0.7573 - val_loss: 0.5291 - val_accuracy: 0.7500 - lr: 2.0000e-09\n",
            "Epoch 6/50\n",
            "8/8 [==============================] - 0s 11ms/step - loss: 0.5498 - accuracy: 0.7322 - val_loss: 0.5291 - val_accuracy: 0.7500 - lr: 2.0000e-10\n",
            "Epoch 7/50\n",
            "1/8 [==>...........................] - ETA: 0s - loss: 0.4949 - accuracy: 0.7188\n",
            "Epoch 7: ReduceLROnPlateau reducing learning rate to 2.000000165480742e-11.\n",
            "8/8 [==============================] - 0s 9ms/step - loss: 0.5343 - accuracy: 0.7155 - val_loss: 0.5291 - val_accuracy: 0.7500 - lr: 2.0000e-10\n",
            "Epoch 8/50\n",
            "8/8 [==============================] - 0s 9ms/step - loss: 0.5198 - accuracy: 0.7573 - val_loss: 0.5291 - val_accuracy: 0.7500 - lr: 2.0000e-11\n",
            "Epoch 9/50\n",
            "1/8 [==>...........................] - ETA: 0s - loss: 0.5215 - accuracy: 0.8438\n",
            "Epoch 9: ReduceLROnPlateau reducing learning rate to 2.000000165480742e-12.\n",
            "8/8 [==============================] - 0s 10ms/step - loss: 0.5527 - accuracy: 0.7448 - val_loss: 0.5291 - val_accuracy: 0.7500 - lr: 2.0000e-11\n",
            "Epoch 10/50\n",
            "8/8 [==============================] - 0s 10ms/step - loss: 0.5345 - accuracy: 0.7573 - val_loss: 0.5291 - val_accuracy: 0.7500 - lr: 2.0000e-12\n",
            "Epoch 11/50\n",
            "1/8 [==>...........................] - ETA: 0s - loss: 0.4826 - accuracy: 0.8125\n",
            "Epoch 11: ReduceLROnPlateau reducing learning rate to 2.000000208848829e-13.\n",
            "8/8 [==============================] - 0s 11ms/step - loss: 0.5324 - accuracy: 0.7490 - val_loss: 0.5291 - val_accuracy: 0.7500 - lr: 2.0000e-12\n",
            "Epoch 11: early stopping\n",
            "Score for fold 2: loss of 0.5290935635566711; accuracy of 75.0%\n",
            "------------------------------------------------------------------------\n",
            "Training for fold 3 ...\n",
            "Epoch 1/50\n",
            "8/8 [==============================] - 0s 22ms/step - loss: 0.5723 - accuracy: 0.6917 - val_loss: 0.4506 - val_accuracy: 0.8151 - lr: 2.0000e-13\n",
            "Epoch 2/50\n",
            "8/8 [==============================] - 0s 9ms/step - loss: 0.5796 - accuracy: 0.6958 - val_loss: 0.4506 - val_accuracy: 0.8151 - lr: 2.0000e-13\n",
            "Epoch 3/50\n",
            "1/8 [==>...........................] - ETA: 0s - loss: 0.7871 - accuracy: 0.4375\n",
            "Epoch 3: ReduceLROnPlateau reducing learning rate to 2.0000002359538835e-14.\n",
            "8/8 [==============================] - 0s 9ms/step - loss: 0.5996 - accuracy: 0.6667 - val_loss: 0.4506 - val_accuracy: 0.8151 - lr: 2.0000e-13\n",
            "Epoch 4/50\n",
            "8/8 [==============================] - 0s 8ms/step - loss: 0.5809 - accuracy: 0.6833 - val_loss: 0.4506 - val_accuracy: 0.8151 - lr: 2.0000e-14\n",
            "Epoch 5/50\n",
            "1/8 [==>...........................] - ETA: 0s - loss: 0.4630 - accuracy: 0.8125\n",
            "Epoch 5: ReduceLROnPlateau reducing learning rate to 2.000000303716519e-15.\n",
            "8/8 [==============================] - 0s 9ms/step - loss: 0.5721 - accuracy: 0.6958 - val_loss: 0.4506 - val_accuracy: 0.8151 - lr: 2.0000e-14\n",
            "Epoch 6/50\n",
            "8/8 [==============================] - 0s 10ms/step - loss: 0.5946 - accuracy: 0.6875 - val_loss: 0.4506 - val_accuracy: 0.8151 - lr: 2.0000e-15\n",
            "Epoch 7/50\n",
            "1/8 [==>...........................] - ETA: 0s - loss: 0.5815 - accuracy: 0.6250\n",
            "Epoch 7: ReduceLROnPlateau reducing learning rate to 2.0000002190132243e-16.\n",
            "8/8 [==============================] - 0s 9ms/step - loss: 0.5816 - accuracy: 0.6833 - val_loss: 0.4506 - val_accuracy: 0.8151 - lr: 2.0000e-15\n",
            "Epoch 8/50\n",
            "8/8 [==============================] - 0s 10ms/step - loss: 0.5716 - accuracy: 0.7042 - val_loss: 0.4506 - val_accuracy: 0.8151 - lr: 2.0000e-16\n",
            "Epoch 9/50\n",
            "1/8 [==>...........................] - ETA: 0s - loss: 0.6507 - accuracy: 0.6562\n",
            "Epoch 9: ReduceLROnPlateau reducing learning rate to 2.0000001660736652e-17.\n",
            "8/8 [==============================] - 0s 11ms/step - loss: 0.5820 - accuracy: 0.7000 - val_loss: 0.4506 - val_accuracy: 0.8151 - lr: 2.0000e-16\n",
            "Epoch 10/50\n",
            "8/8 [==============================] - 0s 10ms/step - loss: 0.5709 - accuracy: 0.7083 - val_loss: 0.4506 - val_accuracy: 0.8151 - lr: 2.0000e-17\n",
            "Epoch 11/50\n",
            "1/8 [==>...........................] - ETA: 0s - loss: 0.6914 - accuracy: 0.5938\n",
            "Epoch 11: ReduceLROnPlateau reducing learning rate to 2.0000001329864408e-18.\n",
            "8/8 [==============================] - 0s 10ms/step - loss: 0.5832 - accuracy: 0.7000 - val_loss: 0.4506 - val_accuracy: 0.8151 - lr: 2.0000e-17\n",
            "Epoch 11: early stopping\n",
            "Score for fold 3: loss of 0.45063814520835876; accuracy of 81.51260614395142%\n",
            "------------------------------------------------------------------------\n",
            "Score per fold:\n",
            "Fold 1 - Loss: 0.5762678384780884 - Accuracy: 69.16666626930237%\n",
            "Fold 2 - Loss: 0.5290935635566711 - Accuracy: 75.0%\n",
            "Fold 3 - Loss: 0.45063814520835876 - Accuracy: 81.51260614395142%\n",
            "------------------------------------------------------------------------\n",
            "Average scores for all folds:\n",
            "Accuracy: 75.22642413775127 (+- 5.042751151552734)\n",
            "Loss: 0.5186665157477061\n"
          ]
        }
      ],
      "source": [
        "# Define the model architecture\n",
        "input_shape = inputs.shape[1]\n",
        "dropoutRate = 0.3\n",
        "\n",
        "inputArray = Input(shape=(input_shape,))\n",
        "x = Dense(40, activation='relu')(inputArray)\n",
        "x = Dropout(dropoutRate)(x)\n",
        "x = Dense(20)(x)\n",
        "x = Activation('sigmoid')(x)\n",
        "x = Dropout(dropoutRate)(x)\n",
        "x = Dense(5, activation='sigmoid')(x)\n",
        "output = Dense(1, activation='sigmoid')(x)\n",
        "model = Model(inputs=inputArray, outputs=output)\n",
        "\n",
        "# Compile the model\n",
        "model.compile(loss='binary_crossentropy', optimizer=keras.optimizers.Adam(0.002), metrics=['accuracy'])\n",
        "model.summary()\n",
        "\n",
        "#Loop through the folds\n",
        "for fold_no, (train, test) in enumerate(skf.split(inputs, targets), 1):\n",
        "    print('------------------------------------------------------------------------')\n",
        "    print(f'Training for fold {fold_no} ...')\n",
        "\n",
        "    seed_value = 42\n",
        "    np.random.seed(seed_value)\n",
        "    tf.random.set_seed(seed_value)\n",
        "\n",
        "    batch_size = 32\n",
        "    n_epochs = 50\n",
        "\n",
        "    # Train the model\n",
        "    history = model.fit(inputs[train], targets[train], epochs=n_epochs, batch_size=batch_size, verbose=1,\n",
        "                        callbacks=[EarlyStopping(monitor='val_loss', patience=10, verbose=1),\n",
        "                                   ReduceLROnPlateau(monitor='val_loss', factor=0.1, patience=2, verbose=1),\n",
        "                                   TerminateOnNaN()],\n",
        "                        validation_data=(inputs[test], targets[test]))\n",
        "\n",
        "    # Evaluate the model\n",
        "    scores = model.evaluate(inputs[test], targets[test], verbose=0)\n",
        "    print(f'Score for fold {fold_no}: {model.metrics_names[0]} of {scores[0]}; {model.metrics_names[1]} of {scores[1] * 100}%')\n",
        "    acc_per_fold.append(scores[1] * 100)\n",
        "    loss_per_fold.append(scores[0])\n",
        "\n",
        "# Calculate and print average accuracy and loss\n",
        "print('------------------------------------------------------------------------')\n",
        "print('Score per fold:')\n",
        "for i in range(n_splits):\n",
        "    print(f'Fold {i + 1} - Loss: {loss_per_fold[i]} - Accuracy: {acc_per_fold[i]}%')\n",
        "print('------------------------------------------------------------------------')\n",
        "print('Average scores for all folds:')\n",
        "print(f'Accuracy: {np.mean(acc_per_fold)} (+- {np.std(acc_per_fold)})')\n",
        "print(f'Loss: {np.mean(loss_per_fold)}')"
      ]
    }
  ],
  "metadata": {
    "accelerator": "GPU",
    "colab": {
      "provenance": [],
      "include_colab_link": true
    },
    "kernelspec": {
      "display_name": "Python 3",
      "name": "python3"
    },
    "language_info": {
      "codemirror_mode": {
        "name": "ipython",
        "version": 3
      },
      "file_extension": ".py",
      "mimetype": "text/x-python",
      "name": "python",
      "nbconvert_exporter": "python",
      "pygments_lexer": "ipython3",
      "version": "3.9.12"
    }
  },
  "nbformat": 4,
  "nbformat_minor": 0
}