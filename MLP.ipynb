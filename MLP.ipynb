{
  "cells": [
    {
      "cell_type": "markdown",
      "metadata": {
        "id": "view-in-github",
        "colab_type": "text"
      },
      "source": [
        "<a href=\"https://colab.research.google.com/github/AgneseRT/ML_Exam/blob/main/MLP.ipynb\" target=\"_parent\"><img src=\"https://colab.research.google.com/assets/colab-badge.svg\" alt=\"Open In Colab\"/></a>"
      ]
    },
    {
      "cell_type": "markdown",
      "source": [
        "# Tumoral Histology Lung Cancer Identification\n",
        "  \n",
        "<b> Lung cancer is nowadays the major tumour-related mortality cause, with non-small cell lung cancer (NSCLC) corresponding to 85% of the incidences. Adenocarcinoma (Adk) and Squamous cell carcinoma (Scc) are two of the most common types of NSCLC, manage to distinguish between those is crucial to determine appropriate treatment decisions. The tumour presence is primarily diagnosed through imaging, then the information on the histological subtype is obtained through biopsy. Recently, Radiomics has allowed to extract quantitative information, labelled as Radiomics features, from medical images.  The idea behind is that histological and pathological information are hidden inside the images'pixel distribution so, in principle, is possible to correlate those features to tissue properties. Building a radiomics classifier that distinguishes between Adk and Scc could improve both patient life quality and clinical outcome. </b>\n",
        "\n",
        "## Introduction\n",
        "\n",
        "In this work, 3 different Dataset are considered, all provided by the I.R.C.C.S. San Matteo of Pavia. The imaging technique considered is the Computed Tomography (CT), which produces detailed cross-sectional body images through X-Rays. For each image considered, the Region of interest (ROI), corresponding to the tumoral lesion, has been segmented by clinicians. The ROI corresponds to the image part through which radiomics features are extracted.\n",
        "For each dataset, just patients with complete information are considered (CT acquisition, ROI, and target).\n",
        "The first dataset contains 135 patients, the second one 56, and the third one 30. The datasets are private, as an example an image is shown.\n",
        "\n",
        "![picture](https://drive.google.com/uc?export=view&id=1rOZGJmM5bG0mgGf9POB9e8CfXEpdcACT)   \n",
        "\n",
        "Pyradiomics has been used for features extraction (https://pyradiomics.readthedocs.io/en/latest/). All radiomics features are sensitive to images parameters, in particular to grayscale and to the voxel dimension. For this reason, is important to normalize images before extracting features. CT images grayscale spans from black to white and is defined by the Hounsfield Unit (HU), which range is [-1000, +3000]. This range is the same for each CT image, so it is not necessary to normalize the gray levels between the images. The scenario changes concerning voxel sizes, which fluctuates between images. For this reason, every image has been resampled to an isotropic voxel with a linear dimension of 0.8 mm.\n",
        "\n",
        "Considering that the whole dataset was composed by 221 patients, I applied a well-known data augmentation method, rotating the images of the three dataset.\n",
        "To do so is necessary to:\n",
        "- import nibabel as nib (Python package dedicated to nifti images)\n",
        "- read images: image = nib.read(path to the image)\n",
        "- extract data from images to obtain image as a np array: image_data = image.get_fdata()\n",
        "- define the rotation matrix (in this case I have used (1, 0, 2))\n",
        "- transpose the image_data: reoriented_data = np.transpose(image_data, (1, 0, 2))\n",
        "- define the new image considering the transposed data and the affine matrix of the original data: reoriented_img = nib.Nifti1Image(reoriented_data, image.affine)\n",
        "\n",
        "It is required to apply the aforementioned process both to images and ROIs, and randomly check that the transposed image is actually mirroring the original one.\n",
        "Once the transposed datasets are available, the features can be extracted from these to enlarge the dataset.\n"
      ],
      "metadata": {
        "id": "UntmD72m36Ab"
      }
    },
    {
      "cell_type": "code",
      "execution_count": 90,
      "metadata": {
        "id": "4OMAZgtyXIwY"
      },
      "outputs": [],
      "source": [
        "import os\n",
        "import glob\n",
        "import numpy as np\n",
        "import matplotlib.pyplot as plt\n",
        "import pandas as pd\n",
        "import seaborn as sns\n",
        "from sklearn.feature_selection import RFE\n",
        "from sklearn.ensemble import RandomForestClassifier\n",
        "from sklearn.model_selection import StratifiedKFold\n",
        "from sklearn.metrics import balanced_accuracy_score, classification_report, confusion_matrix, roc_curve, roc_auc_score\n",
        "import warnings\n",
        "import xgboost as xgb\n",
        "\n",
        "%matplotlib inline"
      ]
    },
    {
      "cell_type": "code",
      "source": [
        "!git clone https://github.com/AgneseRT/ML_Exam.git"
      ],
      "metadata": {
        "colab": {
          "base_uri": "https://localhost:8080/"
        },
        "id": "t0lTLK_0bsaz",
        "outputId": "e8649f02-7a98-4c8b-bbe8-f64f946b5a7f"
      },
      "execution_count": 91,
      "outputs": [
        {
          "output_type": "stream",
          "name": "stdout",
          "text": [
            "fatal: destination path 'ML_Exam' already exists and is not an empty directory.\n"
          ]
        }
      ]
    },
    {
      "cell_type": "code",
      "execution_count": 95,
      "metadata": {
        "id": "jWjxFaRPXIwb"
      },
      "outputs": [],
      "source": [
        "data = pd.read_excel('ML_Exam/dataset_scc.xlsx')"
      ]
    },
    {
      "cell_type": "markdown",
      "source": [
        "# Exploratory data analysis: Features reduction and selection\n",
        "\n",
        "The dataset consists of 104 features and 439 observations. The target is located in the last column, which values, 0 and 1, corresponds to Adk and Scc, respectively.\n",
        "\n",
        "As first step the dataset is explored to comprehend features distributions, assess the presence of missing values (NaN), identify uncorrelated features, and select the relevant features through which build the model.\n",
        "Features selection is performed using Recursive Feature Elimination (RFE)\n",
        "(https://scikit-learn.org/stable/modules/generated/sklearn.feature_selection.RFE.html).\n"
      ],
      "metadata": {
        "id": "leLRQOB0eZvm"
      }
    },
    {
      "cell_type": "code",
      "source": [
        "df = data._get_numeric_data()\n",
        "df.columns = df.columns.str.replace(\"original_\", \"\")\n",
        "df.head()"
      ],
      "metadata": {
        "id": "3NQgj9mZtrmw",
        "colab": {
          "base_uri": "https://localhost:8080/",
          "height": 300
        },
        "outputId": "776193c8-36e0-4ee2-874b-fe5b617b4d1b"
      },
      "execution_count": 206,
      "outputs": [
        {
          "output_type": "execute_result",
          "data": {
            "text/plain": [
              "   shape_Flatness  shape_LeastAxisLength  shape_MajorAxisLength  \\\n",
              "0        0.325243              39.963058             122.871297   \n",
              "1        0.695097              33.392982              48.040757   \n",
              "2        0.559855              24.231159              43.281106   \n",
              "3        0.709019              20.636586              29.105846   \n",
              "4        0.603733              36.821016              60.988896   \n",
              "\n",
              "   shape_Maximum2DDiameterColumn  shape_Maximum2DDiameterRow  \\\n",
              "0                     114.290857                  153.602083   \n",
              "1                      56.005714                   63.769585   \n",
              "2                      47.389450                   54.599634   \n",
              "3                      32.955728                   29.986664   \n",
              "4                      73.934025                   75.153177   \n",
              "\n",
              "   shape_Maximum2DDiameterSlice  shape_Maximum3DDiameter  shape_MeshVolume  \\\n",
              "0                     92.706850               162.094294     178054.421333   \n",
              "1                     56.091354                66.894544      49043.178667   \n",
              "2                     47.490631                60.303234      17032.746667   \n",
              "3                     33.647585                33.685605       9857.450667   \n",
              "4                     54.687476                76.453384      54667.989333   \n",
              "\n",
              "   shape_MinorAxisLength  shape_Sphericity  ...  gldm_LowGrayLevelEmphasis  \\\n",
              "0              70.430890          0.453341  ...                   0.000382   \n",
              "1              43.508916          0.650508  ...                   0.000455   \n",
              "2              28.400506          0.439813  ...                   0.000505   \n",
              "3              23.771193          0.715988  ...                   0.000479   \n",
              "4              39.406580          0.519267  ...                   0.001612   \n",
              "\n",
              "   gldm_SmallDependenceEmphasis  gldm_SmallDependenceHighGrayLevelEmphasis  \\\n",
              "0                      0.075886                                 183.282515   \n",
              "1                      0.082967                                 165.839093   \n",
              "2                      0.232733                                 460.948926   \n",
              "3                      0.165210                                 349.357125   \n",
              "4                      0.052127                                  28.343118   \n",
              "\n",
              "   gldm_SmallDependenceLowGrayLevelEmphasis  ngtdm_Busyness  ngtdm_Coarseness  \\\n",
              "0                                  0.000040        5.936933          0.000030   \n",
              "1                                  0.000062        1.886548          0.000108   \n",
              "2                                  0.000189        0.539313          0.000410   \n",
              "3                                  0.000169        0.348631          0.000561   \n",
              "4                                  0.000136        3.915091          0.000085   \n",
              "\n",
              "   ngtdm_Complexity  ngtdm_Contrast  ngtdm_Strength  Scc  \n",
              "0       2379.400945        0.004729        0.244308    1  \n",
              "1       1956.774718        0.006301        0.593506    0  \n",
              "2       4082.160313        0.050528        1.204338    0  \n",
              "3       3185.620186        0.029559        2.413428    0  \n",
              "4       1124.010802        0.001122        0.855502    1  \n",
              "\n",
              "[5 rows x 105 columns]"
            ],
            "text/html": [
              "\n",
              "\n",
              "  <div id=\"df-c56fb74d-c3df-47bc-8991-7f7f961a20ac\">\n",
              "    <div class=\"colab-df-container\">\n",
              "      <div>\n",
              "<style scoped>\n",
              "    .dataframe tbody tr th:only-of-type {\n",
              "        vertical-align: middle;\n",
              "    }\n",
              "\n",
              "    .dataframe tbody tr th {\n",
              "        vertical-align: top;\n",
              "    }\n",
              "\n",
              "    .dataframe thead th {\n",
              "        text-align: right;\n",
              "    }\n",
              "</style>\n",
              "<table border=\"1\" class=\"dataframe\">\n",
              "  <thead>\n",
              "    <tr style=\"text-align: right;\">\n",
              "      <th></th>\n",
              "      <th>shape_Flatness</th>\n",
              "      <th>shape_LeastAxisLength</th>\n",
              "      <th>shape_MajorAxisLength</th>\n",
              "      <th>shape_Maximum2DDiameterColumn</th>\n",
              "      <th>shape_Maximum2DDiameterRow</th>\n",
              "      <th>shape_Maximum2DDiameterSlice</th>\n",
              "      <th>shape_Maximum3DDiameter</th>\n",
              "      <th>shape_MeshVolume</th>\n",
              "      <th>shape_MinorAxisLength</th>\n",
              "      <th>shape_Sphericity</th>\n",
              "      <th>...</th>\n",
              "      <th>gldm_LowGrayLevelEmphasis</th>\n",
              "      <th>gldm_SmallDependenceEmphasis</th>\n",
              "      <th>gldm_SmallDependenceHighGrayLevelEmphasis</th>\n",
              "      <th>gldm_SmallDependenceLowGrayLevelEmphasis</th>\n",
              "      <th>ngtdm_Busyness</th>\n",
              "      <th>ngtdm_Coarseness</th>\n",
              "      <th>ngtdm_Complexity</th>\n",
              "      <th>ngtdm_Contrast</th>\n",
              "      <th>ngtdm_Strength</th>\n",
              "      <th>Scc</th>\n",
              "    </tr>\n",
              "  </thead>\n",
              "  <tbody>\n",
              "    <tr>\n",
              "      <th>0</th>\n",
              "      <td>0.325243</td>\n",
              "      <td>39.963058</td>\n",
              "      <td>122.871297</td>\n",
              "      <td>114.290857</td>\n",
              "      <td>153.602083</td>\n",
              "      <td>92.706850</td>\n",
              "      <td>162.094294</td>\n",
              "      <td>178054.421333</td>\n",
              "      <td>70.430890</td>\n",
              "      <td>0.453341</td>\n",
              "      <td>...</td>\n",
              "      <td>0.000382</td>\n",
              "      <td>0.075886</td>\n",
              "      <td>183.282515</td>\n",
              "      <td>0.000040</td>\n",
              "      <td>5.936933</td>\n",
              "      <td>0.000030</td>\n",
              "      <td>2379.400945</td>\n",
              "      <td>0.004729</td>\n",
              "      <td>0.244308</td>\n",
              "      <td>1</td>\n",
              "    </tr>\n",
              "    <tr>\n",
              "      <th>1</th>\n",
              "      <td>0.695097</td>\n",
              "      <td>33.392982</td>\n",
              "      <td>48.040757</td>\n",
              "      <td>56.005714</td>\n",
              "      <td>63.769585</td>\n",
              "      <td>56.091354</td>\n",
              "      <td>66.894544</td>\n",
              "      <td>49043.178667</td>\n",
              "      <td>43.508916</td>\n",
              "      <td>0.650508</td>\n",
              "      <td>...</td>\n",
              "      <td>0.000455</td>\n",
              "      <td>0.082967</td>\n",
              "      <td>165.839093</td>\n",
              "      <td>0.000062</td>\n",
              "      <td>1.886548</td>\n",
              "      <td>0.000108</td>\n",
              "      <td>1956.774718</td>\n",
              "      <td>0.006301</td>\n",
              "      <td>0.593506</td>\n",
              "      <td>0</td>\n",
              "    </tr>\n",
              "    <tr>\n",
              "      <th>2</th>\n",
              "      <td>0.559855</td>\n",
              "      <td>24.231159</td>\n",
              "      <td>43.281106</td>\n",
              "      <td>47.389450</td>\n",
              "      <td>54.599634</td>\n",
              "      <td>47.490631</td>\n",
              "      <td>60.303234</td>\n",
              "      <td>17032.746667</td>\n",
              "      <td>28.400506</td>\n",
              "      <td>0.439813</td>\n",
              "      <td>...</td>\n",
              "      <td>0.000505</td>\n",
              "      <td>0.232733</td>\n",
              "      <td>460.948926</td>\n",
              "      <td>0.000189</td>\n",
              "      <td>0.539313</td>\n",
              "      <td>0.000410</td>\n",
              "      <td>4082.160313</td>\n",
              "      <td>0.050528</td>\n",
              "      <td>1.204338</td>\n",
              "      <td>0</td>\n",
              "    </tr>\n",
              "    <tr>\n",
              "      <th>3</th>\n",
              "      <td>0.709019</td>\n",
              "      <td>20.636586</td>\n",
              "      <td>29.105846</td>\n",
              "      <td>32.955728</td>\n",
              "      <td>29.986664</td>\n",
              "      <td>33.647585</td>\n",
              "      <td>33.685605</td>\n",
              "      <td>9857.450667</td>\n",
              "      <td>23.771193</td>\n",
              "      <td>0.715988</td>\n",
              "      <td>...</td>\n",
              "      <td>0.000479</td>\n",
              "      <td>0.165210</td>\n",
              "      <td>349.357125</td>\n",
              "      <td>0.000169</td>\n",
              "      <td>0.348631</td>\n",
              "      <td>0.000561</td>\n",
              "      <td>3185.620186</td>\n",
              "      <td>0.029559</td>\n",
              "      <td>2.413428</td>\n",
              "      <td>0</td>\n",
              "    </tr>\n",
              "    <tr>\n",
              "      <th>4</th>\n",
              "      <td>0.603733</td>\n",
              "      <td>36.821016</td>\n",
              "      <td>60.988896</td>\n",
              "      <td>73.934025</td>\n",
              "      <td>75.153177</td>\n",
              "      <td>54.687476</td>\n",
              "      <td>76.453384</td>\n",
              "      <td>54667.989333</td>\n",
              "      <td>39.406580</td>\n",
              "      <td>0.519267</td>\n",
              "      <td>...</td>\n",
              "      <td>0.001612</td>\n",
              "      <td>0.052127</td>\n",
              "      <td>28.343118</td>\n",
              "      <td>0.000136</td>\n",
              "      <td>3.915091</td>\n",
              "      <td>0.000085</td>\n",
              "      <td>1124.010802</td>\n",
              "      <td>0.001122</td>\n",
              "      <td>0.855502</td>\n",
              "      <td>1</td>\n",
              "    </tr>\n",
              "  </tbody>\n",
              "</table>\n",
              "<p>5 rows × 105 columns</p>\n",
              "</div>\n",
              "      <button class=\"colab-df-convert\" onclick=\"convertToInteractive('df-c56fb74d-c3df-47bc-8991-7f7f961a20ac')\"\n",
              "              title=\"Convert this dataframe to an interactive table.\"\n",
              "              style=\"display:none;\">\n",
              "\n",
              "  <svg xmlns=\"http://www.w3.org/2000/svg\" height=\"24px\"viewBox=\"0 0 24 24\"\n",
              "       width=\"24px\">\n",
              "    <path d=\"M0 0h24v24H0V0z\" fill=\"none\"/>\n",
              "    <path d=\"M18.56 5.44l.94 2.06.94-2.06 2.06-.94-2.06-.94-.94-2.06-.94 2.06-2.06.94zm-11 1L8.5 8.5l.94-2.06 2.06-.94-2.06-.94L8.5 2.5l-.94 2.06-2.06.94zm10 10l.94 2.06.94-2.06 2.06-.94-2.06-.94-.94-2.06-.94 2.06-2.06.94z\"/><path d=\"M17.41 7.96l-1.37-1.37c-.4-.4-.92-.59-1.43-.59-.52 0-1.04.2-1.43.59L10.3 9.45l-7.72 7.72c-.78.78-.78 2.05 0 2.83L4 21.41c.39.39.9.59 1.41.59.51 0 1.02-.2 1.41-.59l7.78-7.78 2.81-2.81c.8-.78.8-2.07 0-2.86zM5.41 20L4 18.59l7.72-7.72 1.47 1.35L5.41 20z\"/>\n",
              "  </svg>\n",
              "      </button>\n",
              "\n",
              "\n",
              "\n",
              "    <div id=\"df-06a55f40-f84f-45f6-8aab-7560dc22601c\">\n",
              "      <button class=\"colab-df-quickchart\" onclick=\"quickchart('df-06a55f40-f84f-45f6-8aab-7560dc22601c')\"\n",
              "              title=\"Suggest charts.\"\n",
              "              style=\"display:none;\">\n",
              "\n",
              "<svg xmlns=\"http://www.w3.org/2000/svg\" height=\"24px\"viewBox=\"0 0 24 24\"\n",
              "     width=\"24px\">\n",
              "    <g>\n",
              "        <path d=\"M19 3H5c-1.1 0-2 .9-2 2v14c0 1.1.9 2 2 2h14c1.1 0 2-.9 2-2V5c0-1.1-.9-2-2-2zM9 17H7v-7h2v7zm4 0h-2V7h2v10zm4 0h-2v-4h2v4z\"/>\n",
              "    </g>\n",
              "</svg>\n",
              "      </button>\n",
              "    </div>\n",
              "\n",
              "<style>\n",
              "  .colab-df-quickchart {\n",
              "    background-color: #E8F0FE;\n",
              "    border: none;\n",
              "    border-radius: 50%;\n",
              "    cursor: pointer;\n",
              "    display: none;\n",
              "    fill: #1967D2;\n",
              "    height: 32px;\n",
              "    padding: 0 0 0 0;\n",
              "    width: 32px;\n",
              "  }\n",
              "\n",
              "  .colab-df-quickchart:hover {\n",
              "    background-color: #E2EBFA;\n",
              "    box-shadow: 0px 1px 2px rgba(60, 64, 67, 0.3), 0px 1px 3px 1px rgba(60, 64, 67, 0.15);\n",
              "    fill: #174EA6;\n",
              "  }\n",
              "\n",
              "  [theme=dark] .colab-df-quickchart {\n",
              "    background-color: #3B4455;\n",
              "    fill: #D2E3FC;\n",
              "  }\n",
              "\n",
              "  [theme=dark] .colab-df-quickchart:hover {\n",
              "    background-color: #434B5C;\n",
              "    box-shadow: 0px 1px 3px 1px rgba(0, 0, 0, 0.15);\n",
              "    filter: drop-shadow(0px 1px 2px rgba(0, 0, 0, 0.3));\n",
              "    fill: #FFFFFF;\n",
              "  }\n",
              "</style>\n",
              "\n",
              "    <script>\n",
              "      async function quickchart(key) {\n",
              "        const containerElement = document.querySelector('#' + key);\n",
              "        const charts = await google.colab.kernel.invokeFunction(\n",
              "            'suggestCharts', [key], {});\n",
              "      }\n",
              "    </script>\n",
              "\n",
              "      <script>\n",
              "\n",
              "function displayQuickchartButton(domScope) {\n",
              "  let quickchartButtonEl =\n",
              "    domScope.querySelector('#df-06a55f40-f84f-45f6-8aab-7560dc22601c button.colab-df-quickchart');\n",
              "  quickchartButtonEl.style.display =\n",
              "    google.colab.kernel.accessAllowed ? 'block' : 'none';\n",
              "}\n",
              "\n",
              "        displayQuickchartButton(document);\n",
              "      </script>\n",
              "      <style>\n",
              "    .colab-df-container {\n",
              "      display:flex;\n",
              "      flex-wrap:wrap;\n",
              "      gap: 12px;\n",
              "    }\n",
              "\n",
              "    .colab-df-convert {\n",
              "      background-color: #E8F0FE;\n",
              "      border: none;\n",
              "      border-radius: 50%;\n",
              "      cursor: pointer;\n",
              "      display: none;\n",
              "      fill: #1967D2;\n",
              "      height: 32px;\n",
              "      padding: 0 0 0 0;\n",
              "      width: 32px;\n",
              "    }\n",
              "\n",
              "    .colab-df-convert:hover {\n",
              "      background-color: #E2EBFA;\n",
              "      box-shadow: 0px 1px 2px rgba(60, 64, 67, 0.3), 0px 1px 3px 1px rgba(60, 64, 67, 0.15);\n",
              "      fill: #174EA6;\n",
              "    }\n",
              "\n",
              "    [theme=dark] .colab-df-convert {\n",
              "      background-color: #3B4455;\n",
              "      fill: #D2E3FC;\n",
              "    }\n",
              "\n",
              "    [theme=dark] .colab-df-convert:hover {\n",
              "      background-color: #434B5C;\n",
              "      box-shadow: 0px 1px 3px 1px rgba(0, 0, 0, 0.15);\n",
              "      filter: drop-shadow(0px 1px 2px rgba(0, 0, 0, 0.3));\n",
              "      fill: #FFFFFF;\n",
              "    }\n",
              "  </style>\n",
              "\n",
              "      <script>\n",
              "        const buttonEl =\n",
              "          document.querySelector('#df-c56fb74d-c3df-47bc-8991-7f7f961a20ac button.colab-df-convert');\n",
              "        buttonEl.style.display =\n",
              "          google.colab.kernel.accessAllowed ? 'block' : 'none';\n",
              "\n",
              "        async function convertToInteractive(key) {\n",
              "          const element = document.querySelector('#df-c56fb74d-c3df-47bc-8991-7f7f961a20ac');\n",
              "          const dataTable =\n",
              "            await google.colab.kernel.invokeFunction('convertToInteractive',\n",
              "                                                     [key], {});\n",
              "          if (!dataTable) return;\n",
              "\n",
              "          const docLinkHtml = 'Like what you see? Visit the ' +\n",
              "            '<a target=\"_blank\" href=https://colab.research.google.com/notebooks/data_table.ipynb>data table notebook</a>'\n",
              "            + ' to learn more about interactive tables.';\n",
              "          element.innerHTML = '';\n",
              "          dataTable['output_type'] = 'display_data';\n",
              "          await google.colab.output.renderOutput(dataTable, element);\n",
              "          const docLink = document.createElement('div');\n",
              "          docLink.innerHTML = docLinkHtml;\n",
              "          element.appendChild(docLink);\n",
              "        }\n",
              "      </script>\n",
              "    </div>\n",
              "  </div>\n"
            ]
          },
          "metadata": {},
          "execution_count": 206
        }
      ]
    },
    {
      "cell_type": "code",
      "source": [
        "#Drop Nan\n",
        "print('Initial amount of features: ', len(df.columns))\n",
        "df.dropna(axis=1)\n",
        "print('Amount of features after exclusion of NaN values: ', len(df.columns))"
      ],
      "metadata": {
        "colab": {
          "base_uri": "https://localhost:8080/"
        },
        "id": "YimSv7C0jVPd",
        "outputId": "94ce878f-d01b-470a-e38b-331457453528"
      },
      "execution_count": 207,
      "outputs": [
        {
          "output_type": "stream",
          "name": "stdout",
          "text": [
            "Initial amount of features:  105\n",
            "Amount of features after exclusion of NaN values:  105\n"
          ]
        }
      ]
    },
    {
      "cell_type": "code",
      "source": [
        "# Defining features and target\n",
        "features = df.iloc[:,:-1]\n",
        "target = df.iloc[:,-1]\n",
        "print(features.shape, target.shape)"
      ],
      "metadata": {
        "colab": {
          "base_uri": "https://localhost:8080/"
        },
        "id": "v11IL9tEpBf2",
        "outputId": "767bab8e-307b-4844-9c7d-e493c8c07855"
      },
      "execution_count": 208,
      "outputs": [
        {
          "output_type": "stream",
          "name": "stdout",
          "text": [
            "(438, 104) (438,)\n"
          ]
        }
      ]
    },
    {
      "cell_type": "code",
      "source": [
        "# Shuffle the data, splitting them into a training and a validation dataset\n",
        "from sklearn.model_selection import train_test_split\n",
        "X_train, X_val, y_train, y_val = train_test_split(features, target, test_size=0.33)\n",
        "print(X_train.shape, X_val.shape, y_train.shape, y_val.shape)\n",
        "del features, target"
      ],
      "metadata": {
        "colab": {
          "base_uri": "https://localhost:8080/"
        },
        "id": "sZ57BXdYO5DI",
        "outputId": "8c82b4b6-2839-4a17-d057-c13be6e149b8"
      },
      "execution_count": 209,
      "outputs": [
        {
          "output_type": "stream",
          "name": "stdout",
          "text": [
            "(293, 104) (145, 104) (293,) (145,)\n"
          ]
        }
      ]
    },
    {
      "cell_type": "code",
      "source": [
        "# Print features list\n",
        "features_list = list(X_train.columns)\n",
        "print(features_list)"
      ],
      "metadata": {
        "colab": {
          "base_uri": "https://localhost:8080/"
        },
        "id": "HdBnic6Bw7Qw",
        "outputId": "f2e3ecaf-dcc7-411f-ed21-8f68be633cb3"
      },
      "execution_count": 210,
      "outputs": [
        {
          "output_type": "stream",
          "name": "stdout",
          "text": [
            "['shape_Flatness', 'shape_LeastAxisLength', 'shape_MajorAxisLength', 'shape_Maximum2DDiameterColumn', 'shape_Maximum2DDiameterRow', 'shape_Maximum2DDiameterSlice', 'shape_Maximum3DDiameter', 'shape_MeshVolume', 'shape_MinorAxisLength', 'shape_Sphericity', 'shape_SurfaceArea', 'shape_SurfaceVolumeRatio', 'shape_VoxelVolume', 'firstorder_10Percentile', 'firstorder_90Percentile', 'firstorder_Energy', 'firstorder_Entropy', 'firstorder_InterquartileRange', 'firstorder_Kurtosis', 'firstorder_Maximum', 'firstorder_MeanAbsoluteDeviation', 'firstorder_Mean', 'firstorder_Median', 'firstorder_Minimum', 'firstorder_Range', 'firstorder_RobustMeanAbsoluteDeviation', 'firstorder_RootMeanSquared', 'firstorder_Skewness', 'firstorder_TotalEnergy', 'firstorder_Uniformity', 'firstorder_Variance', 'glcm_Autocorrelation', 'glcm_JointAverage', 'glcm_ClusterProminence', 'glcm_ClusterShade', 'glcm_ClusterTendency', 'glcm_Contrast', 'glcm_Correlation', 'glcm_DifferenceAverage', 'glcm_DifferenceEntropy', 'glcm_DifferenceVariance', 'glcm_JointEnergy', 'glcm_JointEntropy', 'glcm_Imc1', 'glcm_Imc2', 'glcm_Idm', 'glcm_Idmn', 'glcm_Id', 'glcm_Idn', 'glcm_InverseVariance', 'glcm_MaximumProbability', 'glcm_SumEntropy', 'glcm_SumSquares', 'glrlm_GrayLevelNonUniformity', 'glrlm_GrayLevelNonUniformityNormalized', 'glrlm_GrayLevelVariance', 'glrlm_HighGrayLevelRunEmphasis', 'glrlm_LongRunEmphasis', 'glrlm_LongRunHighGrayLevelEmphasis', 'glrlm_LongRunLowGrayLevelEmphasis', 'glrlm_LowGrayLevelRunEmphasis', 'glrlm_RunEntropy', 'glrlm_RunLengthNonUniformity', 'glrlm_RunLengthNonUniformityNormalized', 'glrlm_RunPercentage', 'glrlm_RunVariance', 'glrlm_ShortRunEmphasis', 'glrlm_ShortRunHighGrayLevelEmphasis', 'glrlm_ShortRunLowGrayLevelEmphasis', 'glszm_GrayLevelNonUniformity', 'glszm_GrayLevelNonUniformityNormalized', 'glszm_GrayLevelVariance', 'glszm_HighGrayLevelZoneEmphasis', 'glszm_LargeAreaEmphasis', 'glszm_LargeAreaHighGrayLevelEmphasis', 'glszm_LargeAreaLowGrayLevelEmphasis', 'glszm_LowGrayLevelZoneEmphasis', 'glszm_SizeZoneNonUniformity', 'glszm_SizeZoneNonUniformityNormalized', 'glszm_SmallAreaEmphasis', 'glszm_SmallAreaHighGrayLevelEmphasis', 'glszm_SmallAreaLowGrayLevelEmphasis', 'glszm_ZoneEntropy', 'glszm_ZonePercentage', 'glszm_ZoneVariance', 'gldm_DependenceEntropy', 'gldm_DependenceNonUniformity', 'gldm_DependenceNonUniformityNormalized', 'gldm_DependenceVariance', 'gldm_GrayLevelNonUniformity', 'gldm_GrayLevelVariance', 'gldm_HighGrayLevelEmphasis', 'gldm_LargeDependenceEmphasis', 'gldm_LargeDependenceHighGrayLevelEmphasis', 'gldm_LargeDependenceLowGrayLevelEmphasis', 'gldm_LowGrayLevelEmphasis', 'gldm_SmallDependenceEmphasis', 'gldm_SmallDependenceHighGrayLevelEmphasis', 'gldm_SmallDependenceLowGrayLevelEmphasis', 'ngtdm_Busyness', 'ngtdm_Coarseness', 'ngtdm_Complexity', 'ngtdm_Contrast', 'ngtdm_Strength']\n"
          ]
        }
      ]
    },
    {
      "cell_type": "code",
      "source": [
        "# Check class balance\n",
        "counts = np.bincount(y_train)\n",
        "print(counts)\n",
        "print(\n",
        "    \"Number of positive samples in training data: {} ({:.2f}% of total)\".format(\n",
        "        counts[1], 100 * float(counts[1]) / len(y_train)\n",
        "    )\n",
        ")\n",
        "\n",
        "weight_for_0 = 1.0 / counts[0]\n",
        "weight_for_1 = 1.0 / counts[1]\n",
        "print(weight_for_0, weight_for_1)"
      ],
      "metadata": {
        "colab": {
          "base_uri": "https://localhost:8080/"
        },
        "id": "qNzkA0AKd7ZO",
        "outputId": "945b355c-1284-46f3-eef4-1003d0c6a3ce"
      },
      "execution_count": 211,
      "outputs": [
        {
          "output_type": "stream",
          "name": "stdout",
          "text": [
            "[171 122]\n",
            "Number of positive samples in training data: 122 (41.64% of total)\n",
            "0.005847953216374269 0.00819672131147541\n"
          ]
        }
      ]
    },
    {
      "cell_type": "code",
      "source": [
        "#Selection of the features, which are not 'highly intercorrelated' (correlation is defined by Spearman coefficient);\n",
        "warnings.filterwarnings(\"ignore\", category=DeprecationWarning)\n",
        "def selectNonIntercorrelated(df_in, ftrs, corr_th):\n",
        "    corr_matrix = df_in.corr(method='spearman').abs()\n",
        "    mean_absolute_corr = corr_matrix.mean()\n",
        "    intercorrelated_features_set = []\n",
        "    upper = corr_matrix.where(np.triu(np.ones(corr_matrix.shape), k=1).astype(np.bool))\n",
        "    high_corrs = upper.where(upper > corr_th).dropna(how='all', axis=1).dropna(how='all', axis=0)\n",
        "\n",
        "    for feature in high_corrs.columns:\n",
        "        mean_absolute_main = mean_absolute_corr[feature]\n",
        "        correlated_with_feature = high_corrs[feature].index[pd.notnull(high_corrs[feature])]\n",
        "        for each_correlated_feature in correlated_with_feature:\n",
        "            mean_absolute = mean_absolute_corr[each_correlated_feature]\n",
        "            if mean_absolute_main > mean_absolute:\n",
        "                if feature not in intercorrelated_features_set:\n",
        "                    intercorrelated_features_set.append(feature)\n",
        "            else:\n",
        "                if each_correlated_feature not in intercorrelated_features_set:\n",
        "                    intercorrelated_features_set.append(each_correlated_feature)\n",
        "\n",
        "    non_intercorrelated_features_set = [e for e in ftrs if e not in intercorrelated_features_set]\n",
        "\n",
        "    print ('Non intercorrelated features: ', non_intercorrelated_features_set)\n",
        "\n",
        "    return non_intercorrelated_features_set\n",
        "features_non_intercorrelated = selectNonIntercorrelated(X_train, features_list,  0.9)\n",
        "print ('Number of non-intercorrelated features: ', len(features_non_intercorrelated))"
      ],
      "metadata": {
        "colab": {
          "base_uri": "https://localhost:8080/"
        },
        "id": "_lxKwK9WNUeN",
        "outputId": "4b4cacd0-60f5-485f-e481-ec694d5d6429"
      },
      "execution_count": 212,
      "outputs": [
        {
          "output_type": "stream",
          "name": "stdout",
          "text": [
            "Non intercorrelated features:  ['shape_Flatness', 'shape_MajorAxisLength', 'shape_Sphericity', 'shape_SurfaceVolumeRatio', 'firstorder_90Percentile', 'firstorder_InterquartileRange', 'firstorder_Kurtosis', 'firstorder_Maximum', 'firstorder_Mean', 'firstorder_Median', 'firstorder_Minimum', 'firstorder_Range', 'firstorder_Skewness', 'firstorder_TotalEnergy', 'firstorder_Variance', 'glcm_JointAverage', 'glcm_ClusterShade', 'glcm_Correlation', 'glcm_Imc1', 'glcm_Imc2', 'glcm_InverseVariance', 'glrlm_LongRunLowGrayLevelEmphasis', 'glrlm_RunEntropy', 'glszm_GrayLevelNonUniformity', 'glszm_GrayLevelVariance', 'glszm_LowGrayLevelZoneEmphasis', 'glszm_SizeZoneNonUniformity', 'glszm_SmallAreaEmphasis', 'glszm_ZoneEntropy', 'gldm_DependenceEntropy', 'gldm_DependenceNonUniformityNormalized', 'gldm_DependenceVariance', 'gldm_LargeDependenceHighGrayLevelEmphasis', 'gldm_LargeDependenceLowGrayLevelEmphasis', 'gldm_SmallDependenceHighGrayLevelEmphasis', 'gldm_SmallDependenceLowGrayLevelEmphasis', 'ngtdm_Complexity']\n",
            "Number of non-intercorrelated features:  37\n"
          ]
        }
      ]
    },
    {
      "cell_type": "markdown",
      "source": [
        "---\n",
        "<b>Which is the optimal number of features to selected through RFE? <b>\n",
        "\n",
        "There are some rules of thumb on how many features are need:  \n",
        "* $int(\\frac{N_{samples}}{10})$ (Abu-Mostafa, Y. S., Magdon-Ismail, M., & Lin, H. T. (2012). Learning from data. New York: AMLBook.)  \n",
        "* $\\sqrt{N_{samples}}$ (Hua, J., Xiong, Z., Lowey, J., Suh, E., & Dougherty, E. R. (2005). Optimal number of features as a function of sample size for various classification rules. Bioinformatics, 21(8), 1509-1515.)\n",
        "----"
      ],
      "metadata": {
        "id": "BGuDKRUIQQxg"
      }
    },
    {
      "cell_type": "code",
      "source": [
        "print ('Number of samples in training dataset:', X_train.shape[0])\n",
        "print ('Number of features to select according to Abu-Mostafa:', int(X_train.shape[0]/10) )\n",
        "print ('Number of features to select according to Hua:', int(np.sqrt(X_train.shape[0])))"
      ],
      "metadata": {
        "colab": {
          "base_uri": "https://localhost:8080/"
        },
        "id": "QMREP6I3OIrm",
        "outputId": "81b65e5d-135d-471c-cfcc-de5864330d4d"
      },
      "execution_count": 213,
      "outputs": [
        {
          "output_type": "stream",
          "name": "stdout",
          "text": [
            "Number of samples in training dataset: 293\n",
            "Number of features to select according to Abu-Mostafa: 29\n",
            "Number of features to select according to Hua: 17\n"
          ]
        }
      ]
    },
    {
      "cell_type": "code",
      "source": [
        "# RFE based on Random Forest Classifier, RFC (https://scikit-learn.org/stable/modules/generated/sklearn.ensemble.RandomForestClassifier.html).\n",
        "\n",
        "estimator = RandomForestClassifier(n_estimators=100, random_state=np.random.seed(42))\n",
        "selector = RFE(estimator, n_features_to_select=17, step=1)\n",
        "selector = selector.fit(X_train[features_non_intercorrelated], y_train)\n",
        "support = selector.get_support()\n",
        "selected_features_set = X_train[features_non_intercorrelated].loc[:, support].columns.tolist()\n",
        "\n",
        "print (selected_features_set)"
      ],
      "metadata": {
        "id": "wOFJaBzNTUK9",
        "colab": {
          "base_uri": "https://localhost:8080/"
        },
        "outputId": "c568ad0b-7835-4913-de9f-8cec996c1872"
      },
      "execution_count": 214,
      "outputs": [
        {
          "output_type": "stream",
          "name": "stdout",
          "text": [
            "['shape_Flatness', 'shape_MajorAxisLength', 'shape_Sphericity', 'shape_SurfaceVolumeRatio', 'firstorder_Kurtosis', 'firstorder_Maximum', 'firstorder_Minimum', 'firstorder_Range', 'firstorder_Skewness', 'firstorder_TotalEnergy', 'firstorder_Variance', 'glcm_InverseVariance', 'glrlm_RunEntropy', 'glszm_GrayLevelNonUniformity', 'glszm_GrayLevelVariance', 'glszm_LowGrayLevelZoneEmphasis', 'gldm_DependenceEntropy']\n"
          ]
        }
      ]
    },
    {
      "cell_type": "markdown",
      "source": [
        "Let's check if the number of selected features is actually one of the best ones for this dataset through a datadriven method."
      ],
      "metadata": {
        "id": "gDu2v-RyVC89"
      }
    },
    {
      "cell_type": "code",
      "source": [
        "# ranking the features based on RFE results\n",
        "\n",
        "features_ranks = pd.DataFrame({'Features': features_non_intercorrelated, 'Ranks': selector.ranking_})\n",
        "features_ranks.sort_values(by='Ranks', inplace = True)\n",
        "\n",
        "# taking one best feature first, building the RFC, estimating the performance;\n",
        "# adding +1 next feature, repeating the steps to estimate the performance\n",
        "\n",
        "ftrs_number_tuning = []\n",
        "acc_tuning = []\n",
        "\n",
        "for i in range (1, len(features_ranks)):\n",
        "\n",
        "    ftrs_number_tuning.append(i)\n",
        "    estimator_tuning = RandomForestClassifier(n_estimators=100, random_state=np.random.seed(42))\n",
        "    estimator_tuning.fit(X_train[features_ranks['Features'][:i]], y_train)\n",
        "    outcome_pred_tuning = estimator_tuning.predict(X_val[features_ranks['Features'][:i]])\n",
        "    acc_tuning.append(balanced_accuracy_score(y_val, outcome_pred_tuning))\n",
        "\n",
        "# plotting the results\n",
        "plt.figure(figsize=(6, 4))\n",
        "plt.plot(ftrs_number_tuning, acc_tuning)\n",
        "plt.xlabel('Number of features')\n",
        "plt.ylabel('RFC performance')\n",
        "plt.title('RFC performance depending on number of selected features')\n",
        "plt.show()\n"
      ],
      "metadata": {
        "id": "X1XtXSYuyXgq",
        "colab": {
          "base_uri": "https://localhost:8080/",
          "height": 410
        },
        "outputId": "3cc20dc6-09fd-4886-836e-c983abbe10ef"
      },
      "execution_count": 215,
      "outputs": [
        {
          "output_type": "display_data",
          "data": {
            "text/plain": [
              "<Figure size 600x400 with 1 Axes>"
            ],
            "image/png": "[encoded data removed]"
          },
          "metadata": {}
        }
      ]
    },
    {
      "cell_type": "code",
      "source": [
        "# Pick the selected features from the dataset\n",
        "X_train_sel = X_train[selected_features_set]\n",
        "X_val_sel = X_val[selected_features_set]"
      ],
      "metadata": {
        "id": "A2fW6wp00KYU"
      },
      "execution_count": 216,
      "outputs": []
    },
    {
      "cell_type": "markdown",
      "source": [
        "# MODEL 1: RFC"
      ],
      "metadata": {
        "id": "3ssl7ZNDWjMN"
      }
    },
    {
      "cell_type": "code",
      "source": [
        "rfc = RandomForestClassifier(n_estimators=100, random_state=np.random.seed(42))\n",
        "rfc.fit(X_train_sel, y_train)"
      ],
      "metadata": {
        "id": "nLo1RwNoWiRt",
        "colab": {
          "base_uri": "https://localhost:8080/",
          "height": 75
        },
        "outputId": "bf8d4c95-d3fe-45be-cd00-6148c3a489c2"
      },
      "execution_count": 217,
      "outputs": [
        {
          "output_type": "execute_result",
          "data": {
            "text/plain": [
              "RandomForestClassifier()"
            ],
            "text/html": [
              "<style>#sk-container-id-2 {color: black;background-color: white;}#sk-container-id-2 pre{padding: 0;}#sk-container-id-2 div.sk-toggleable {background-color: white;}#sk-container-id-2 label.sk-toggleable__label {cursor: pointer;display: block;width: 100%;margin-bottom: 0;padding: 0.3em;box-sizing: border-box;text-align: center;}#sk-container-id-2 label.sk-toggleable__label-arrow:before {content: \"▸\";float: left;margin-right: 0.25em;color: #696969;}#sk-container-id-2 label.sk-toggleable__label-arrow:hover:before {color: black;}#sk-container-id-2 div.sk-estimator:hover label.sk-toggleable__label-arrow:before {color: black;}#sk-container-id-2 div.sk-toggleable__content {max-height: 0;max-width: 0;overflow: hidden;text-align: left;background-color: #f0f8ff;}#sk-container-id-2 div.sk-toggleable__content pre {margin: 0.2em;color: black;border-radius: 0.25em;background-color: #f0f8ff;}#sk-container-id-2 input.sk-toggleable__control:checked~div.sk-toggleable__content {max-height: 200px;max-width: 100%;overflow: auto;}#sk-container-id-2 input.sk-toggleable__control:checked~label.sk-toggleable__label-arrow:before {content: \"▾\";}#sk-container-id-2 div.sk-estimator input.sk-toggleable__control:checked~label.sk-toggleable__label {background-color: #d4ebff;}#sk-container-id-2 div.sk-label input.sk-toggleable__control:checked~label.sk-toggleable__label {background-color: #d4ebff;}#sk-container-id-2 input.sk-hidden--visually {border: 0;clip: rect(1px 1px 1px 1px);clip: rect(1px, 1px, 1px, 1px);height: 1px;margin: -1px;overflow: hidden;padding: 0;position: absolute;width: 1px;}#sk-container-id-2 div.sk-estimator {font-family: monospace;background-color: #f0f8ff;border: 1px dotted black;border-radius: 0.25em;box-sizing: border-box;margin-bottom: 0.5em;}#sk-container-id-2 div.sk-estimator:hover {background-color: #d4ebff;}#sk-container-id-2 div.sk-parallel-item::after {content: \"\";width: 100%;border-bottom: 1px solid gray;flex-grow: 1;}#sk-container-id-2 div.sk-label:hover label.sk-toggleable__label {background-color: #d4ebff;}#sk-container-id-2 div.sk-serial::before {content: \"\";position: absolute;border-left: 1px solid gray;box-sizing: border-box;top: 0;bottom: 0;left: 50%;z-index: 0;}#sk-container-id-2 div.sk-serial {display: flex;flex-direction: column;align-items: center;background-color: white;padding-right: 0.2em;padding-left: 0.2em;position: relative;}#sk-container-id-2 div.sk-item {position: relative;z-index: 1;}#sk-container-id-2 div.sk-parallel {display: flex;align-items: stretch;justify-content: center;background-color: white;position: relative;}#sk-container-id-2 div.sk-item::before, #sk-container-id-2 div.sk-parallel-item::before {content: \"\";position: absolute;border-left: 1px solid gray;box-sizing: border-box;top: 0;bottom: 0;left: 50%;z-index: -1;}#sk-container-id-2 div.sk-parallel-item {display: flex;flex-direction: column;z-index: 1;position: relative;background-color: white;}#sk-container-id-2 div.sk-parallel-item:first-child::after {align-self: flex-end;width: 50%;}#sk-container-id-2 div.sk-parallel-item:last-child::after {align-self: flex-start;width: 50%;}#sk-container-id-2 div.sk-parallel-item:only-child::after {width: 0;}#sk-container-id-2 div.sk-dashed-wrapped {border: 1px dashed gray;margin: 0 0.4em 0.5em 0.4em;box-sizing: border-box;padding-bottom: 0.4em;background-color: white;}#sk-container-id-2 div.sk-label label {font-family: monospace;font-weight: bold;display: inline-block;line-height: 1.2em;}#sk-container-id-2 div.sk-label-container {text-align: center;}#sk-container-id-2 div.sk-container {/* jupyter's `normalize.less` sets `[hidden] { display: none; }` but bootstrap.min.css set `[hidden] { display: none !important; }` so we also need the `!important` here to be able to override the default hidden behavior on the sphinx rendered scikit-learn.org. See: https://github.com/scikit-learn/scikit-learn/issues/21755 */display: inline-block !important;position: relative;}#sk-container-id-2 div.sk-text-repr-fallback {display: none;}</style><div id=\"sk-container-id-2\" class=\"sk-top-container\"><div class=\"sk-text-repr-fallback\"><pre>RandomForestClassifier()</pre><b>In a Jupyter environment, please rerun this cell to show the HTML representation or trust the notebook. <br />On GitHub, the HTML representation is unable to render, please try loading this page with nbviewer.org.</b></div><div class=\"sk-container\" hidden><div class=\"sk-item\"><div class=\"sk-estimator sk-toggleable\"><input class=\"sk-toggleable__control sk-hidden--visually\" id=\"sk-estimator-id-2\" type=\"checkbox\" checked><label for=\"sk-estimator-id-2\" class=\"sk-toggleable__label sk-toggleable__label-arrow\">RandomForestClassifier</label><div class=\"sk-toggleable__content\"><pre>RandomForestClassifier()</pre></div></div></div></div></div>"
            ]
          },
          "metadata": {},
          "execution_count": 217
        }
      ]
    },
    {
      "cell_type": "code",
      "source": [
        "# Defining prediction for the testing set\n",
        "outcome_pred_rfc = rfc.predict(X_val_sel)\n",
        "\n",
        "#Evaluate performance through different metrics\n",
        "print(classification_report(outcome_pred_rfc, y_val))\n",
        "\n",
        "fpr, tpr, _ = roc_curve(y_val, rfc.predict_proba(X_val_sel)[:, 1])\n",
        "roc_auc = roc_auc_score(outcome_pred_rfc, y_val)\n",
        "\n",
        "cm = confusion_matrix(outcome_pred_rfc, y_val)\n",
        "\n",
        "fig, axes = plt.subplots(1, 2, figsize=(8, 4))\n",
        "axes[0].plot(fpr, tpr)\n",
        "axes[0].set_title('RFC ROC curve (AUC = {})'.format(roc_auc))\n",
        "axes[0].set_xlabel('FPR')\n",
        "axes[0].set_ylabel('TPR')\n",
        "\n",
        "f = sns.heatmap(cm, annot=True)\n",
        "axes[1].set_title('Confusion matrix for RFC')\n",
        "\n",
        "plt.tight_layout()\n",
        "plt.show()"
      ],
      "metadata": {
        "id": "MLveX-njWyjG",
        "colab": {
          "base_uri": "https://localhost:8080/",
          "height": 563
        },
        "outputId": "70533fff-ef70-49ea-bb29-f782ba8f0970"
      },
      "execution_count": 218,
      "outputs": [
        {
          "output_type": "stream",
          "name": "stdout",
          "text": [
            "              precision    recall  f1-score   support\n",
            "\n",
            "           0       0.93      0.88      0.91        93\n",
            "           1       0.81      0.88      0.84        52\n",
            "\n",
            "    accuracy                           0.88       145\n",
            "   macro avg       0.87      0.88      0.88       145\n",
            "weighted avg       0.89      0.88      0.88       145\n",
            "\n"
          ]
        },
        {
          "output_type": "display_data",
          "data": {
            "text/plain": [
              "<Figure size 800x400 with 3 Axes>"
            ],
            "image/png": "[encoded data removed]"
          },
          "metadata": {}
        }
      ]
    },
    {
      "cell_type": "markdown",
      "source": [
        "#MODEL 2: XGBoost"
      ],
      "metadata": {
        "id": "Bi0iHmGFaG6Z"
      }
    },
    {
      "cell_type": "code",
      "source": [
        "#Model definition\n",
        "dtrain = xgb.DMatrix(X_train_sel, label=y_train)\n",
        "dtest = xgb.DMatrix(X_val_sel, label=y_val)\n",
        "param = {'objective': 'binary:logistic', 'eval_metric': 'aucpr'}\n",
        "evallist = [(dtest, 'eval'), (dtrain, 'train')]"
      ],
      "metadata": {
        "id": "2lfH1m5oXWEO"
      },
      "execution_count": 219,
      "outputs": []
    },
    {
      "cell_type": "code",
      "source": [
        "#Training\n",
        "warnings.filterwarnings(\"ignore\", category=FutureWarning)\n",
        "num_round = 10\n",
        "bst = xgb.train(param, dtrain, num_round, evallist)\n",
        "\n",
        "outcome_pred_xgb = bst.predict(dtest)"
      ],
      "metadata": {
        "id": "1wXpsuBiaiP0",
        "colab": {
          "base_uri": "https://localhost:8080/"
        },
        "outputId": "9014b8b7-7514-4b51-afba-6d6ca5f7207d"
      },
      "execution_count": 220,
      "outputs": [
        {
          "output_type": "stream",
          "name": "stdout",
          "text": [
            "[0]\teval-aucpr:0.63800\ttrain-aucpr:0.87460\n",
            "[1]\teval-aucpr:0.72529\ttrain-aucpr:0.96463\n",
            "[2]\teval-aucpr:0.80853\ttrain-aucpr:0.98344\n",
            "[3]\teval-aucpr:0.81304\ttrain-aucpr:0.99356\n",
            "[4]\teval-aucpr:0.81239\ttrain-aucpr:0.99814\n",
            "[5]\teval-aucpr:0.84649\ttrain-aucpr:0.99918\n",
            "[6]\teval-aucpr:0.85673\ttrain-aucpr:0.99959\n",
            "[7]\teval-aucpr:0.85715\ttrain-aucpr:0.99980\n",
            "[8]\teval-aucpr:0.83683\ttrain-aucpr:0.99987\n",
            "[9]\teval-aucpr:0.86266\ttrain-aucpr:1.00000\n"
          ]
        }
      ]
    },
    {
      "cell_type": "code",
      "source": [
        "print (classification_report(y_val, outcome_pred_xgb>0.5))\n",
        "\n",
        "fpr, tpr, _ = roc_curve(y_val, outcome_pred_xgb>0.5)\n",
        "roc_auc = roc_auc_score(y_val, outcome_pred_xgb>0.5)\n",
        "\n",
        "cm = confusion_matrix(y_val, outcome_pred_xgb>0.5)\n",
        "\n",
        "fig, axes = plt.subplots(1, 2, figsize=(9, 4))\n",
        "axes[0].plot(fpr, tpr)\n",
        "axes[0].set_title('XGBoost ROC curve (AUC = {})'.format(roc_auc))\n",
        "axes[0].set_xlabel('FPR')\n",
        "axes[0].set_ylabel('TPR')\n",
        "\n",
        "f = sns.heatmap(cm, annot=True)\n",
        "axes[1].set_title('Confusion matrix for XGBoost')\n",
        "\n",
        "plt.tight_layout()\n",
        "plt.show()"
      ],
      "metadata": {
        "id": "rLuy1Mfba9Y3",
        "colab": {
          "base_uri": "https://localhost:8080/",
          "height": 563
        },
        "outputId": "63f70bf8-f266-472e-aea0-ea797248201b"
      },
      "execution_count": 221,
      "outputs": [
        {
          "output_type": "stream",
          "name": "stdout",
          "text": [
            "              precision    recall  f1-score   support\n",
            "\n",
            "           0       0.90      0.94      0.92        88\n",
            "           1       0.91      0.84      0.87        57\n",
            "\n",
            "    accuracy                           0.90       145\n",
            "   macro avg       0.90      0.89      0.90       145\n",
            "weighted avg       0.90      0.90      0.90       145\n",
            "\n"
          ]
        },
        {
          "output_type": "display_data",
          "data": {
            "text/plain": [
              "<Figure size 900x400 with 3 Axes>"
            ],
            "image/png": "[encoded data removed]"
          },
          "metadata": {}
        }
      ]
    },
    {
      "cell_type": "markdown",
      "metadata": {
        "id": "GkNz5UAhXIwg"
      },
      "source": [
        "# Multilayer Perceptron (MLP)"
      ]
    },
    {
      "cell_type": "code",
      "source": [
        "import tensorflow as tf\n",
        "from tensorflow import keras\n",
        "from tensorflow.keras.models import Model\n",
        "from tensorflow.keras.layers import Dense, Input, Dropout, Flatten, Activation\n",
        "from tensorflow.keras.utils import plot_model\n",
        "from tensorflow.keras import backend as K\n",
        "from tensorflow.keras import metrics, optimizers\n",
        "from tensorflow.keras.callbacks import EarlyStopping, ReduceLROnPlateau, TerminateOnNaN"
      ],
      "metadata": {
        "id": "C7D_0RsNSZIQ"
      },
      "execution_count": 222,
      "outputs": []
    },
    {
      "cell_type": "code",
      "source": [
        "# Normalize the dataset\n",
        "mean = np.mean(X_train_sel, axis=0)\n",
        "X_train_sel -= mean\n",
        "X_val_sel -= mean\n",
        "std = np.std(X_train_sel, axis=0)\n",
        "X_train_sel /= std\n",
        "X_val_sel /= std"
      ],
      "metadata": {
        "id": "uhggyaeBAwbA"
      },
      "execution_count": 223,
      "outputs": []
    },
    {
      "cell_type": "code",
      "source": [
        "# Model architecture\n",
        "input_shape = X_train_sel.shape[1]\n",
        "dropoutRate = 0.3\n",
        "#\n",
        "inputArray = Input(shape=(input_shape,))\n",
        "#\n",
        "x = Dense(30, activation='relu')(inputArray)\n",
        "x = Dropout(dropoutRate)(x)\n",
        "#\n",
        "x = Dense(15)(x)\n",
        "x = Activation('relu')(x)\n",
        "x = Dropout(dropoutRate)(x)\n",
        "#\n",
        "x = Dense(5, activation='sigmoid')(x)\n",
        "#\n",
        "output = Dense(1, activation='sigmoid')(x)\n",
        "####\n",
        "model = Model(inputs=inputArray, outputs=output)"
      ],
      "metadata": {
        "id": "ofqUk0Uq3SEO"
      },
      "execution_count": 224,
      "outputs": []
    },
    {
      "cell_type": "code",
      "source": [
        "# Set random seed for reproducibility\n",
        "seed_value = 42\n",
        "np.random.seed(seed_value)\n",
        "tf.random.set_seed(seed_value)\n",
        "\n",
        "#Compile the model\n",
        "model.compile(loss='binary_crossentropy', optimizer=keras.optimizers.Adam(0.001), metrics='accuracy')\n",
        "model.summary()"
      ],
      "metadata": {
        "colab": {
          "base_uri": "https://localhost:8080/"
        },
        "id": "4lfqUXgX3R-P",
        "outputId": "9c2a7fde-d77e-418b-e0ba-c98bcc61b34a"
      },
      "execution_count": 225,
      "outputs": [
        {
          "output_type": "stream",
          "name": "stdout",
          "text": [
            "Model: \"model_19\"\n",
            "_________________________________________________________________\n",
            " Layer (type)                Output Shape              Param #   \n",
            "=================================================================\n",
            " input_20 (InputLayer)       [(None, 17)]              0         \n",
            "                                                                 \n",
            " dense_76 (Dense)            (None, 30)                540       \n",
            "                                                                 \n",
            " dropout_38 (Dropout)        (None, 30)                0         \n",
            "                                                                 \n",
            " dense_77 (Dense)            (None, 15)                465       \n",
            "                                                                 \n",
            " activation_19 (Activation)  (None, 15)                0         \n",
            "                                                                 \n",
            " dropout_39 (Dropout)        (None, 15)                0         \n",
            "                                                                 \n",
            " dense_78 (Dense)            (None, 5)                 80        \n",
            "                                                                 \n",
            " dense_79 (Dense)            (None, 1)                 6         \n",
            "                                                                 \n",
            "=================================================================\n",
            "Total params: 1,091\n",
            "Trainable params: 1,091\n",
            "Non-trainable params: 0\n",
            "_________________________________________________________________\n"
          ]
        }
      ]
    },
    {
      "cell_type": "code",
      "source": [
        "# Parameters settings\n",
        "callbacks = [EarlyStopping(monitor='val_loss', patience=10, verbose=1),\n",
        "             ReduceLROnPlateau(monitor='val_loss', factor=0.1, patience=2, verbose=1),\n",
        "             TerminateOnNaN()]\n",
        "\n",
        "\n",
        "batch_size = 32\n",
        "n_epochs = 70\n",
        "\n",
        "# train\n",
        "history = model.fit(X_train_sel, y_train, epochs=n_epochs, batch_size=batch_size, verbose = 2,\n",
        "                validation_data=(X_val_sel, y_val),\n",
        "                callbacks = callbacks,\n",
        "                )"
      ],
      "metadata": {
        "colab": {
          "base_uri": "https://localhost:8080/"
        },
        "id": "5LOLf4l33R7N",
        "outputId": "d81c8eaf-06cc-462c-f411-6814c988ed7e"
      },
      "execution_count": 226,
      "outputs": [
        {
          "output_type": "stream",
          "name": "stdout",
          "text": [
            "Epoch 1/70\n",
            "10/10 - 2s - loss: 0.7856 - accuracy: 0.4164 - val_loss: 0.7883 - val_accuracy: 0.3931 - lr: 0.0010 - 2s/epoch - 206ms/step\n",
            "Epoch 2/70\n",
            "10/10 - 0s - loss: 0.7686 - accuracy: 0.4164 - val_loss: 0.7675 - val_accuracy: 0.3931 - lr: 0.0010 - 71ms/epoch - 7ms/step\n",
            "Epoch 3/70\n",
            "10/10 - 0s - loss: 0.7484 - accuracy: 0.4164 - val_loss: 0.7500 - val_accuracy: 0.3931 - lr: 0.0010 - 72ms/epoch - 7ms/step\n",
            "Epoch 4/70\n",
            "10/10 - 0s - loss: 0.7354 - accuracy: 0.4164 - val_loss: 0.7348 - val_accuracy: 0.3862 - lr: 0.0010 - 71ms/epoch - 7ms/step\n",
            "Epoch 5/70\n",
            "10/10 - 0s - loss: 0.7254 - accuracy: 0.4164 - val_loss: 0.7217 - val_accuracy: 0.3862 - lr: 0.0010 - 87ms/epoch - 9ms/step\n",
            "Epoch 6/70\n",
            "10/10 - 0s - loss: 0.7091 - accuracy: 0.4198 - val_loss: 0.7094 - val_accuracy: 0.3724 - lr: 0.0010 - 72ms/epoch - 7ms/step\n",
            "Epoch 7/70\n",
            "10/10 - 0s - loss: 0.7087 - accuracy: 0.4232 - val_loss: 0.6995 - val_accuracy: 0.3931 - lr: 0.0010 - 82ms/epoch - 8ms/step\n",
            "Epoch 8/70\n",
            "10/10 - 0s - loss: 0.6962 - accuracy: 0.4949 - val_loss: 0.6908 - val_accuracy: 0.5586 - lr: 0.0010 - 76ms/epoch - 8ms/step\n",
            "Epoch 9/70\n",
            "10/10 - 0s - loss: 0.6874 - accuracy: 0.5904 - val_loss: 0.6836 - val_accuracy: 0.6759 - lr: 0.0010 - 84ms/epoch - 8ms/step\n",
            "Epoch 10/70\n",
            "10/10 - 0s - loss: 0.6858 - accuracy: 0.5802 - val_loss: 0.6776 - val_accuracy: 0.6828 - lr: 0.0010 - 87ms/epoch - 9ms/step\n",
            "Epoch 11/70\n",
            "10/10 - 0s - loss: 0.6804 - accuracy: 0.6348 - val_loss: 0.6727 - val_accuracy: 0.6690 - lr: 0.0010 - 75ms/epoch - 7ms/step\n",
            "Epoch 12/70\n",
            "10/10 - 0s - loss: 0.6792 - accuracy: 0.6177 - val_loss: 0.6681 - val_accuracy: 0.6345 - lr: 0.0010 - 84ms/epoch - 8ms/step\n",
            "Epoch 13/70\n",
            "10/10 - 0s - loss: 0.6708 - accuracy: 0.6348 - val_loss: 0.6640 - val_accuracy: 0.6207 - lr: 0.0010 - 75ms/epoch - 8ms/step\n",
            "Epoch 14/70\n",
            "10/10 - 0s - loss: 0.6708 - accuracy: 0.5904 - val_loss: 0.6601 - val_accuracy: 0.6552 - lr: 0.0010 - 72ms/epoch - 7ms/step\n",
            "Epoch 15/70\n",
            "10/10 - 0s - loss: 0.6685 - accuracy: 0.6212 - val_loss: 0.6570 - val_accuracy: 0.6621 - lr: 0.0010 - 81ms/epoch - 8ms/step\n",
            "Epoch 16/70\n",
            "10/10 - 0s - loss: 0.6621 - accuracy: 0.6689 - val_loss: 0.6542 - val_accuracy: 0.6621 - lr: 0.0010 - 85ms/epoch - 9ms/step\n",
            "Epoch 17/70\n",
            "10/10 - 0s - loss: 0.6561 - accuracy: 0.6894 - val_loss: 0.6509 - val_accuracy: 0.6552 - lr: 0.0010 - 79ms/epoch - 8ms/step\n",
            "Epoch 18/70\n",
            "10/10 - 0s - loss: 0.6615 - accuracy: 0.6246 - val_loss: 0.6475 - val_accuracy: 0.6483 - lr: 0.0010 - 89ms/epoch - 9ms/step\n",
            "Epoch 19/70\n",
            "10/10 - 0s - loss: 0.6605 - accuracy: 0.6451 - val_loss: 0.6444 - val_accuracy: 0.6552 - lr: 0.0010 - 73ms/epoch - 7ms/step\n",
            "Epoch 20/70\n",
            "10/10 - 0s - loss: 0.6589 - accuracy: 0.6314 - val_loss: 0.6414 - val_accuracy: 0.6621 - lr: 0.0010 - 73ms/epoch - 7ms/step\n",
            "Epoch 21/70\n",
            "10/10 - 0s - loss: 0.6631 - accuracy: 0.6212 - val_loss: 0.6383 - val_accuracy: 0.6759 - lr: 0.0010 - 90ms/epoch - 9ms/step\n",
            "Epoch 22/70\n",
            "10/10 - 0s - loss: 0.6488 - accuracy: 0.6519 - val_loss: 0.6357 - val_accuracy: 0.6966 - lr: 0.0010 - 86ms/epoch - 9ms/step\n",
            "Epoch 23/70\n",
            "10/10 - 0s - loss: 0.6541 - accuracy: 0.6621 - val_loss: 0.6329 - val_accuracy: 0.6966 - lr: 0.0010 - 79ms/epoch - 8ms/step\n",
            "Epoch 24/70\n",
            "10/10 - 0s - loss: 0.6560 - accuracy: 0.6348 - val_loss: 0.6300 - val_accuracy: 0.7034 - lr: 0.0010 - 95ms/epoch - 9ms/step\n",
            "Epoch 25/70\n",
            "10/10 - 0s - loss: 0.6465 - accuracy: 0.6348 - val_loss: 0.6268 - val_accuracy: 0.6966 - lr: 0.0010 - 71ms/epoch - 7ms/step\n",
            "Epoch 26/70\n",
            "10/10 - 0s - loss: 0.6450 - accuracy: 0.6587 - val_loss: 0.6246 - val_accuracy: 0.6966 - lr: 0.0010 - 85ms/epoch - 8ms/step\n",
            "Epoch 27/70\n",
            "10/10 - 0s - loss: 0.6479 - accuracy: 0.6758 - val_loss: 0.6214 - val_accuracy: 0.7034 - lr: 0.0010 - 75ms/epoch - 7ms/step\n",
            "Epoch 28/70\n",
            "10/10 - 0s - loss: 0.6381 - accuracy: 0.6997 - val_loss: 0.6179 - val_accuracy: 0.7103 - lr: 0.0010 - 74ms/epoch - 7ms/step\n",
            "Epoch 29/70\n",
            "10/10 - 0s - loss: 0.6367 - accuracy: 0.6724 - val_loss: 0.6145 - val_accuracy: 0.7172 - lr: 0.0010 - 90ms/epoch - 9ms/step\n",
            "Epoch 30/70\n",
            "10/10 - 0s - loss: 0.6410 - accuracy: 0.6689 - val_loss: 0.6115 - val_accuracy: 0.7103 - lr: 0.0010 - 84ms/epoch - 8ms/step\n",
            "Epoch 31/70\n",
            "10/10 - 0s - loss: 0.6278 - accuracy: 0.7065 - val_loss: 0.6083 - val_accuracy: 0.7172 - lr: 0.0010 - 77ms/epoch - 8ms/step\n",
            "Epoch 32/70\n",
            "10/10 - 0s - loss: 0.6268 - accuracy: 0.6724 - val_loss: 0.6045 - val_accuracy: 0.7103 - lr: 0.0010 - 83ms/epoch - 8ms/step\n",
            "Epoch 33/70\n",
            "10/10 - 0s - loss: 0.6273 - accuracy: 0.7065 - val_loss: 0.6021 - val_accuracy: 0.7310 - lr: 0.0010 - 84ms/epoch - 8ms/step\n",
            "Epoch 34/70\n",
            "10/10 - 0s - loss: 0.6225 - accuracy: 0.6689 - val_loss: 0.5979 - val_accuracy: 0.7310 - lr: 0.0010 - 94ms/epoch - 9ms/step\n",
            "Epoch 35/70\n",
            "10/10 - 0s - loss: 0.6192 - accuracy: 0.7065 - val_loss: 0.5949 - val_accuracy: 0.7448 - lr: 0.0010 - 78ms/epoch - 8ms/step\n",
            "Epoch 36/70\n",
            "10/10 - 0s - loss: 0.6179 - accuracy: 0.7133 - val_loss: 0.5918 - val_accuracy: 0.7517 - lr: 0.0010 - 83ms/epoch - 8ms/step\n",
            "Epoch 37/70\n",
            "10/10 - 0s - loss: 0.6168 - accuracy: 0.7133 - val_loss: 0.5895 - val_accuracy: 0.7517 - lr: 0.0010 - 74ms/epoch - 7ms/step\n",
            "Epoch 38/70\n",
            "10/10 - 0s - loss: 0.6213 - accuracy: 0.7031 - val_loss: 0.5867 - val_accuracy: 0.7586 - lr: 0.0010 - 80ms/epoch - 8ms/step\n",
            "Epoch 39/70\n",
            "10/10 - 0s - loss: 0.6095 - accuracy: 0.7270 - val_loss: 0.5841 - val_accuracy: 0.7586 - lr: 0.0010 - 78ms/epoch - 8ms/step\n",
            "Epoch 40/70\n",
            "10/10 - 0s - loss: 0.6090 - accuracy: 0.7235 - val_loss: 0.5811 - val_accuracy: 0.7724 - lr: 0.0010 - 126ms/epoch - 13ms/step\n",
            "Epoch 41/70\n",
            "10/10 - 0s - loss: 0.6016 - accuracy: 0.7509 - val_loss: 0.5800 - val_accuracy: 0.7586 - lr: 0.0010 - 99ms/epoch - 10ms/step\n",
            "Epoch 42/70\n",
            "10/10 - 0s - loss: 0.6050 - accuracy: 0.7372 - val_loss: 0.5774 - val_accuracy: 0.7724 - lr: 0.0010 - 107ms/epoch - 11ms/step\n",
            "Epoch 43/70\n",
            "10/10 - 0s - loss: 0.6051 - accuracy: 0.7133 - val_loss: 0.5751 - val_accuracy: 0.7724 - lr: 0.0010 - 98ms/epoch - 10ms/step\n",
            "Epoch 44/70\n",
            "10/10 - 0s - loss: 0.5982 - accuracy: 0.7133 - val_loss: 0.5745 - val_accuracy: 0.7655 - lr: 0.0010 - 110ms/epoch - 11ms/step\n",
            "Epoch 45/70\n",
            "10/10 - 0s - loss: 0.5898 - accuracy: 0.7543 - val_loss: 0.5732 - val_accuracy: 0.7517 - lr: 0.0010 - 96ms/epoch - 10ms/step\n",
            "Epoch 46/70\n",
            "10/10 - 0s - loss: 0.5872 - accuracy: 0.7304 - val_loss: 0.5715 - val_accuracy: 0.7586 - lr: 0.0010 - 75ms/epoch - 8ms/step\n",
            "Epoch 47/70\n",
            "10/10 - 0s - loss: 0.5865 - accuracy: 0.7611 - val_loss: 0.5686 - val_accuracy: 0.7586 - lr: 0.0010 - 87ms/epoch - 9ms/step\n",
            "Epoch 48/70\n",
            "10/10 - 0s - loss: 0.5932 - accuracy: 0.7474 - val_loss: 0.5664 - val_accuracy: 0.7586 - lr: 0.0010 - 96ms/epoch - 10ms/step\n",
            "Epoch 49/70\n",
            "10/10 - 0s - loss: 0.5928 - accuracy: 0.7235 - val_loss: 0.5630 - val_accuracy: 0.7655 - lr: 0.0010 - 83ms/epoch - 8ms/step\n",
            "Epoch 50/70\n",
            "10/10 - 0s - loss: 0.5880 - accuracy: 0.7406 - val_loss: 0.5602 - val_accuracy: 0.7655 - lr: 0.0010 - 120ms/epoch - 12ms/step\n",
            "Epoch 51/70\n",
            "10/10 - 0s - loss: 0.5845 - accuracy: 0.7372 - val_loss: 0.5589 - val_accuracy: 0.7655 - lr: 0.0010 - 106ms/epoch - 11ms/step\n",
            "Epoch 52/70\n",
            "10/10 - 0s - loss: 0.5820 - accuracy: 0.7645 - val_loss: 0.5577 - val_accuracy: 0.7655 - lr: 0.0010 - 86ms/epoch - 9ms/step\n",
            "Epoch 53/70\n",
            "10/10 - 0s - loss: 0.5669 - accuracy: 0.7679 - val_loss: 0.5560 - val_accuracy: 0.7655 - lr: 0.0010 - 78ms/epoch - 8ms/step\n",
            "Epoch 54/70\n",
            "10/10 - 0s - loss: 0.5603 - accuracy: 0.7645 - val_loss: 0.5536 - val_accuracy: 0.7655 - lr: 0.0010 - 92ms/epoch - 9ms/step\n",
            "Epoch 55/70\n",
            "10/10 - 0s - loss: 0.5628 - accuracy: 0.7679 - val_loss: 0.5512 - val_accuracy: 0.7655 - lr: 0.0010 - 85ms/epoch - 8ms/step\n",
            "Epoch 56/70\n",
            "10/10 - 0s - loss: 0.5701 - accuracy: 0.7679 - val_loss: 0.5506 - val_accuracy: 0.7448 - lr: 0.0010 - 78ms/epoch - 8ms/step\n",
            "Epoch 57/70\n",
            "10/10 - 0s - loss: 0.5632 - accuracy: 0.7645 - val_loss: 0.5512 - val_accuracy: 0.7448 - lr: 0.0010 - 73ms/epoch - 7ms/step\n",
            "Epoch 58/70\n",
            "\n",
            "Epoch 58: ReduceLROnPlateau reducing learning rate to 0.00010000000474974513.\n",
            "10/10 - 0s - loss: 0.5578 - accuracy: 0.7713 - val_loss: 0.5519 - val_accuracy: 0.7448 - lr: 0.0010 - 77ms/epoch - 8ms/step\n",
            "Epoch 59/70\n",
            "10/10 - 0s - loss: 0.5589 - accuracy: 0.7679 - val_loss: 0.5519 - val_accuracy: 0.7448 - lr: 1.0000e-04 - 80ms/epoch - 8ms/step\n",
            "Epoch 60/70\n",
            "\n",
            "Epoch 60: ReduceLROnPlateau reducing learning rate to 1.0000000474974514e-05.\n",
            "10/10 - 0s - loss: 0.5620 - accuracy: 0.7611 - val_loss: 0.5515 - val_accuracy: 0.7448 - lr: 1.0000e-04 - 77ms/epoch - 8ms/step\n",
            "Epoch 61/70\n",
            "10/10 - 0s - loss: 0.5653 - accuracy: 0.7338 - val_loss: 0.5514 - val_accuracy: 0.7448 - lr: 1.0000e-05 - 72ms/epoch - 7ms/step\n",
            "Epoch 62/70\n",
            "\n",
            "Epoch 62: ReduceLROnPlateau reducing learning rate to 1.0000000656873453e-06.\n",
            "10/10 - 0s - loss: 0.5535 - accuracy: 0.7713 - val_loss: 0.5514 - val_accuracy: 0.7448 - lr: 1.0000e-05 - 73ms/epoch - 7ms/step\n",
            "Epoch 63/70\n",
            "10/10 - 0s - loss: 0.5522 - accuracy: 0.7713 - val_loss: 0.5514 - val_accuracy: 0.7448 - lr: 1.0000e-06 - 71ms/epoch - 7ms/step\n",
            "Epoch 64/70\n",
            "\n",
            "Epoch 64: ReduceLROnPlateau reducing learning rate to 1.0000001111620805e-07.\n",
            "10/10 - 0s - loss: 0.5720 - accuracy: 0.7611 - val_loss: 0.5514 - val_accuracy: 0.7448 - lr: 1.0000e-06 - 70ms/epoch - 7ms/step\n",
            "Epoch 65/70\n",
            "10/10 - 0s - loss: 0.5571 - accuracy: 0.7713 - val_loss: 0.5514 - val_accuracy: 0.7448 - lr: 1.0000e-07 - 66ms/epoch - 7ms/step\n",
            "Epoch 66/70\n",
            "\n",
            "Epoch 66: ReduceLROnPlateau reducing learning rate to 1.000000082740371e-08.\n",
            "10/10 - 0s - loss: 0.5642 - accuracy: 0.7372 - val_loss: 0.5514 - val_accuracy: 0.7448 - lr: 1.0000e-07 - 67ms/epoch - 7ms/step\n",
            "Epoch 66: early stopping\n"
          ]
        }
      ]
    },
    {
      "cell_type": "code",
      "source": [
        "plt.plot(history.history['loss'])\n",
        "plt.plot(history.history['val_loss'])\n",
        "plt.yscale('log')\n",
        "plt.title('Training History')\n",
        "plt.ylabel('loss')\n",
        "plt.xlabel('epoch')\n",
        "plt.legend(['training', 'validation'], loc='upper right')\n",
        "plt.show()"
      ],
      "metadata": {
        "colab": {
          "base_uri": "https://localhost:8080/",
          "height": 472
        },
        "id": "csc44yoE3R4C",
        "outputId": "13a7190d-6dff-41e0-ec30-ad366f953b23"
      },
      "execution_count": 227,
      "outputs": [
        {
          "output_type": "display_data",
          "data": {
            "text/plain": [
              "<Figure size 640x480 with 1 Axes>"
            ],
            "image/png": "[encoded data removed]"
          },
          "metadata": {}
        }
      ]
    },
    {
      "cell_type": "code",
      "source": [
        "y_pred = model.predict(X_val_sel)\n",
        "\n",
        "fpr, tpr, thresholds = roc_curve(y_val, y_pred)\n",
        "roc_auc = roc_auc_score(y_val, y_pred)\n",
        "plt.figure(figsize=(5, 4))\n",
        "plt.plot(fpr, tpr, color='darkorange', lw=2, label='ROC curve (area = %0.2f)' % roc_auc)\n",
        "plt.plot([0, 1], [0, 1], color='navy', lw=2, linestyle='--')\n",
        "plt.xlim([0.0, 1.0])\n",
        "plt.ylim([0.0, 1.05])\n",
        "plt.xlabel('FPR')\n",
        "plt.ylabel('TPR')\n",
        "plt.title('Receiver Operating Characteristic (ROC)')\n",
        "plt.legend(loc=\"lower right\")\n",
        "plt.show()"
      ],
      "metadata": {
        "colab": {
          "base_uri": "https://localhost:8080/",
          "height": 427
        },
        "id": "3czQMaAs3R0u",
        "outputId": "b047d721-8640-46e7-c7eb-54095575d7a0"
      },
      "execution_count": 228,
      "outputs": [
        {
          "output_type": "stream",
          "name": "stdout",
          "text": [
            "5/5 [==============================] - 0s 3ms/step\n"
          ]
        },
        {
          "output_type": "display_data",
          "data": {
            "text/plain": [
              "<Figure size 500x400 with 1 Axes>"
            ],
            "image/png": "[encoded data removed]"
          },
          "metadata": {}
        }
      ]
    },
    {
      "cell_type": "code",
      "source": [
        "y_pred = model.predict(X_val_sel)\n",
        "\n",
        "cm = confusion_matrix(y_val, y_pred>0.5)\n",
        "f = sns.heatmap(cm, annot=True)\n",
        "plt.title('Confusion matrix for MLP')\n",
        "plt.plot()\n",
        "plt.show()"
      ],
      "metadata": {
        "colab": {
          "base_uri": "https://localhost:8080/",
          "height": 469
        },
        "id": "OTwKqsbKl4Rq",
        "outputId": "2083c05a-3ce6-4a25-e7c3-8455336c4067"
      },
      "execution_count": 229,
      "outputs": [
        {
          "output_type": "stream",
          "name": "stdout",
          "text": [
            "5/5 [==============================] - 0s 3ms/step\n"
          ]
        },
        {
          "output_type": "display_data",
          "data": {
            "text/plain": [
              "<Figure size 640x480 with 2 Axes>"
            ],
            "image/png": "[encoded data removed]"
          },
          "metadata": {}
        }
      ]
    },
    {
      "cell_type": "markdown",
      "source": [
        "Let's try with the K fold"
      ],
      "metadata": {
        "id": "GdPzhu18u4xB"
      }
    },
    {
      "cell_type": "code",
      "source": [
        "inputs = np.concatenate((X_train_sel, X_val_sel), axis=0)\n",
        "targets= np.concatenate((y_train, y_val), axis=0)"
      ],
      "metadata": {
        "id": "Ge5r74SfGLt0"
      },
      "execution_count": 258,
      "outputs": []
    },
    {
      "cell_type": "code",
      "source": [
        "acc_per_fold = []\n",
        "loss_per_fold = []"
      ],
      "metadata": {
        "id": "q76LiZ_lHCUR"
      },
      "execution_count": 259,
      "outputs": []
    },
    {
      "cell_type": "code",
      "source": [
        "n_splits = 3\n",
        "skf = StratifiedKFold(n_splits=n_splits, shuffle=True, random_state=42)"
      ],
      "metadata": {
        "id": "PwAUMKLkHSOF"
      },
      "execution_count": 260,
      "outputs": []
    },
    {
      "cell_type": "code",
      "source": [
        "# Define the model architecture\n",
        "input_shape = inputs.shape[1]\n",
        "dropoutRate = 0.3\n",
        "\n",
        "inputArray = Input(shape=(input_shape,))\n",
        "x = Dense(40, activation='relu')(inputArray)\n",
        "x = Dropout(dropoutRate)(x)\n",
        "x = Dense(20)(x)\n",
        "x = Activation('sigmoid')(x)\n",
        "x = Dropout(dropoutRate)(x)\n",
        "x = Dense(5, activation='sigmoid')(x)\n",
        "output = Dense(1, activation='sigmoid')(x)\n",
        "model = Model(inputs=inputArray, outputs=output)\n",
        "\n",
        "# Compile the model\n",
        "model.compile(loss='binary_crossentropy', optimizer=keras.optimizers.Adam(0.002), metrics=['accuracy'])\n",
        "model.summary()\n",
        "\n",
        "#Loop through the folds\n",
        "for fold_no, (train, test) in enumerate(skf.split(inputs, targets), 1):\n",
        "    print('------------------------------------------------------------------------')\n",
        "    print(f'Training for fold {fold_no} ...')\n",
        "\n",
        "    seed_value = 42\n",
        "    np.random.seed(seed_value)\n",
        "    tf.random.set_seed(seed_value)\n",
        "\n",
        "    batch_size = 32\n",
        "    n_epochs = 50\n",
        "\n",
        "    # Train the model\n",
        "    history = model.fit(inputs[train], targets[train], epochs=n_epochs, batch_size=batch_size, verbose=1,\n",
        "                        callbacks=[EarlyStopping(monitor='val_loss', patience=10, verbose=1),\n",
        "                                   ReduceLROnPlateau(monitor='val_loss', factor=0.1, patience=2, verbose=1),\n",
        "                                   TerminateOnNaN()],\n",
        "                        validation_data=(inputs[test], targets[test]))\n",
        "\n",
        "    # Evaluate the model\n",
        "    scores = model.evaluate(inputs[test], targets[test], verbose=0)\n",
        "    print(f'Score for fold {fold_no}: {model.metrics_names[0]} of {scores[0]}; {model.metrics_names[1]} of {scores[1] * 100}%')\n",
        "    acc_per_fold.append(scores[1] * 100)\n",
        "    loss_per_fold.append(scores[0])\n",
        "\n",
        "# Calculate and print average accuracy and loss\n",
        "print('------------------------------------------------------------------------')\n",
        "print('Score per fold:')\n",
        "for i in range(n_splits):\n",
        "    print(f'Fold {i + 1} - Loss: {loss_per_fold[i]} - Accuracy: {acc_per_fold[i]}%')\n",
        "print('------------------------------------------------------------------------')\n",
        "print('Average scores for all folds:')\n",
        "print(f'Accuracy: {np.mean(acc_per_fold)} (+- {np.std(acc_per_fold)})')\n",
        "print(f'Loss: {np.mean(loss_per_fold)}')"
      ],
      "metadata": {
        "colab": {
          "base_uri": "https://localhost:8080/"
        },
        "id": "arWf-g0DBx0A",
        "outputId": "a85d8a2e-2c6f-4b9b-ee1a-aa01400edf7d"
      },
      "execution_count": 261,
      "outputs": [
        {
          "output_type": "stream",
          "name": "stdout",
          "text": [
            "Model: \"model_28\"\n",
            "_________________________________________________________________\n",
            " Layer (type)                Output Shape              Param #   \n",
            "=================================================================\n",
            " input_29 (InputLayer)       [(None, 17)]              0         \n",
            "                                                                 \n",
            " dense_112 (Dense)           (None, 40)                720       \n",
            "                                                                 \n",
            " dropout_56 (Dropout)        (None, 40)                0         \n",
            "                                                                 \n",
            " dense_113 (Dense)           (None, 20)                820       \n",
            "                                                                 \n",
            " activation_28 (Activation)  (None, 20)                0         \n",
            "                                                                 \n",
            " dropout_57 (Dropout)        (None, 20)                0         \n",
            "                                                                 \n",
            " dense_114 (Dense)           (None, 5)                 105       \n",
            "                                                                 \n",
            " dense_115 (Dense)           (None, 1)                 6         \n",
            "                                                                 \n",
            "=================================================================\n",
            "Total params: 1,651\n",
            "Trainable params: 1,651\n",
            "Non-trainable params: 0\n",
            "_________________________________________________________________\n",
            "------------------------------------------------------------------------\n",
            "Training for fold 1 ...\n",
            "Epoch 1/50\n",
            "10/10 [==============================] - 2s 42ms/step - loss: 0.8409 - accuracy: 0.4075 - val_loss: 0.7827 - val_accuracy: 0.4110 - lr: 0.0020\n",
            "Epoch 2/50\n",
            "10/10 [==============================] - 0s 9ms/step - loss: 0.7707 - accuracy: 0.4075 - val_loss: 0.7338 - val_accuracy: 0.4110 - lr: 0.0020\n",
            "Epoch 3/50\n",
            "10/10 [==============================] - 0s 7ms/step - loss: 0.7236 - accuracy: 0.4384 - val_loss: 0.7020 - val_accuracy: 0.4452 - lr: 0.0020\n",
            "Epoch 4/50\n",
            "10/10 [==============================] - 0s 9ms/step - loss: 0.7037 - accuracy: 0.4795 - val_loss: 0.6832 - val_accuracy: 0.5822 - lr: 0.0020\n",
            "Epoch 5/50\n",
            "10/10 [==============================] - 0s 7ms/step - loss: 0.6821 - accuracy: 0.5788 - val_loss: 0.6713 - val_accuracy: 0.6233 - lr: 0.0020\n",
            "Epoch 6/50\n",
            "10/10 [==============================] - 0s 8ms/step - loss: 0.6651 - accuracy: 0.6199 - val_loss: 0.6638 - val_accuracy: 0.6027 - lr: 0.0020\n",
            "Epoch 7/50\n",
            "10/10 [==============================] - 0s 9ms/step - loss: 0.6592 - accuracy: 0.6096 - val_loss: 0.6596 - val_accuracy: 0.6233 - lr: 0.0020\n",
            "Epoch 8/50\n",
            "10/10 [==============================] - 0s 8ms/step - loss: 0.6409 - accuracy: 0.6747 - val_loss: 0.6562 - val_accuracy: 0.6233 - lr: 0.0020\n",
            "Epoch 9/50\n",
            "10/10 [==============================] - 0s 8ms/step - loss: 0.6479 - accuracy: 0.6541 - val_loss: 0.6532 - val_accuracy: 0.6301 - lr: 0.0020\n",
            "Epoch 10/50\n",
            "10/10 [==============================] - 0s 8ms/step - loss: 0.6425 - accuracy: 0.6610 - val_loss: 0.6499 - val_accuracy: 0.6301 - lr: 0.0020\n",
            "Epoch 11/50\n",
            "10/10 [==============================] - 0s 9ms/step - loss: 0.6317 - accuracy: 0.6849 - val_loss: 0.6471 - val_accuracy: 0.6370 - lr: 0.0020\n",
            "Epoch 12/50\n",
            "10/10 [==============================] - 0s 8ms/step - loss: 0.6355 - accuracy: 0.6918 - val_loss: 0.6445 - val_accuracy: 0.6370 - lr: 0.0020\n",
            "Epoch 13/50\n",
            "10/10 [==============================] - 0s 9ms/step - loss: 0.6180 - accuracy: 0.7055 - val_loss: 0.6421 - val_accuracy: 0.6370 - lr: 0.0020\n",
            "Epoch 14/50\n",
            "10/10 [==============================] - 0s 8ms/step - loss: 0.6243 - accuracy: 0.6815 - val_loss: 0.6391 - val_accuracy: 0.6370 - lr: 0.0020\n",
            "Epoch 15/50\n",
            "10/10 [==============================] - 0s 7ms/step - loss: 0.6176 - accuracy: 0.6884 - val_loss: 0.6361 - val_accuracy: 0.6438 - lr: 0.0020\n",
            "Epoch 16/50\n",
            "10/10 [==============================] - 0s 7ms/step - loss: 0.6135 - accuracy: 0.7123 - val_loss: 0.6340 - val_accuracy: 0.6301 - lr: 0.0020\n",
            "Epoch 17/50\n",
            "10/10 [==============================] - 0s 9ms/step - loss: 0.6007 - accuracy: 0.7021 - val_loss: 0.6313 - val_accuracy: 0.6096 - lr: 0.0020\n",
            "Epoch 18/50\n",
            "10/10 [==============================] - 0s 8ms/step - loss: 0.6057 - accuracy: 0.6918 - val_loss: 0.6276 - val_accuracy: 0.6301 - lr: 0.0020\n",
            "Epoch 19/50\n",
            "10/10 [==============================] - 0s 8ms/step - loss: 0.6018 - accuracy: 0.7055 - val_loss: 0.6248 - val_accuracy: 0.6233 - lr: 0.0020\n",
            "Epoch 20/50\n",
            "10/10 [==============================] - 0s 9ms/step - loss: 0.6021 - accuracy: 0.7192 - val_loss: 0.6198 - val_accuracy: 0.6370 - lr: 0.0020\n",
            "Epoch 21/50\n",
            "10/10 [==============================] - 0s 7ms/step - loss: 0.5860 - accuracy: 0.7500 - val_loss: 0.6148 - val_accuracy: 0.6712 - lr: 0.0020\n",
            "Epoch 22/50\n",
            "10/10 [==============================] - 0s 7ms/step - loss: 0.5886 - accuracy: 0.7226 - val_loss: 0.6099 - val_accuracy: 0.6849 - lr: 0.0020\n",
            "Epoch 23/50\n",
            "10/10 [==============================] - 0s 11ms/step - loss: 0.5789 - accuracy: 0.7295 - val_loss: 0.6054 - val_accuracy: 0.6918 - lr: 0.0020\n",
            "Epoch 24/50\n",
            "10/10 [==============================] - 0s 8ms/step - loss: 0.5841 - accuracy: 0.7295 - val_loss: 0.6020 - val_accuracy: 0.6849 - lr: 0.0020\n",
            "Epoch 25/50\n",
            "10/10 [==============================] - 0s 7ms/step - loss: 0.5726 - accuracy: 0.7432 - val_loss: 0.5979 - val_accuracy: 0.6986 - lr: 0.0020\n",
            "Epoch 26/50\n",
            "10/10 [==============================] - 0s 9ms/step - loss: 0.5636 - accuracy: 0.7466 - val_loss: 0.5937 - val_accuracy: 0.7055 - lr: 0.0020\n",
            "Epoch 27/50\n",
            "10/10 [==============================] - 0s 9ms/step - loss: 0.5661 - accuracy: 0.7466 - val_loss: 0.5922 - val_accuracy: 0.6986 - lr: 0.0020\n",
            "Epoch 28/50\n",
            "10/10 [==============================] - 0s 7ms/step - loss: 0.5640 - accuracy: 0.7192 - val_loss: 0.5860 - val_accuracy: 0.7192 - lr: 0.0020\n",
            "Epoch 29/50\n",
            "10/10 [==============================] - 0s 8ms/step - loss: 0.5557 - accuracy: 0.7500 - val_loss: 0.5780 - val_accuracy: 0.7192 - lr: 0.0020\n",
            "Epoch 30/50\n",
            "10/10 [==============================] - 0s 7ms/step - loss: 0.5590 - accuracy: 0.7466 - val_loss: 0.5730 - val_accuracy: 0.7260 - lr: 0.0020\n",
            "Epoch 31/50\n",
            "10/10 [==============================] - 0s 7ms/step - loss: 0.5388 - accuracy: 0.7637 - val_loss: 0.5710 - val_accuracy: 0.7329 - lr: 0.0020\n",
            "Epoch 32/50\n",
            "10/10 [==============================] - 0s 7ms/step - loss: 0.5443 - accuracy: 0.7500 - val_loss: 0.5709 - val_accuracy: 0.7260 - lr: 0.0020\n",
            "Epoch 33/50\n",
            "10/10 [==============================] - 0s 8ms/step - loss: 0.5359 - accuracy: 0.7774 - val_loss: 0.5688 - val_accuracy: 0.7329 - lr: 0.0020\n",
            "Epoch 34/50\n",
            "10/10 [==============================] - 0s 9ms/step - loss: 0.5309 - accuracy: 0.7705 - val_loss: 0.5683 - val_accuracy: 0.7329 - lr: 0.0020\n",
            "Epoch 35/50\n",
            "10/10 [==============================] - 0s 8ms/step - loss: 0.5300 - accuracy: 0.7671 - val_loss: 0.5609 - val_accuracy: 0.7329 - lr: 0.0020\n",
            "Epoch 36/50\n",
            "10/10 [==============================] - 0s 7ms/step - loss: 0.5292 - accuracy: 0.7637 - val_loss: 0.5550 - val_accuracy: 0.7260 - lr: 0.0020\n",
            "Epoch 37/50\n",
            "10/10 [==============================] - 0s 7ms/step - loss: 0.5293 - accuracy: 0.7397 - val_loss: 0.5470 - val_accuracy: 0.7397 - lr: 0.0020\n",
            "Epoch 38/50\n",
            "10/10 [==============================] - 0s 8ms/step - loss: 0.5205 - accuracy: 0.7637 - val_loss: 0.5391 - val_accuracy: 0.7603 - lr: 0.0020\n",
            "Epoch 39/50\n",
            "10/10 [==============================] - 0s 9ms/step - loss: 0.5195 - accuracy: 0.7774 - val_loss: 0.5311 - val_accuracy: 0.7534 - lr: 0.0020\n",
            "Epoch 40/50\n",
            "10/10 [==============================] - 0s 8ms/step - loss: 0.5043 - accuracy: 0.7774 - val_loss: 0.5278 - val_accuracy: 0.7603 - lr: 0.0020\n",
            "Epoch 41/50\n",
            "10/10 [==============================] - 0s 9ms/step - loss: 0.5184 - accuracy: 0.7568 - val_loss: 0.5263 - val_accuracy: 0.7603 - lr: 0.0020\n",
            "Epoch 42/50\n",
            "10/10 [==============================] - 0s 8ms/step - loss: 0.5007 - accuracy: 0.8014 - val_loss: 0.5154 - val_accuracy: 0.7603 - lr: 0.0020\n",
            "Epoch 43/50\n",
            "10/10 [==============================] - 0s 7ms/step - loss: 0.5077 - accuracy: 0.7911 - val_loss: 0.5025 - val_accuracy: 0.7740 - lr: 0.0020\n",
            "Epoch 44/50\n",
            "10/10 [==============================] - 0s 7ms/step - loss: 0.5080 - accuracy: 0.8048 - val_loss: 0.4969 - val_accuracy: 0.7877 - lr: 0.0020\n",
            "Epoch 45/50\n",
            "10/10 [==============================] - 0s 8ms/step - loss: 0.5040 - accuracy: 0.7740 - val_loss: 0.5022 - val_accuracy: 0.7671 - lr: 0.0020\n",
            "Epoch 46/50\n",
            " 1/10 [==>...........................] - ETA: 0s - loss: 0.4867 - accuracy: 0.7812\n",
            "Epoch 46: ReduceLROnPlateau reducing learning rate to 0.00020000000949949026.\n",
            "10/10 [==============================] - 0s 8ms/step - loss: 0.5084 - accuracy: 0.7705 - val_loss: 0.5043 - val_accuracy: 0.7671 - lr: 0.0020\n",
            "Epoch 47/50\n",
            "10/10 [==============================] - 0s 12ms/step - loss: 0.4902 - accuracy: 0.7877 - val_loss: 0.5050 - val_accuracy: 0.7534 - lr: 2.0000e-04\n",
            "Epoch 48/50\n",
            " 1/10 [==>...........................] - ETA: 0s - loss: 0.5028 - accuracy: 0.7500\n",
            "Epoch 48: ReduceLROnPlateau reducing learning rate to 2.0000000949949027e-05.\n",
            "10/10 [==============================] - 0s 11ms/step - loss: 0.5032 - accuracy: 0.7774 - val_loss: 0.5049 - val_accuracy: 0.7671 - lr: 2.0000e-04\n",
            "Epoch 49/50\n",
            "10/10 [==============================] - 0s 11ms/step - loss: 0.4802 - accuracy: 0.8082 - val_loss: 0.5049 - val_accuracy: 0.7671 - lr: 2.0000e-05\n",
            "Epoch 50/50\n",
            " 1/10 [==>...........................] - ETA: 0s - loss: 0.5710 - accuracy: 0.7188\n",
            "Epoch 50: ReduceLROnPlateau reducing learning rate to 2.0000001313746906e-06.\n",
            "10/10 [==============================] - 0s 10ms/step - loss: 0.5053 - accuracy: 0.7637 - val_loss: 0.5049 - val_accuracy: 0.7671 - lr: 2.0000e-05\n",
            "Score for fold 1: loss of 0.5048767924308777; accuracy of 76.7123281955719%\n",
            "------------------------------------------------------------------------\n",
            "Training for fold 2 ...\n",
            "Epoch 1/50\n",
            "10/10 [==============================] - 1s 27ms/step - loss: 0.5280 - accuracy: 0.7603 - val_loss: 0.4751 - val_accuracy: 0.8082 - lr: 2.0000e-06\n",
            "Epoch 2/50\n",
            "10/10 [==============================] - 0s 11ms/step - loss: 0.5059 - accuracy: 0.7842 - val_loss: 0.4751 - val_accuracy: 0.8082 - lr: 2.0000e-06\n",
            "Epoch 3/50\n",
            " 1/10 [==>...........................] - ETA: 0s - loss: 0.4474 - accuracy: 0.8438\n",
            "Epoch 3: ReduceLROnPlateau reducing learning rate to 2.000000222324161e-07.\n",
            "10/10 [==============================] - 0s 11ms/step - loss: 0.5156 - accuracy: 0.7705 - val_loss: 0.4751 - val_accuracy: 0.8082 - lr: 2.0000e-06\n",
            "Epoch 4/50\n",
            "10/10 [==============================] - 0s 12ms/step - loss: 0.5180 - accuracy: 0.7568 - val_loss: 0.4751 - val_accuracy: 0.8082 - lr: 2.0000e-07\n",
            "Epoch 5/50\n",
            " 1/10 [==>...........................] - ETA: 0s - loss: 0.5699 - accuracy: 0.6875\n",
            "Epoch 5: ReduceLROnPlateau reducing learning rate to 2.000000165480742e-08.\n",
            "10/10 [==============================] - 0s 12ms/step - loss: 0.5059 - accuracy: 0.7808 - val_loss: 0.4751 - val_accuracy: 0.8082 - lr: 2.0000e-07\n",
            "Epoch 6/50\n",
            "10/10 [==============================] - 0s 13ms/step - loss: 0.5081 - accuracy: 0.7637 - val_loss: 0.4751 - val_accuracy: 0.8082 - lr: 2.0000e-08\n",
            "Epoch 7/50\n",
            " 1/10 [==>...........................] - ETA: 0s - loss: 0.5044 - accuracy: 0.8438\n",
            "Epoch 7: ReduceLROnPlateau reducing learning rate to 2.000000165480742e-09.\n",
            "10/10 [==============================] - 0s 12ms/step - loss: 0.5017 - accuracy: 0.7979 - val_loss: 0.4751 - val_accuracy: 0.8082 - lr: 2.0000e-08\n",
            "Epoch 8/50\n",
            "10/10 [==============================] - 0s 12ms/step - loss: 0.5006 - accuracy: 0.7842 - val_loss: 0.4751 - val_accuracy: 0.8082 - lr: 2.0000e-09\n",
            "Epoch 9/50\n",
            " 1/10 [==>...........................] - ETA: 0s - loss: 0.4858 - accuracy: 0.8438\n",
            "Epoch 9: ReduceLROnPlateau reducing learning rate to 2.000000165480742e-10.\n",
            "10/10 [==============================] - 0s 13ms/step - loss: 0.5134 - accuracy: 0.7774 - val_loss: 0.4751 - val_accuracy: 0.8082 - lr: 2.0000e-09\n",
            "Epoch 10/50\n",
            "10/10 [==============================] - 0s 11ms/step - loss: 0.5093 - accuracy: 0.7568 - val_loss: 0.4751 - val_accuracy: 0.8082 - lr: 2.0000e-10\n",
            "Epoch 11/50\n",
            " 1/10 [==>...........................] - ETA: 0s - loss: 0.4888 - accuracy: 0.7812\n",
            "Epoch 11: ReduceLROnPlateau reducing learning rate to 2.000000165480742e-11.\n",
            "10/10 [==============================] - 0s 13ms/step - loss: 0.5152 - accuracy: 0.7774 - val_loss: 0.4751 - val_accuracy: 0.8082 - lr: 2.0000e-10\n",
            "Epoch 12/50\n",
            "10/10 [==============================] - 0s 14ms/step - loss: 0.5191 - accuracy: 0.7637 - val_loss: 0.4751 - val_accuracy: 0.8082 - lr: 2.0000e-11\n",
            "Epoch 12: early stopping\n",
            "Score for fold 2: loss of 0.47508448362350464; accuracy of 80.82191944122314%\n",
            "------------------------------------------------------------------------\n",
            "Training for fold 3 ...\n",
            "Epoch 1/50\n",
            "10/10 [==============================] - 0s 18ms/step - loss: 0.4842 - accuracy: 0.7945 - val_loss: 0.4636 - val_accuracy: 0.8219 - lr: 2.0000e-11\n",
            "Epoch 2/50\n",
            "10/10 [==============================] - 0s 9ms/step - loss: 0.5301 - accuracy: 0.7500 - val_loss: 0.4636 - val_accuracy: 0.8219 - lr: 2.0000e-11\n",
            "Epoch 3/50\n",
            " 1/10 [==>...........................] - ETA: 0s - loss: 0.4786 - accuracy: 0.8125\n",
            "Epoch 3: ReduceLROnPlateau reducing learning rate to 2.000000165480742e-12.\n",
            "10/10 [==============================] - 0s 8ms/step - loss: 0.5133 - accuracy: 0.7637 - val_loss: 0.4636 - val_accuracy: 0.8219 - lr: 2.0000e-11\n",
            "Epoch 4/50\n",
            "10/10 [==============================] - 0s 8ms/step - loss: 0.5272 - accuracy: 0.7637 - val_loss: 0.4636 - val_accuracy: 0.8219 - lr: 2.0000e-12\n",
            "Epoch 5/50\n",
            " 1/10 [==>...........................] - ETA: 0s - loss: 0.6463 - accuracy: 0.6875\n",
            "Epoch 5: ReduceLROnPlateau reducing learning rate to 2.000000208848829e-13.\n",
            "10/10 [==============================] - 0s 8ms/step - loss: 0.5050 - accuracy: 0.7877 - val_loss: 0.4636 - val_accuracy: 0.8219 - lr: 2.0000e-12\n",
            "Epoch 6/50\n",
            "10/10 [==============================] - 0s 7ms/step - loss: 0.5120 - accuracy: 0.7705 - val_loss: 0.4636 - val_accuracy: 0.8219 - lr: 2.0000e-13\n",
            "Epoch 7/50\n",
            " 1/10 [==>...........................] - ETA: 0s - loss: 0.4993 - accuracy: 0.7500\n",
            "Epoch 7: ReduceLROnPlateau reducing learning rate to 2.0000002359538835e-14.\n",
            "10/10 [==============================] - 0s 9ms/step - loss: 0.5109 - accuracy: 0.7637 - val_loss: 0.4636 - val_accuracy: 0.8219 - lr: 2.0000e-13\n",
            "Epoch 8/50\n",
            "10/10 [==============================] - 0s 7ms/step - loss: 0.5122 - accuracy: 0.7808 - val_loss: 0.4636 - val_accuracy: 0.8219 - lr: 2.0000e-14\n",
            "Epoch 9/50\n",
            " 1/10 [==>...........................] - ETA: 0s - loss: 0.4344 - accuracy: 0.8438\n",
            "Epoch 9: ReduceLROnPlateau reducing learning rate to 2.000000303716519e-15.\n",
            "10/10 [==============================] - 0s 9ms/step - loss: 0.5226 - accuracy: 0.7363 - val_loss: 0.4636 - val_accuracy: 0.8219 - lr: 2.0000e-14\n",
            "Epoch 10/50\n",
            "10/10 [==============================] - 0s 9ms/step - loss: 0.5007 - accuracy: 0.7671 - val_loss: 0.4636 - val_accuracy: 0.8219 - lr: 2.0000e-15\n",
            "Epoch 11/50\n",
            " 1/10 [==>...........................] - ETA: 0s - loss: 0.5200 - accuracy: 0.7812\n",
            "Epoch 11: ReduceLROnPlateau reducing learning rate to 2.0000002190132243e-16.\n",
            "10/10 [==============================] - 0s 9ms/step - loss: 0.5152 - accuracy: 0.7568 - val_loss: 0.4636 - val_accuracy: 0.8219 - lr: 2.0000e-15\n",
            "Epoch 11: early stopping\n",
            "Score for fold 3: loss of 0.463558554649353; accuracy of 82.19178318977356%\n",
            "------------------------------------------------------------------------\n",
            "Score per fold:\n",
            "Fold 1 - Loss: 0.5048767924308777 - Accuracy: 76.7123281955719%\n",
            "Fold 2 - Loss: 0.47508448362350464 - Accuracy: 80.82191944122314%\n",
            "Fold 3 - Loss: 0.463558554649353 - Accuracy: 82.19178318977356%\n",
            "------------------------------------------------------------------------\n",
            "Average scores for all folds:\n",
            "Accuracy: 79.90867694218953 (+- 2.3283206616073087)\n",
            "Loss: 0.4811732769012451\n"
          ]
        }
      ]
    }
  ],
  "metadata": {
    "colab": {
      "provenance": [],
      "gpuType": "T4",
      "include_colab_link": true
    },
    "kernelspec": {
      "display_name": "Python 3",
      "name": "python3"
    },
    "language_info": {
      "codemirror_mode": {
        "name": "ipython",
        "version": 3
      },
      "file_extension": ".py",
      "mimetype": "text/x-python",
      "name": "python",
      "nbconvert_exporter": "python",
      "pygments_lexer": "ipython3",
      "version": "3.9.12"
    },
    "accelerator": "GPU"
  },
  "nbformat": 4,
  "nbformat_minor": 0
}